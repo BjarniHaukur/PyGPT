{
 "cells": [
  {
   "cell_type": "code",
   "execution_count": 1,
   "metadata": {},
   "outputs": [],
   "source": [
    "%load_ext autoreload\n",
    "%autoreload 2\n",
    "\n",
    "from utils import BPETokenizer\n",
    "\n",
    "import torch\n",
    "import torch.nn as nn\n",
    "import torch.nn.functional as F\n",
    "\n",
    "import wandb"
   ]
  },
  {
   "cell_type": "code",
   "execution_count": 2,
   "metadata": {},
   "outputs": [],
   "source": [
    "train_files = open(\"data/PY150K/python100k_train.txt\", \"r\").read().split(\"\\n\")[:-1] # remove the last empty line\n",
    "# train_texts = [open(\"data/PY150K/\" + path, encoding='iso-8859-1').read() for path in train_files]\n",
    "\n",
    "# tokenizer = BPETokenizer(initial_tokens=\"\\n\".join(train_texts)) # ensure that all unary tokens in our training data exist in our vocabulary\n",
    "# tokenizer.fit(\"\\n\".join(train_texts[:1000]), 100) # fit the BPE on only the first 1000 files for computational reasons\n",
    "# tokenizer.save(\"py150k_large\")\n",
    "tokenizer = BPETokenizer.load(\"py150k_large\")"
   ]
  },
  {
   "cell_type": "code",
   "execution_count": 3,
   "metadata": {},
   "outputs": [
    {
     "name": "stdout",
     "output_type": "stream",
     "text": [
      "\u001b[48;2;194;224;255m# \u001b[48;2;255;218;194m-\u001b[48;2;194;255;208m*\u001b[48;2;255;194;224m-\u001b[48;2;218;255;194m \u001b[48;2;194;224;255mco\u001b[48;2;255;218;194mdi\u001b[48;2;194;255;208mn\u001b[48;2;255;194;224mg\u001b[48;2;218;255;194m: \u001b[48;2;194;224;255mu\u001b[48;2;255;218;194mt\u001b[48;2;194;255;208mf\u001b[48;2;255;194;224m-\u001b[48;2;218;255;194m8\u001b[48;2;194;224;255m \u001b[48;2;255;218;194m-\u001b[48;2;194;255;208m*\u001b[48;2;255;194;224m-\u001b[48;2;218;255;194m\n",
      "\u001b[48;2;194;224;255mf\u001b[48;2;255;218;194mro\u001b[48;2;194;255;208mm\u001b[48;2;255;194;224m \u001b[48;2;218;255;194m_\u001b[48;2;194;224;255m_\u001b[48;2;255;218;194mf\u001b[48;2;194;255;208mu\u001b[48;2;255;194;224mt\u001b[48;2;218;255;194mur\u001b[48;2;194;224;255me\u001b[48;2;255;218;194m_\u001b[48;2;194;255;208m_\u001b[48;2;255;194;224m \u001b[48;2;218;255;194mi\u001b[48;2;194;224;255mmp\u001b[48;2;255;218;194mor\u001b[48;2;194;255;208mt \u001b[48;2;255;194;224mun\u001b[48;2;218;255;194mi\u001b[48;2;194;224;255mco\u001b[48;2;255;218;194mde\u001b[48;2;194;255;208m_\u001b[48;2;255;194;224mli\u001b[48;2;218;255;194mte\u001b[48;2;194;224;255mr\u001b[48;2;255;218;194mal\u001b[48;2;194;255;208ms\u001b[48;2;255;194;224m\n",
      "\n",
      "\u001b[48;2;218;255;194mf\u001b[48;2;194;224;255mro\u001b[48;2;255;218;194mm\u001b[48;2;194;255;208m \u001b[48;2;255;194;224md\u001b[48;2;218;255;194mj\u001b[48;2;194;224;255mang\u001b[48;2;255;218;194mo\u001b[48;2;194;255;208m.\u001b[48;2;255;194;224md\u001b[48;2;218;255;194mb\u001b[48;2;194;224;255m \u001b[48;2;255;218;194mi\u001b[48;2;194;255;208mmp\u001b[48;2;255;194;224mor\u001b[48;2;218;255;194mt \u001b[48;2;194;224;255mmo\u001b[48;2;255;218;194mde\u001b[48;2;194;255;208ml\u001b[48;2;255;194;224ms\u001b[48;2;218;255;194m, \u001b[48;2;194;224;255mm\u001b[48;2;255;218;194mi\u001b[48;2;194;255;208mg\u001b[48;2;255;194;224mr\u001b[48;2;218;255;194mat\u001b[48;2;194;224;255mi\u001b[48;2;255;218;194mon\u001b[48;2;194;255;208ms\u001b[48;2;255;194;224m\n",
      "\n",
      "\u001b[48;2;218;255;194m\n",
      "\u001b[48;2;194;224;255mc\u001b[48;2;255;218;194ml\u001b[48;2;194;255;208mas\u001b[48;2;255;194;224ms \u001b[48;2;218;255;194mM\u001b[48;2;194;224;255mi\u001b[48;2;255;218;194mg\u001b[48;2;194;255;208mr\u001b[48;2;255;194;224mat\u001b[48;2;218;255;194mi\u001b[48;2;194;224;255mon\u001b[48;2;255;218;194m(\u001b[48;2;194;255;208mm\u001b[48;2;255;194;224mi\u001b[48;2;218;255;194mg\u001b[48;2;194;224;255mr\u001b[48;2;255;218;194mat\u001b[48;2;194;255;208mi\u001b[48;2;255;194;224mon\u001b[48;2;218;255;194ms.\u001b[48;2;194;224;255mM\u001b[48;2;255;218;194mi\u001b[48;2;194;255;208mg\u001b[48;2;255;194;224mr\u001b[48;2;218;255;194mat\u001b[48;2;194;224;255mi\u001b[48;2;255;218;194mon\u001b[48;2;194;255;208m)\u001b[48;2;255;194;224m:\u001b[48;2;218;255;194m\n",
      "\n",
      "\u001b[48;2;194;224;255m    \u001b[48;2;255;218;194mde\u001b[48;2;194;255;208mp\u001b[48;2;255;194;224men\u001b[48;2;218;255;194mde\u001b[48;2;194;224;255mn\u001b[48;2;255;218;194mc\u001b[48;2;194;255;208mi\u001b[48;2;255;194;224me\u001b[48;2;218;255;194ms \u001b[48;2;194;224;255m= \u001b[48;2;255;218;194m[\u001b[48;2;194;255;208m\n",
      "  \u001b[48;2;255;194;224m    \u001b[48;2;218;255;194m  \u001b[48;2;194;224;255m(\u001b[48;2;255;218;194m'\u001b[48;2;194;255;208mte\u001b[48;2;255;194;224mst\u001b[48;2;218;255;194mre\u001b[48;2;194;224;255mp\u001b[48;2;255;218;194mor\u001b[48;2;194;255;208mt\u001b[48;2;255;194;224m'\u001b[48;2;218;255;194m, \u001b[48;2;194;224;255m'\u001b[48;2;255;218;194m0\u001b[48;2;194;255;208m0\u001b[48;2;255;194;224m2\u001b[48;2;218;255;194m6\u001b[48;2;194;224;255m_\u001b[48;2;255;218;194mte\u001b[48;2;194;255;208mst\u001b[48;2;255;194;224mre\u001b[48;2;218;255;194ms\u001b[48;2;194;224;255mul\u001b[48;2;255;218;194mt_\u001b[48;2;194;255;208ml\u001b[48;2;255;194;224ma\u001b[48;2;218;255;194mun\u001b[48;2;194;224;255mch\u001b[48;2;255;218;194m_\u001b[48;2;194;255;208mi\u001b[48;2;255;194;224mte\u001b[48;2;218;255;194mm\u001b[48;2;194;224;255m_\u001b[48;2;255;218;194mid\u001b[48;2;194;255;208m'\u001b[48;2;255;194;224m)\u001b[48;2;218;255;194m,\u001b[48;2;194;224;255m\n",
      "  \u001b[48;2;255;218;194m  \u001b[48;2;194;255;208m]\u001b[48;2;255;194;224m\n",
      "\n",
      "\u001b[48;2;218;255;194m    \u001b[48;2;194;224;255mo\u001b[48;2;255;218;194mp\u001b[48;2;194;255;208mer\u001b[48;2;255;194;224mat\u001b[48;2;218;255;194mi\u001b[48;2;194;224;255mon\u001b[48;2;255;218;194ms \u001b[48;2;194;255;208m= \u001b[48;2;255;194;224m[\u001b[48;2;218;255;194m\n",
      "  \u001b[48;2;194;224;255m    \u001b[48;2;255;218;194m  \u001b[48;2;194;255;208mm\u001b[48;2;255;194;224mi\u001b[48;2;218;255;194mg\u001b[48;2;194;224;255mr\u001b[48;2;255;218;194mat\u001b[48;2;194;255;208mi\u001b[48;2;255;194;224mon\u001b[48;2;218;255;194ms.\u001b[48;2;194;224;255mA\u001b[48;2;255;218;194md\u001b[48;2;194;255;208md\u001b[48;2;255;194;224mF\u001b[48;2;218;255;194mi\u001b[48;2;194;224;255mel\u001b[48;2;255;218;194md\u001b[48;2;194;255;208m(\u001b[48;2;255;194;224m\n",
      "  \u001b[48;2;218;255;194m    \u001b[48;2;194;224;255m    \u001b[48;2;255;218;194m  \u001b[48;2;194;255;208mmo\u001b[48;2;255;194;224mde\u001b[48;2;218;255;194ml\u001b[48;2;194;224;255m_\u001b[48;2;255;218;194mn\u001b[48;2;194;255;208mam\u001b[48;2;255;194;224me\u001b[48;2;218;255;194m=\u001b[48;2;194;224;255m'\u001b[48;2;255;218;194mte\u001b[48;2;194;255;208mst\u001b[48;2;255;194;224mp\u001b[48;2;218;255;194ml\u001b[48;2;194;224;255man\u001b[48;2;255;218;194m'\u001b[48;2;194;255;208m,\u001b[48;2;255;194;224m\n",
      "  \u001b[48;2;218;255;194m    \u001b[48;2;194;224;255m    \u001b[48;2;255;218;194m  \u001b[48;2;194;255;208mn\u001b[48;2;255;194;224mam\u001b[48;2;218;255;194me\u001b[48;2;194;224;255m=\u001b[48;2;255;218;194m'\u001b[48;2;194;255;208mfi\u001b[48;2;255;194;224ml\u001b[48;2;218;255;194mte\u001b[48;2;194;224;255mr\u001b[48;2;255;218;194m'\u001b[48;2;194;255;208m,\u001b[48;2;255;194;224m\n",
      "  \u001b[48;2;218;255;194m    \u001b[48;2;194;224;255m    \u001b[48;2;255;218;194m  \u001b[48;2;194;255;208mfi\u001b[48;2;255;194;224mel\u001b[48;2;218;255;194md\u001b[48;2;194;224;255m=\u001b[48;2;255;218;194mmo\u001b[48;2;194;255;208mde\u001b[48;2;255;194;224ml\u001b[48;2;218;255;194ms.\u001b[48;2;194;224;255mT\u001b[48;2;255;218;194mex\u001b[48;2;194;255;208mt\u001b[48;2;255;194;224mF\u001b[48;2;218;255;194mi\u001b[48;2;194;224;255mel\u001b[48;2;255;218;194md\u001b[48;2;194;255;208m(\u001b[48;2;255;194;224mde\u001b[48;2;218;255;194mf\u001b[48;2;194;224;255ma\u001b[48;2;255;218;194mul\u001b[48;2;194;255;208mt\u001b[48;2;255;194;224m=\u001b[48;2;218;255;194mb\u001b[48;2;194;224;255m'\u001b[48;2;255;218;194m'\u001b[48;2;194;255;208m, \u001b[48;2;255;194;224mma\u001b[48;2;218;255;194mx\u001b[48;2;194;224;255m_\u001b[48;2;255;218;194mle\u001b[48;2;194;255;208mn\u001b[48;2;255;194;224mg\u001b[48;2;218;255;194mth\u001b[48;2;194;224;255m=\u001b[48;2;255;218;194m1\u001b[48;2;194;255;208m2\u001b[48;2;255;194;224m8\u001b[48;2;218;255;194m, \u001b[48;2;194;224;255mv\u001b[48;2;255;218;194mer\u001b[48;2;194;255;208mb\u001b[48;2;255;194;224mo\u001b[48;2;218;255;194mse\u001b[48;2;194;224;255m_\u001b[48;2;255;218;194mn\u001b[48;2;194;255;208mam\u001b[48;2;255;194;224me\u001b[48;2;218;255;194m=\u001b[48;2;194;224;255m'\u001b[48;2;255;218;194mS\u001b[48;2;194;255;208mt\u001b[48;2;255;194;224mar\u001b[48;2;218;255;194mte\u001b[48;2;194;224;255md \u001b[48;2;255;218;194mb\u001b[48;2;194;255;208my\u001b[48;2;255;194;224m \u001b[48;2;218;255;194mfi\u001b[48;2;194;224;255ml\u001b[48;2;255;218;194mte\u001b[48;2;194;255;208mr\u001b[48;2;255;194;224m'\u001b[48;2;218;255;194m, \u001b[48;2;194;224;255mb\u001b[48;2;255;218;194ml\u001b[48;2;194;255;208man\u001b[48;2;255;194;224mk\u001b[48;2;218;255;194m=\u001b[48;2;194;224;255mT\u001b[48;2;255;218;194mr\u001b[48;2;194;255;208mue\u001b[48;2;255;194;224m)\u001b[48;2;218;255;194m,\u001b[48;2;194;224;255m\n",
      "  \u001b[48;2;255;218;194m    \u001b[48;2;194;255;208m    \u001b[48;2;255;194;224m  \u001b[48;2;218;255;194mp\u001b[48;2;194;224;255mre\u001b[48;2;255;218;194mse\u001b[48;2;194;255;208mr\u001b[48;2;255;194;224mv\u001b[48;2;218;255;194me\u001b[48;2;194;224;255m_\u001b[48;2;255;218;194mde\u001b[48;2;194;255;208mf\u001b[48;2;255;194;224ma\u001b[48;2;218;255;194mul\u001b[48;2;194;224;255mt\u001b[48;2;255;218;194m=\u001b[48;2;194;255;208mT\u001b[48;2;255;194;224mr\u001b[48;2;218;255;194mue\u001b[48;2;194;224;255m,\u001b[48;2;255;218;194m\n",
      "  \u001b[48;2;194;255;208m    \u001b[48;2;255;194;224m  \u001b[48;2;218;255;194m)\u001b[48;2;194;224;255m,\u001b[48;2;255;218;194m\n",
      "  \u001b[48;2;194;255;208m    \u001b[48;2;255;194;224m  \u001b[48;2;218;255;194mm\u001b[48;2;194;224;255mi\u001b[48;2;255;218;194mg\u001b[48;2;194;255;208mr\u001b[48;2;255;194;224mat\u001b[48;2;218;255;194mi\u001b[48;2;194;224;255mon\u001b[48;2;255;218;194ms.\u001b[48;2;194;255;208mA\u001b[48;2;255;194;224md\u001b[48;2;218;255;194md\u001b[48;2;194;224;255mF\u001b[48;2;255;218;194mi\u001b[48;2;194;255;208mel\u001b[48;2;255;194;224md\u001b[48;2;218;255;194m(\u001b[48;2;194;224;255m\n",
      "  \u001b[48;2;255;218;194m    \u001b[48;2;194;255;208m    \u001b[48;2;255;194;224m  \u001b[48;2;218;255;194mmo\u001b[48;2;194;224;255mde\u001b[48;2;255;218;194ml\u001b[48;2;194;255;208m_\u001b[48;2;255;194;224mn\u001b[48;2;218;255;194mam\u001b[48;2;194;224;255me\u001b[48;2;255;218;194m=\u001b[48;2;194;255;208m'\u001b[48;2;255;194;224mte\u001b[48;2;218;255;194mst\u001b[48;2;194;224;255mp\u001b[48;2;255;218;194ml\u001b[48;2;194;255;208man\u001b[48;2;255;194;224m'\u001b[48;2;218;255;194m,\u001b[48;2;194;224;255m\n",
      "  \u001b[48;2;255;218;194m    \u001b[48;2;194;255;208m    \u001b[48;2;255;194;224m  \u001b[48;2;218;255;194mn\u001b[48;2;194;224;255mam\u001b[48;2;255;218;194me\u001b[48;2;194;255;208m=\u001b[48;2;255;194;224m'\u001b[48;2;218;255;194mma\u001b[48;2;194;224;255min\u001b[48;2;255;218;194m'\u001b[48;2;194;255;208m,\u001b[48;2;255;194;224m\n",
      "  \u001b[48;2;218;255;194m    \u001b[48;2;194;224;255m    \u001b[48;2;255;218;194m  \u001b[48;2;194;255;208mfi\u001b[48;2;255;194;224mel\u001b[48;2;218;255;194md\u001b[48;2;194;224;255m=\u001b[48;2;255;218;194mmo\u001b[48;2;194;255;208mde\u001b[48;2;255;194;224ml\u001b[48;2;218;255;194ms.\u001b[48;2;194;224;255mB\u001b[48;2;255;218;194mo\u001b[48;2;194;255;208mo\u001b[48;2;255;194;224mle\u001b[48;2;218;255;194man\u001b[48;2;194;224;255mF\u001b[48;2;255;218;194mi\u001b[48;2;194;255;208mel\u001b[48;2;255;194;224md\u001b[48;2;218;255;194m(\u001b[48;2;194;224;255mde\u001b[48;2;255;218;194mf\u001b[48;2;194;255;208ma\u001b[48;2;255;194;224mul\u001b[48;2;218;255;194mt\u001b[48;2;194;224;255m=\u001b[48;2;255;218;194mF\u001b[48;2;194;255;208mal\u001b[48;2;255;194;224mse\u001b[48;2;218;255;194m, \u001b[48;2;194;224;255mv\u001b[48;2;255;218;194mer\u001b[48;2;194;255;208mb\u001b[48;2;255;194;224mo\u001b[48;2;218;255;194mse\u001b[48;2;194;224;255m_\u001b[48;2;255;218;194mn\u001b[48;2;194;255;208mam\u001b[48;2;255;194;224me\u001b[48;2;218;255;194m=\u001b[48;2;194;224;255m'\u001b[48;2;255;218;194mS\u001b[48;2;194;255;208mh\u001b[48;2;255;194;224mo\u001b[48;2;218;255;194mw\u001b[48;2;194;224;255m \u001b[48;2;255;218;194min\u001b[48;2;194;255;208m \u001b[48;2;255;194;224ms\u001b[48;2;218;255;194mh\u001b[48;2;194;224;255mor\u001b[48;2;255;218;194mt \u001b[48;2;194;255;208mst\u001b[48;2;255;194;224mat\u001b[48;2;218;255;194mi\u001b[48;2;194;224;255mst\u001b[48;2;255;218;194mi\u001b[48;2;194;255;208mc\u001b[48;2;255;194;224m'\u001b[48;2;218;255;194m)\u001b[48;2;194;224;255m,\u001b[48;2;255;218;194m\n",
      "  \u001b[48;2;194;255;208m    \u001b[48;2;255;194;224m    \u001b[48;2;218;255;194m  \u001b[48;2;194;224;255mp\u001b[48;2;255;218;194mre\u001b[48;2;194;255;208mse\u001b[48;2;255;194;224mr\u001b[48;2;218;255;194mv\u001b[48;2;194;224;255me\u001b[48;2;255;218;194m_\u001b[48;2;194;255;208mde\u001b[48;2;255;194;224mf\u001b[48;2;218;255;194ma\u001b[48;2;194;224;255mul\u001b[48;2;255;218;194mt\u001b[48;2;194;255;208m=\u001b[48;2;255;194;224mT\u001b[48;2;218;255;194mr\u001b[48;2;194;224;255mue\u001b[48;2;255;218;194m,\u001b[48;2;194;255;208m\n",
      "  \u001b[48;2;255;194;224m    \u001b[48;2;218;255;194m  \u001b[48;2;194;224;255m)\u001b[48;2;255;218;194m,\u001b[48;2;194;255;208m\n",
      "  \u001b[48;2;255;194;224m  \u001b[48;2;218;255;194m]\u001b[48;2;194;224;255m\n"
     ]
    }
   ],
   "source": [
    "tokenizer.print_tokens(open(\"data/PY150K/\" + train_files[10]).read())"
   ]
  },
  {
   "cell_type": "code",
   "execution_count": 4,
   "metadata": {},
   "outputs": [
    {
     "data": {
      "text/plain": [
       "tensor([ 82, 252, 212, 223, 219, 230,   4,  79, 236,  86,   9, 210,  78,  96,\n",
       "         75,  88,  93,  23, 205, 208,  91,  79,  74, 240, 249,  50,  53,  88,\n",
       "         80, 242,  91,   9,  82, 252, 212, 223,  50,  53,  88,  80, 242,  91,\n",
       "          4,  79, 236,  86,   9, 210,  78,  96,  75,  88,  93,  23, 251, 252,\n",
       "        206, 224,  93, 249, 292,  77, 283,  78, 249,  47, 212, 264,  93, 219,\n",
       "         87,  80,   9,  82, 252, 212, 223,  47, 212, 264,  93, 219,  87,  80,\n",
       "        231,  76,  85, 235, 215,  53,  88,  80,  47,  82, 229,  17,  50,  53,\n",
       "         88,  80, 242,  91,  18,  35,   4,   3, 244,  11,   4,   3,  42,  87,\n",
       "          9,  82, 252, 229, 230,  87,  93, 233,  82, 206,   9,  88, 222,  50,\n",
       "         53,  88,  80, 242,  91,   9, 214, 233,   9, 203,  87,  77, 215, 230,\n",
       "         92,  92,  74, 242, 215, 258,   9,  74,   9, 247, 229,  23,   4,   3,\n",
       "        244,  11, 231,   3, 211, 222,  72,  72, 205,  82, 245,  72,  17, 203,\n",
       "         85,  79, 207, 247, 229,  72, 284, 214,   9,  18,  35,   4,   3,   3,\n",
       "        244,  11,   4,   3,   3,  50,  87,  82, 219, 221,  82,  99, 213, 214,\n",
       "        213, 247, 229,   9, 262,  80, 242,  91,  23,   4,   3,   3, 244,  11,\n",
       "          4,   3,   3, 203,  85,  79,  23, 247, 229,   9, 216,  88,  89, 224,\n",
       "         17,   9, 247, 229,  72, 284, 214, 207,  16,  74,  16,   9, 275, 231,\n",
       "          3, 211, 222,  48,  78,  93,  53,  88,  76, 233,  82, 206,  60, 273,\n",
       "        205,  80,  17, 203,  85,  79,  18,  35,   4,   3,   3, 244,  11,   4,\n",
       "          3,   3,  48,  78, 223,  74,   9,  75,  91,  82,  78, 222,  81,  94,\n",
       "        264,  87,  22, 204, 288,  74,  75, 229,   9, 211,  92,  76,  91,  82,\n",
       "         89, 219, 206,   9,  88, 222, 214, 213, 262,  76, 233,  82, 206,   9,\n",
       "         88, 222, 214, 213, 262,  80,  21,   4,   3,   3,  92,  94, 261,   9,\n",
       "        235,   9,  11, 251,  87,  92,  88, 229,  11,   9, 212,   9,  11, 247,\n",
       "        229,   9,  16,  75,  88,  93,  23, 262,  80,  16,  11,  23, 231,   3,\n",
       "          3,  41, 204,  93, 238,  87,   9, 210,  91, 246,  75,  91,  82,  78,\n",
       "        222, 211,  92,  76,  91,  82,  89, 219, 206,   9,  88, 222, 262,  76,\n",
       "        233,  82, 206,  23,   4,   3,   3, 244,  11,   4,   3,   3, 204,  93,\n",
       "        238,  87,   9,  11, 247, 229,   9, 233,   9,  37,  14,  92,  39,  11,\n",
       "          9,  14,   9, 203,  85,  79,  23, 247, 229,  23,  87, 296,  78, 231,\n",
       "          4,   3, 211, 222,  53,  88,  80,  17, 203,  85,  79, 207, 230,  92,\n",
       "         92,  74, 242,  18,  35,   4,   3,   3, 244,  11,   4,   3,   3,  53,\n",
       "         88,  80,   9,  74,   9, 230,  92,  92,  74, 242,   9, 258,   9, 214,\n",
       "        213, 251,  87,  92,  88, 229,  23, 231,   3,   3,  41, 284,  91, 296,\n",
       "          9, 230,  92,  92,  74, 242, 246, 226,  75,  82, 273, 226,  98,   9,\n",
       "        230,  92,  92,  74, 242,   9, 258,   9, 262,  80,  23,   4,   3,   3,\n",
       "         41, 204,  93, 238,  87,   9,  55, 206,  78,   4,   3,   3, 244,  11,\n",
       "          4,   3,   3, 203,  85,  79,  23, 247, 229,  23,  96,  91,  82, 208,\n",
       "         17,  11,  68,  14,  92,  70,   9,  14,  92,  69,  87,  11,   9,  14,\n",
       "          9,  17, 219, 230,  23, 210,  91,  79, 219, 230,  17,  11,  14,  66,\n",
       "         22,  14,  86,  22,  14, 239,  14,  49,  35,  14,  54,  35,  14,  60,\n",
       "         11,  18, 207,  47, 212, 264,  93, 219,  87,  80,  23,  46,  87, 251,\n",
       "        211,  17, 230,  92,  92,  74, 242,  18,  18, 275, 231,   3, 211, 222,\n",
       "         72,  72, 211,  85,  72,  72,  17, 203,  85,  79,  18,  35,   4,   3,\n",
       "          3, 244,  11,   4,   3,   3,  59, 270,  78, 235, 213, 221,  85,   9,\n",
       "        204,  92,  88, 238, 240, 215,  96,  81, 224,   9, 214, 213, 262,  80,\n",
       "        242,  91,   9,  82, 215,  75,  78, 205,  80,   9, 211, 229, 208,  77,\n",
       "         23,   4,   3,   3, 244,  11,   4,   3,   3, 203,  85,  79,  23, 247,\n",
       "        229,  23,  76, 262, 203,  17, 275])"
      ]
     },
     "execution_count": 4,
     "metadata": {},
     "output_type": "execute_result"
    }
   ],
   "source": [
    "from utils.dataset import PY150kDataset\n",
    "\n",
    "ds = PY150kDataset(\"train\", \"py150k_large\")\n",
    "ds[1337]"
   ]
  },
  {
   "attachments": {},
   "cell_type": "markdown",
   "metadata": {},
   "source": [
    "One problem is that we need all sequences in a batch to be the same length, but there is a large difference in lengths"
   ]
  },
  {
   "cell_type": "code",
   "execution_count": 5,
   "metadata": {},
   "outputs": [
    {
     "data": {
      "text/plain": [
       "(80875, 23)"
      ]
     },
     "execution_count": 5,
     "metadata": {},
     "output_type": "execute_result"
    }
   ],
   "source": [
    "max(len(ds[i]) for i in range(100)), min(len(ds[i]) for i in range(100))"
   ]
  },
  {
   "cell_type": "code",
   "execution_count": 6,
   "metadata": {},
   "outputs": [
    {
     "data": {
      "text/plain": [
       "9"
      ]
     },
     "execution_count": 6,
     "metadata": {},
     "output_type": "execute_result"
    }
   ],
   "source": [
    "tokenizer.chr_to_ids[\" \"]"
   ]
  },
  {
   "cell_type": "code",
   "execution_count": 7,
   "metadata": {},
   "outputs": [],
   "source": [
    "from utils.dataset import PY150kDataset\n",
    "from torch.utils.data import DataLoader\n",
    "\n",
    "def collate_fn(batch:list[torch.tensor]):\n",
    "    return torch.nn.utils.rnn.pad_sequence(batch, batch_first=True, padding_value=tokenizer.chr_to_ids[\" \"])\n",
    "\n",
    "\n",
    "train_ds = PY150kDataset(\"train\", \"py150k_large\")\n",
    "train_dl = DataLoader(train_ds, batch_size=32, collate_fn=collate_fn)"
   ]
  },
  {
   "attachments": {},
   "cell_type": "markdown",
   "metadata": {},
   "source": [
    "For example purposes this will be a many-to-one encoder-decoder architecture. Our transformer atleast will probably be decoder only."
   ]
  },
  {
   "cell_type": "code",
   "execution_count": 12,
   "metadata": {},
   "outputs": [
    {
     "data": {
      "text/plain": [
       "torch.Size([32, 9445, 299])"
      ]
     },
     "execution_count": 12,
     "metadata": {},
     "output_type": "execute_result"
    }
   ],
   "source": [
    "class PyRNN(nn.Module):\n",
    "    def __init__(self, vocab_size, hidden_size):\n",
    "        super().__init__()\n",
    "        self.vocab_size, self.hidden_size = vocab_size, hidden_size\n",
    "        \n",
    "        self.embed = nn.Embedding(vocab_size, hidden_size)\n",
    "        self.rnn = nn.RNN(hidden_size, hidden_size, batch_first=True)\n",
    "        self.linear = nn.Linear(hidden_size, vocab_size)\n",
    "        \n",
    "    def forward(self, x):\n",
    "        x = self.embed(x)\n",
    "        x, _ = self.rnn(x)\n",
    "        x = self.linear(x)\n",
    "        return x\n",
    "\n",
    "    def train_step(self, x, y, teacher_forcing=0.5):\n",
    "        B, T = x.shape\n",
    "                \n",
    "        xt = x[:, [0]]\n",
    "        ht = torch.zeros(1, B, self.hidden_size, device=x.device)\n",
    "        \n",
    "        o = []     \n",
    "        for i in range(T):\n",
    "            xt = self.embed(xt)\n",
    "            xt, ht = self.rnn(xt, ht)\n",
    "            xt = self.linear(xt.squeeze(1))\n",
    "            ot = F.softmax(xt, dim=-1)\n",
    "            o.append(ot)\n",
    "            \n",
    "            if torch.rand(1) < teacher_forcing:\n",
    "                xt = y[:, [i]] # put the correct token in the next step\n",
    "            else:\n",
    "                # sample from the distribution\n",
    "                xt = torch.argmax(ot, dim=-1, keepdims=True) # put the predicted token in the next step\n",
    "                \n",
    "        return torch.stack(o, dim=1)\n",
    "            \n",
    "        \n",
    "model = PyRNN(len(tokenizer), 128)\n",
    "model(next(iter(train_dl))).shape"
   ]
  },
  {
   "cell_type": "markdown",
   "metadata": {},
   "source": [
    "https://wandb.ai/bjarnih/PyGPT"
   ]
  },
  {
   "cell_type": "code",
   "execution_count": 13,
   "metadata": {},
   "outputs": [
    {
     "data": {
      "text/plain": [
       "(torch.Size([32, 9444]),\n",
       " torch.Size([32, 9444]),\n",
       " torch.Size([32, 9444, 299]),\n",
       " tensor(5.7000, grad_fn=<NllLossBackward0>))"
      ]
     },
     "execution_count": 13,
     "metadata": {},
     "output_type": "execute_result"
    }
   ],
   "source": [
    "batch = next(iter(train_dl))\n",
    "\n",
    "x = batch[..., :-1]\n",
    "y = batch[..., 1:]\n",
    "\n",
    "y_hat = model.train_step(x, y)\n",
    "\n",
    "loss = F.cross_entropy(y_hat.reshape(-1, len(tokenizer)), y.reshape(-1))\n",
    "\n",
    "x.shape, y.shape, y_hat.shape, loss\n"
   ]
  },
  {
   "cell_type": "code",
   "execution_count": 14,
   "metadata": {},
   "outputs": [
    {
     "data": {
      "text/plain": [
       "tensor([[ 10,  24,  94,  ...,   9,   9,   9],\n",
       "        [ 22,  19,  22,  ...,   9,   9,   9],\n",
       "        [ 10,  24,  94,  ...,   9,   9,   9],\n",
       "        ...,\n",
       "        [ 11,  53,  88,  ...,   9,   9,   9],\n",
       "        [199,   9,  44,  ...,   9,   9,   9],\n",
       "        [199,   9,  44,  ...,   9,   9,   9]])"
      ]
     },
     "execution_count": 14,
     "metadata": {},
     "output_type": "execute_result"
    }
   ],
   "source": [
    "y"
   ]
  },
  {
   "cell_type": "code",
   "execution_count": 15,
   "metadata": {},
   "outputs": [
    {
     "data": {
      "text/html": [
       "Finishing last run (ID:ie6o11wq) before initializing another..."
      ],
      "text/plain": [
       "<IPython.core.display.HTML object>"
      ]
     },
     "metadata": {},
     "output_type": "display_data"
    },
    {
     "data": {
      "text/html": [
       " View run <strong style=\"color:#cdcd00\">silver-capybara-1</strong> at: <a href='https://wandb.ai/bjarnih/PyGPT/runs/ie6o11wq' target=\"_blank\">https://wandb.ai/bjarnih/PyGPT/runs/ie6o11wq</a><br/> View project at: <a href='https://wandb.ai/bjarnih/PyGPT' target=\"_blank\">https://wandb.ai/bjarnih/PyGPT</a><br/>Synced 5 W&B file(s), 0 media file(s), 0 artifact file(s) and 0 other file(s)"
      ],
      "text/plain": [
       "<IPython.core.display.HTML object>"
      ]
     },
     "metadata": {},
     "output_type": "display_data"
    },
    {
     "data": {
      "text/html": [
       "Find logs at: <code>./wandb/run-20240507_164753-ie6o11wq/logs</code>"
      ],
      "text/plain": [
       "<IPython.core.display.HTML object>"
      ]
     },
     "metadata": {},
     "output_type": "display_data"
    },
    {
     "data": {
      "text/html": [
       "Successfully finished last run (ID:ie6o11wq). Initializing new run:<br/>"
      ],
      "text/plain": [
       "<IPython.core.display.HTML object>"
      ]
     },
     "metadata": {},
     "output_type": "display_data"
    },
    {
     "data": {
      "text/html": [
       "Tracking run with wandb version 0.16.6"
      ],
      "text/plain": [
       "<IPython.core.display.HTML object>"
      ]
     },
     "metadata": {},
     "output_type": "display_data"
    },
    {
     "data": {
      "text/html": [
       "Run data is saved locally in <code>/Users/bjarnihaukurbjarnason/Documents/School/DeepLearningInDataScience/PyGPT/wandb/run-20240507_164826-dfv62fr4</code>"
      ],
      "text/plain": [
       "<IPython.core.display.HTML object>"
      ]
     },
     "metadata": {},
     "output_type": "display_data"
    },
    {
     "data": {
      "text/html": [
       "Syncing run <strong><a href='https://wandb.ai/bjarnih/PyGPT/runs/dfv62fr4' target=\"_blank\">leafy-lake-2</a></strong> to <a href='https://wandb.ai/bjarnih/PyGPT' target=\"_blank\">Weights & Biases</a> (<a href='https://wandb.me/run' target=\"_blank\">docs</a>)<br/>"
      ],
      "text/plain": [
       "<IPython.core.display.HTML object>"
      ]
     },
     "metadata": {},
     "output_type": "display_data"
    },
    {
     "data": {
      "text/html": [
       " View project at <a href='https://wandb.ai/bjarnih/PyGPT' target=\"_blank\">https://wandb.ai/bjarnih/PyGPT</a>"
      ],
      "text/plain": [
       "<IPython.core.display.HTML object>"
      ]
     },
     "metadata": {},
     "output_type": "display_data"
    },
    {
     "data": {
      "text/html": [
       " View run at <a href='https://wandb.ai/bjarnih/PyGPT/runs/dfv62fr4' target=\"_blank\">https://wandb.ai/bjarnih/PyGPT/runs/dfv62fr4</a>"
      ],
      "text/plain": [
       "<IPython.core.display.HTML object>"
      ]
     },
     "metadata": {},
     "output_type": "display_data"
    },
    {
     "name": "stderr",
     "output_type": "stream",
     "text": [
      "  0%|          | 0/3126 [00:16<?, ?it/s]\n"
     ]
    },
    {
     "ename": "TypeError",
     "evalue": "can't convert mps:0 device type tensor to numpy. Use Tensor.cpu() to copy the tensor to host memory first.",
     "output_type": "error",
     "traceback": [
      "\u001b[0;31m---------------------------------------------------------------------------\u001b[0m",
      "\u001b[0;31mTypeError\u001b[0m                                 Traceback (most recent call last)",
      "Cell \u001b[0;32mIn[15], line 37\u001b[0m\n\u001b[1;32m     34\u001b[0m loss\u001b[38;5;241m.\u001b[39mbackward()\n\u001b[1;32m     35\u001b[0m optim\u001b[38;5;241m.\u001b[39mstep()\n\u001b[0;32m---> 37\u001b[0m wandb\u001b[38;5;241m.\u001b[39mlog({\u001b[38;5;124m\"\u001b[39m\u001b[38;5;124mtrain_loss\u001b[39m\u001b[38;5;124m\"\u001b[39m: \u001b[43mloss\u001b[49m\u001b[38;5;241;43m.\u001b[39;49m\u001b[43mdetach\u001b[49m\u001b[43m(\u001b[49m\u001b[43m)\u001b[49m\u001b[38;5;241;43m.\u001b[39;49m\u001b[43mnumpy\u001b[49m\u001b[43m(\u001b[49m\u001b[43m)\u001b[49m})\n\u001b[1;32m     38\u001b[0m dl_tqdm\u001b[38;5;241m.\u001b[39mset_postfix({\u001b[38;5;124m\"\u001b[39m\u001b[38;5;124mloss\u001b[39m\u001b[38;5;124m\"\u001b[39m: loss\u001b[38;5;241m.\u001b[39mdetach()\u001b[38;5;241m.\u001b[39mnumpy()})\n",
      "\u001b[0;31mTypeError\u001b[0m: can't convert mps:0 device type tensor to numpy. Use Tensor.cpu() to copy the tensor to host memory first."
     ]
    }
   ],
   "source": [
    "from tqdm import tqdm\n",
    "# import wandb\n",
    "\n",
    "EPOCHS = 10\n",
    "LR = 3e-4\n",
    "DEVICE = \"cuda\" if torch.cuda.is_available() else \"cpu\"\n",
    "\n",
    "wandb.init(\n",
    "    # Set the project where this run will be logged\n",
    "    project=\"PyGPT\",\n",
    "    # Track hyperparameters and run metadata\n",
    "    config={\n",
    "        \"learning_rate\": LR,\n",
    "        \"epochs\": EPOCHS,\n",
    "        \"architecture\": \"many-to-one RNN\",\n",
    "        \"dataset\": \"small subset of PY150k\",\n",
    "    },\n",
    ")\n",
    "\n",
    "model = PyRNN(len(tokenizer), 128).to(DEVICE)\n",
    "optim = torch.optim.Adam(model.parameters(), lr=LR)\n",
    "\n",
    "for i in range(EPOCHS):\n",
    "    dl_tqdm = tqdm(train_dl)\n",
    "    for batch in dl_tqdm:\n",
    "        batch = batch.to(DEVICE)\n",
    "        x = batch[..., :-1]\n",
    "        y = batch[..., 1:]\n",
    "        \n",
    "        y_hat = model.train_step(x, y)\n",
    "        loss = F.cross_entropy(y_hat.reshape(-1, len(tokenizer)), y.reshape(-1))\n",
    "\n",
    "        optim.zero_grad()\n",
    "        loss.backward()\n",
    "        optim.step()\n",
    "\n",
    "        wandb.log({\"train_loss\": loss.detach().numpy()})\n",
    "        dl_tqdm.set_postfix({\"loss\": loss.detach().numpy()})"
   ]
  },
  {
   "cell_type": "code",
   "execution_count": null,
   "metadata": {},
   "outputs": [],
   "source": []
  }
 ],
 "metadata": {
  "kernelspec": {
   "display_name": ".venv",
   "language": "python",
   "name": "python3"
  },
  "language_info": {
   "codemirror_mode": {
    "name": "ipython",
    "version": 3
   },
   "file_extension": ".py",
   "mimetype": "text/x-python",
   "name": "python",
   "nbconvert_exporter": "python",
   "pygments_lexer": "ipython3",
   "version": "3.11.9"
  },
  "orig_nbformat": 4
 },
 "nbformat": 4,
 "nbformat_minor": 2
}
