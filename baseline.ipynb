{
 "cells": [
  {
   "cell_type": "code",
   "execution_count": 14,
   "metadata": {},
   "outputs": [
    {
     "name": "stdout",
     "output_type": "stream",
     "text": [
      "The autoreload extension is already loaded. To reload it, use:\n",
      "  %reload_ext autoreload\n"
     ]
    }
   ],
   "source": [
    "%load_ext autoreload\n",
    "%autoreload 2\n",
    "\n",
    "from utils import Py150kDataset\n",
    "\n",
    "import wandb\n",
    "import torch\n",
    "import torch.nn as nn\n",
    "import torch.nn.functional as F\n",
    "from torch.utils.data import DataLoader\n"
   ]
  },
  {
   "cell_type": "code",
   "execution_count": 15,
   "metadata": {},
   "outputs": [],
   "source": [
    "ds = Py150kDataset(\"train\", \"py150k\")"
   ]
  },
  {
   "attachments": {},
   "cell_type": "markdown",
   "metadata": {},
   "source": [
    "One problem is that we need all sequences in a batch to be the same length, but there is a large difference in lengths"
   ]
  },
  {
   "cell_type": "code",
   "execution_count": 16,
   "metadata": {},
   "outputs": [
    {
     "data": {
      "text/plain": [
       "(75159, 20)"
      ]
     },
     "execution_count": 16,
     "metadata": {},
     "output_type": "execute_result"
    }
   ],
   "source": [
    "max(len(ds[i]) for i in range(100)), min(len(ds[i]) for i in range(100))"
   ]
  },
  {
   "cell_type": "code",
   "execution_count": 20,
   "metadata": {},
   "outputs": [],
   "source": [
    "from utils.dataset import Py150kDataset\n",
    "from utils.tokenizer import BOS_ID, EOS_ID, PAD_ID\n",
    "from torch.utils.data import DataLoader, random_split\n",
    "\n",
    "def collate_fn(batch:list[torch.Tensor], max_len:int=2048):\n",
    "    batch = [x[:max_len] for x in batch]\n",
    "    batch = [\n",
    "        torch.cat([torch.tensor([BOS_ID]), x, torch.tensor([EOS_ID])])\n",
    "        for x in batch\n",
    "    ]\n",
    "    return torch.nn.utils.rnn.pad_sequence(\n",
    "        batch,\n",
    "        batch_first=True,\n",
    "        padding_value=PAD_ID\n",
    "    )\n",
    "\n",
    "\n",
    "\n",
    "train_ds, val_ds, _ = random_split(ds, [5000, 5000, len(ds) - 10000])\n",
    "train_dl = DataLoader(train_ds, batch_size=64, collate_fn=collate_fn)#, prefetch_factor=4, num_workers=8, persistent_workers=True)\n",
    "val_dl = DataLoader(val_ds, batch_size=64, collate_fn=collate_fn)#, prefetch_factor=4, num_workers=8, persistent_workers=True)"
   ]
  },
  {
   "cell_type": "code",
   "execution_count": 65,
   "metadata": {},
   "outputs": [
    {
     "data": {
      "text/plain": [
       "(torch.Size([64, 2050, 376]), torch.Size([1, 64, 128]))"
      ]
     },
     "execution_count": 65,
     "metadata": {},
     "output_type": "execute_result"
    }
   ],
   "source": [
    "class PyRNN(nn.Module):\n",
    "    def __init__(self, vocab_size, hidden_size):\n",
    "        super().__init__()\n",
    "        self.vocab_size, self.hidden_size = vocab_size, hidden_size\n",
    "        \n",
    "        self.embed = nn.Embedding(vocab_size, hidden_size)\n",
    "        self.rnn = nn.RNN(hidden_size, hidden_size, batch_first=True)\n",
    "        self.linear = nn.Linear(hidden_size, vocab_size)\n",
    "        \n",
    "    def forward(self, x, h=None):\n",
    "        x = self.embed(x)\n",
    "        x, h = self.rnn(x) # i.e. 100% teacher forcing\n",
    "        x = self.linear(x)\n",
    "        return x, h\n",
    "            \n",
    "        \n",
    "model = PyRNN(len(ds.tokenizer), 128)\n",
    "out, h = model(next(iter(train_dl)))\n",
    "out.shape, h.shape"
   ]
  },
  {
   "cell_type": "markdown",
   "metadata": {},
   "source": [
    "https://wandb.ai/bjarnih/PyGPT"
   ]
  },
  {
   "cell_type": "code",
   "execution_count": 66,
   "metadata": {},
   "outputs": [
    {
     "name": "stderr",
     "output_type": "stream",
     "text": [
      "Epoch 1/20 Training:   0%|          | 0/79 [00:00<?, ?it/s]"
     ]
    },
    {
     "name": "stderr",
     "output_type": "stream",
     "text": [
      "Epoch 1/20 Training: 100%|██████████| 79/79 [00:59<00:00,  1.33it/s, loss=4.0909]   \n",
      "Epoch 2/20 Training: 100%|██████████| 79/79 [00:59<00:00,  1.33it/s, loss=3.4710417]\n",
      "Epoch 3/20 Training: 100%|██████████| 79/79 [00:59<00:00,  1.33it/s, loss=3.1435838]\n",
      "Epoch 4/20 Training: 100%|██████████| 79/79 [00:59<00:00,  1.32it/s, loss=2.920678] \n",
      "Epoch 5/20 Training: 100%|██████████| 79/79 [00:59<00:00,  1.33it/s, loss=2.7627494]\n",
      "Epoch 6/20 Training: 100%|██████████| 79/79 [00:58<00:00,  1.35it/s, loss=2.640872] \n",
      "Epoch 7/20 Training: 100%|██████████| 79/79 [00:58<00:00,  1.36it/s, loss=2.5459306]\n",
      "Epoch 8/20 Training: 100%|██████████| 79/79 [01:00<00:00,  1.31it/s, loss=2.4681885]\n",
      "Epoch 9/20 Training: 100%|██████████| 79/79 [01:00<00:00,  1.31it/s, loss=2.4031415]\n",
      "Epoch 10/20 Training: 100%|██████████| 79/79 [00:59<00:00,  1.32it/s, loss=2.3481948]\n",
      "Epoch 11/20 Training: 100%|██████████| 79/79 [00:59<00:00,  1.33it/s, loss=2.301025] \n",
      "Epoch 12/20 Training: 100%|██████████| 79/79 [01:01<00:00,  1.29it/s, loss=2.2599447]\n",
      "Epoch 13/20 Training: 100%|██████████| 79/79 [01:00<00:00,  1.31it/s, loss=2.2234342]\n",
      "Epoch 14/20 Training: 100%|██████████| 79/79 [01:00<00:00,  1.31it/s, loss=2.1908765]\n",
      "Epoch 15/20 Training: 100%|██████████| 79/79 [00:59<00:00,  1.33it/s, loss=2.16174]  \n",
      "Epoch 16/20 Training: 100%|██████████| 79/79 [00:59<00:00,  1.34it/s, loss=2.1344776]\n",
      "Epoch 17/20 Training:   6%|▋         | 5/79 [00:04<01:04,  1.14it/s, loss=2.3890402]\n"
     ]
    },
    {
     "ename": "KeyboardInterrupt",
     "evalue": "",
     "output_type": "error",
     "traceback": [
      "\u001b[0;31m---------------------------------------------------------------------------\u001b[0m",
      "\u001b[0;31mKeyboardInterrupt\u001b[0m                         Traceback (most recent call last)",
      "Cell \u001b[0;32mIn[66], line 33\u001b[0m\n\u001b[1;32m     30\u001b[0m total_train_loss \u001b[38;5;241m=\u001b[39m \u001b[38;5;241m0\u001b[39m\n\u001b[1;32m     32\u001b[0m \u001b[38;5;66;03m# Training loop\u001b[39;00m\n\u001b[0;32m---> 33\u001b[0m \u001b[43m\u001b[49m\u001b[38;5;28;43;01mfor\u001b[39;49;00m\u001b[43m \u001b[49m\u001b[43mbatch\u001b[49m\u001b[43m \u001b[49m\u001b[38;5;129;43;01min\u001b[39;49;00m\u001b[43m \u001b[49m\u001b[43mtrain_tqdm\u001b[49m\u001b[43m:\u001b[49m\n\u001b[1;32m     34\u001b[0m \u001b[43m    \u001b[49m\u001b[43mbatch\u001b[49m\u001b[43m \u001b[49m\u001b[38;5;241;43m=\u001b[39;49m\u001b[43m \u001b[49m\u001b[43mbatch\u001b[49m\u001b[38;5;241;43m.\u001b[39;49m\u001b[43mto\u001b[49m\u001b[43m(\u001b[49m\u001b[43mDEVICE\u001b[49m\u001b[43m)\u001b[49m\n\u001b[1;32m     35\u001b[0m \u001b[43m    \u001b[49m\u001b[43mx\u001b[49m\u001b[43m \u001b[49m\u001b[38;5;241;43m=\u001b[39;49m\u001b[43m \u001b[49m\u001b[43mbatch\u001b[49m\u001b[43m[\u001b[49m\u001b[38;5;241;43m.\u001b[39;49m\u001b[38;5;241;43m.\u001b[39;49m\u001b[38;5;241;43m.\u001b[39;49m\u001b[43m,\u001b[49m\u001b[43m \u001b[49m\u001b[43m:\u001b[49m\u001b[38;5;241;43m-\u001b[39;49m\u001b[38;5;241;43m1\u001b[39;49m\u001b[43m]\u001b[49m\n",
      "File \u001b[0;32m~/Documents/School/DeepLearningInDataScience/PyGPT/.venv/lib/python3.11/site-packages/tqdm/std.py:1181\u001b[0m, in \u001b[0;36mtqdm.__iter__\u001b[0;34m(self)\u001b[0m\n\u001b[1;32m   1178\u001b[0m time \u001b[38;5;241m=\u001b[39m \u001b[38;5;28mself\u001b[39m\u001b[38;5;241m.\u001b[39m_time\n\u001b[1;32m   1180\u001b[0m \u001b[38;5;28;01mtry\u001b[39;00m:\n\u001b[0;32m-> 1181\u001b[0m \u001b[43m    \u001b[49m\u001b[38;5;28;43;01mfor\u001b[39;49;00m\u001b[43m \u001b[49m\u001b[43mobj\u001b[49m\u001b[43m \u001b[49m\u001b[38;5;129;43;01min\u001b[39;49;00m\u001b[43m \u001b[49m\u001b[43miterable\u001b[49m\u001b[43m:\u001b[49m\n\u001b[1;32m   1182\u001b[0m \u001b[43m        \u001b[49m\u001b[38;5;28;43;01myield\u001b[39;49;00m\u001b[43m \u001b[49m\u001b[43mobj\u001b[49m\n\u001b[1;32m   1183\u001b[0m \u001b[43m        \u001b[49m\u001b[38;5;66;43;03m# Update and possibly print the progressbar.\u001b[39;49;00m\n\u001b[1;32m   1184\u001b[0m \u001b[43m        \u001b[49m\u001b[38;5;66;43;03m# Note: does not call self.update(1) for speed optimisation.\u001b[39;49;00m\n",
      "File \u001b[0;32m~/Documents/School/DeepLearningInDataScience/PyGPT/.venv/lib/python3.11/site-packages/torch/utils/data/dataloader.py:631\u001b[0m, in \u001b[0;36m_BaseDataLoaderIter.__next__\u001b[0;34m(self)\u001b[0m\n\u001b[1;32m    628\u001b[0m \u001b[38;5;28;01mif\u001b[39;00m \u001b[38;5;28mself\u001b[39m\u001b[38;5;241m.\u001b[39m_sampler_iter \u001b[38;5;129;01mis\u001b[39;00m \u001b[38;5;28;01mNone\u001b[39;00m:\n\u001b[1;32m    629\u001b[0m     \u001b[38;5;66;03m# TODO(https://github.com/pytorch/pytorch/issues/76750)\u001b[39;00m\n\u001b[1;32m    630\u001b[0m     \u001b[38;5;28mself\u001b[39m\u001b[38;5;241m.\u001b[39m_reset()  \u001b[38;5;66;03m# type: ignore[call-arg]\u001b[39;00m\n\u001b[0;32m--> 631\u001b[0m data \u001b[38;5;241m=\u001b[39m \u001b[38;5;28;43mself\u001b[39;49m\u001b[38;5;241;43m.\u001b[39;49m\u001b[43m_next_data\u001b[49m\u001b[43m(\u001b[49m\u001b[43m)\u001b[49m\n\u001b[1;32m    632\u001b[0m \u001b[38;5;28mself\u001b[39m\u001b[38;5;241m.\u001b[39m_num_yielded \u001b[38;5;241m+\u001b[39m\u001b[38;5;241m=\u001b[39m \u001b[38;5;241m1\u001b[39m\n\u001b[1;32m    633\u001b[0m \u001b[38;5;28;01mif\u001b[39;00m \u001b[38;5;28mself\u001b[39m\u001b[38;5;241m.\u001b[39m_dataset_kind \u001b[38;5;241m==\u001b[39m _DatasetKind\u001b[38;5;241m.\u001b[39mIterable \u001b[38;5;129;01mand\u001b[39;00m \\\n\u001b[1;32m    634\u001b[0m         \u001b[38;5;28mself\u001b[39m\u001b[38;5;241m.\u001b[39m_IterableDataset_len_called \u001b[38;5;129;01mis\u001b[39;00m \u001b[38;5;129;01mnot\u001b[39;00m \u001b[38;5;28;01mNone\u001b[39;00m \u001b[38;5;129;01mand\u001b[39;00m \\\n\u001b[1;32m    635\u001b[0m         \u001b[38;5;28mself\u001b[39m\u001b[38;5;241m.\u001b[39m_num_yielded \u001b[38;5;241m>\u001b[39m \u001b[38;5;28mself\u001b[39m\u001b[38;5;241m.\u001b[39m_IterableDataset_len_called:\n",
      "File \u001b[0;32m~/Documents/School/DeepLearningInDataScience/PyGPT/.venv/lib/python3.11/site-packages/torch/utils/data/dataloader.py:675\u001b[0m, in \u001b[0;36m_SingleProcessDataLoaderIter._next_data\u001b[0;34m(self)\u001b[0m\n\u001b[1;32m    673\u001b[0m \u001b[38;5;28;01mdef\u001b[39;00m \u001b[38;5;21m_next_data\u001b[39m(\u001b[38;5;28mself\u001b[39m):\n\u001b[1;32m    674\u001b[0m     index \u001b[38;5;241m=\u001b[39m \u001b[38;5;28mself\u001b[39m\u001b[38;5;241m.\u001b[39m_next_index()  \u001b[38;5;66;03m# may raise StopIteration\u001b[39;00m\n\u001b[0;32m--> 675\u001b[0m     data \u001b[38;5;241m=\u001b[39m \u001b[38;5;28;43mself\u001b[39;49m\u001b[38;5;241;43m.\u001b[39;49m\u001b[43m_dataset_fetcher\u001b[49m\u001b[38;5;241;43m.\u001b[39;49m\u001b[43mfetch\u001b[49m\u001b[43m(\u001b[49m\u001b[43mindex\u001b[49m\u001b[43m)\u001b[49m  \u001b[38;5;66;03m# may raise StopIteration\u001b[39;00m\n\u001b[1;32m    676\u001b[0m     \u001b[38;5;28;01mif\u001b[39;00m \u001b[38;5;28mself\u001b[39m\u001b[38;5;241m.\u001b[39m_pin_memory:\n\u001b[1;32m    677\u001b[0m         data \u001b[38;5;241m=\u001b[39m _utils\u001b[38;5;241m.\u001b[39mpin_memory\u001b[38;5;241m.\u001b[39mpin_memory(data, \u001b[38;5;28mself\u001b[39m\u001b[38;5;241m.\u001b[39m_pin_memory_device)\n",
      "File \u001b[0;32m~/Documents/School/DeepLearningInDataScience/PyGPT/.venv/lib/python3.11/site-packages/torch/utils/data/_utils/fetch.py:49\u001b[0m, in \u001b[0;36m_MapDatasetFetcher.fetch\u001b[0;34m(self, possibly_batched_index)\u001b[0m\n\u001b[1;32m     47\u001b[0m \u001b[38;5;28;01mif\u001b[39;00m \u001b[38;5;28mself\u001b[39m\u001b[38;5;241m.\u001b[39mauto_collation:\n\u001b[1;32m     48\u001b[0m     \u001b[38;5;28;01mif\u001b[39;00m \u001b[38;5;28mhasattr\u001b[39m(\u001b[38;5;28mself\u001b[39m\u001b[38;5;241m.\u001b[39mdataset, \u001b[38;5;124m\"\u001b[39m\u001b[38;5;124m__getitems__\u001b[39m\u001b[38;5;124m\"\u001b[39m) \u001b[38;5;129;01mand\u001b[39;00m \u001b[38;5;28mself\u001b[39m\u001b[38;5;241m.\u001b[39mdataset\u001b[38;5;241m.\u001b[39m__getitems__:\n\u001b[0;32m---> 49\u001b[0m         data \u001b[38;5;241m=\u001b[39m \u001b[38;5;28;43mself\u001b[39;49m\u001b[38;5;241;43m.\u001b[39;49m\u001b[43mdataset\u001b[49m\u001b[38;5;241;43m.\u001b[39;49m\u001b[43m__getitems__\u001b[49m\u001b[43m(\u001b[49m\u001b[43mpossibly_batched_index\u001b[49m\u001b[43m)\u001b[49m\n\u001b[1;32m     50\u001b[0m     \u001b[38;5;28;01melse\u001b[39;00m:\n\u001b[1;32m     51\u001b[0m         data \u001b[38;5;241m=\u001b[39m [\u001b[38;5;28mself\u001b[39m\u001b[38;5;241m.\u001b[39mdataset[idx] \u001b[38;5;28;01mfor\u001b[39;00m idx \u001b[38;5;129;01min\u001b[39;00m possibly_batched_index]\n",
      "File \u001b[0;32m~/Documents/School/DeepLearningInDataScience/PyGPT/.venv/lib/python3.11/site-packages/torch/utils/data/dataset.py:419\u001b[0m, in \u001b[0;36mSubset.__getitems__\u001b[0;34m(self, indices)\u001b[0m\n\u001b[1;32m    417\u001b[0m     \u001b[38;5;28;01mreturn\u001b[39;00m \u001b[38;5;28mself\u001b[39m\u001b[38;5;241m.\u001b[39mdataset\u001b[38;5;241m.\u001b[39m__getitems__([\u001b[38;5;28mself\u001b[39m\u001b[38;5;241m.\u001b[39mindices[idx] \u001b[38;5;28;01mfor\u001b[39;00m idx \u001b[38;5;129;01min\u001b[39;00m indices])  \u001b[38;5;66;03m# type: ignore[attr-defined]\u001b[39;00m\n\u001b[1;32m    418\u001b[0m \u001b[38;5;28;01melse\u001b[39;00m:\n\u001b[0;32m--> 419\u001b[0m     \u001b[38;5;28;01mreturn\u001b[39;00m \u001b[43m[\u001b[49m\u001b[38;5;28;43mself\u001b[39;49m\u001b[38;5;241;43m.\u001b[39;49m\u001b[43mdataset\u001b[49m\u001b[43m[\u001b[49m\u001b[38;5;28;43mself\u001b[39;49m\u001b[38;5;241;43m.\u001b[39;49m\u001b[43mindices\u001b[49m\u001b[43m[\u001b[49m\u001b[43midx\u001b[49m\u001b[43m]\u001b[49m\u001b[43m]\u001b[49m\u001b[43m \u001b[49m\u001b[38;5;28;43;01mfor\u001b[39;49;00m\u001b[43m \u001b[49m\u001b[43midx\u001b[49m\u001b[43m \u001b[49m\u001b[38;5;129;43;01min\u001b[39;49;00m\u001b[43m \u001b[49m\u001b[43mindices\u001b[49m\u001b[43m]\u001b[49m\n",
      "File \u001b[0;32m~/Documents/School/DeepLearningInDataScience/PyGPT/.venv/lib/python3.11/site-packages/torch/utils/data/dataset.py:419\u001b[0m, in \u001b[0;36m<listcomp>\u001b[0;34m(.0)\u001b[0m\n\u001b[1;32m    417\u001b[0m     \u001b[38;5;28;01mreturn\u001b[39;00m \u001b[38;5;28mself\u001b[39m\u001b[38;5;241m.\u001b[39mdataset\u001b[38;5;241m.\u001b[39m__getitems__([\u001b[38;5;28mself\u001b[39m\u001b[38;5;241m.\u001b[39mindices[idx] \u001b[38;5;28;01mfor\u001b[39;00m idx \u001b[38;5;129;01min\u001b[39;00m indices])  \u001b[38;5;66;03m# type: ignore[attr-defined]\u001b[39;00m\n\u001b[1;32m    418\u001b[0m \u001b[38;5;28;01melse\u001b[39;00m:\n\u001b[0;32m--> 419\u001b[0m     \u001b[38;5;28;01mreturn\u001b[39;00m [\u001b[38;5;28;43mself\u001b[39;49m\u001b[38;5;241;43m.\u001b[39;49m\u001b[43mdataset\u001b[49m\u001b[43m[\u001b[49m\u001b[38;5;28;43mself\u001b[39;49m\u001b[38;5;241;43m.\u001b[39;49m\u001b[43mindices\u001b[49m\u001b[43m[\u001b[49m\u001b[43midx\u001b[49m\u001b[43m]\u001b[49m\u001b[43m]\u001b[49m \u001b[38;5;28;01mfor\u001b[39;00m idx \u001b[38;5;129;01min\u001b[39;00m indices]\n",
      "File \u001b[0;32m~/Documents/School/DeepLearningInDataScience/PyGPT/utils/dataset.py:17\u001b[0m, in \u001b[0;36mPy150kDataset.__getitem__\u001b[0;34m(self, idx)\u001b[0m\n\u001b[1;32m     15\u001b[0m \u001b[38;5;129m@lru_cache\u001b[39m() \u001b[38;5;66;03m# creates a dictionary behind the scenes which maps idx to the data, i.e. only tokenize once\u001b[39;00m\n\u001b[1;32m     16\u001b[0m \u001b[38;5;28;01mdef\u001b[39;00m \u001b[38;5;21m__getitem__\u001b[39m(\u001b[38;5;28mself\u001b[39m, idx:\u001b[38;5;28mint\u001b[39m):\n\u001b[0;32m---> 17\u001b[0m     tokens \u001b[38;5;241m=\u001b[39m \u001b[38;5;28;43mself\u001b[39;49m\u001b[38;5;241;43m.\u001b[39;49m\u001b[43mtokenizer\u001b[49m\u001b[38;5;241;43m.\u001b[39;49m\u001b[43mtokenize\u001b[49m\u001b[43m(\u001b[49m\u001b[38;5;28;43mopen\u001b[39;49m\u001b[43m(\u001b[49m\u001b[38;5;124;43m\"\u001b[39;49m\u001b[38;5;124;43mdata/PY150K/\u001b[39;49m\u001b[38;5;124;43m\"\u001b[39;49m\u001b[43m \u001b[49m\u001b[38;5;241;43m+\u001b[39;49m\u001b[43m \u001b[49m\u001b[38;5;28;43mself\u001b[39;49m\u001b[38;5;241;43m.\u001b[39;49m\u001b[43mfiles\u001b[49m\u001b[43m[\u001b[49m\u001b[43midx\u001b[49m\u001b[43m]\u001b[49m\u001b[43m,\u001b[49m\u001b[43m \u001b[49m\u001b[43mencoding\u001b[49m\u001b[38;5;241;43m=\u001b[39;49m\u001b[38;5;124;43m\"\u001b[39;49m\u001b[38;5;124;43miso-8859-1\u001b[39;49m\u001b[38;5;124;43m\"\u001b[39;49m\u001b[43m)\u001b[49m\u001b[38;5;241;43m.\u001b[39;49m\u001b[43mread\u001b[49m\u001b[43m(\u001b[49m\u001b[43m)\u001b[49m\u001b[43m)\u001b[49m\n\u001b[1;32m     18\u001b[0m     \u001b[38;5;28;01mreturn\u001b[39;00m torch\u001b[38;5;241m.\u001b[39mtensor(tokens)\n",
      "File \u001b[0;32m~/Documents/School/DeepLearningInDataScience/PyGPT/utils/tokenizer.py:93\u001b[0m, in \u001b[0;36mBPETokenizer.tokenize\u001b[0;34m(self, text)\u001b[0m\n\u001b[1;32m     91\u001b[0m \u001b[38;5;28;01mif\u001b[39;00m substring \u001b[38;5;129;01min\u001b[39;00m \u001b[38;5;28mself\u001b[39m\u001b[38;5;241m.\u001b[39mchr_to_ids:\n\u001b[1;32m     92\u001b[0m     token \u001b[38;5;241m=\u001b[39m substring\n\u001b[0;32m---> 93\u001b[0m     token_idx \u001b[38;5;241m=\u001b[39m j \u001b[38;5;241m-\u001b[39m i\n\u001b[1;32m     94\u001b[0m \u001b[38;5;28;01melse\u001b[39;00m:\n\u001b[1;32m     95\u001b[0m     \u001b[38;5;28;01mbreak\u001b[39;00m \u001b[38;5;66;03m# as soon as a substring is not in the vocabulary we stop\u001b[39;00m\n",
      "\u001b[0;31mKeyboardInterrupt\u001b[0m: "
     ]
    }
   ],
   "source": [
    "from tqdm import tqdm\n",
    "import wandb\n",
    "\n",
    "EPOCHS = 20\n",
    "LR = 1e-3\n",
    "DEVICE = \"cuda\" if torch.cuda.is_available() else \"cpu\"\n",
    "\n",
    "\n",
    "# model = PyRNN(len(ds.tokenizer), 128).to(DEVICE)\n",
    "criterion = nn.CrossEntropyLoss(ignore_index=PAD_ID) # <PAD> tokens do not contribute to the loss\n",
    "optim = torch.optim.Adam(model.parameters(), lr=LR)\n",
    "\n",
    "# wandb.init(\n",
    "#     project=\"PyGPT\",\n",
    "#     config={\n",
    "#         \"learning_rate\": LR,\n",
    "#         \"epochs\": EPOCHS,\n",
    "#         \"architecture\": model.__class__.__name__,\n",
    "#         \"n_training_examples\": len(train_ds),\n",
    "#         \"n_validation_examples\": len(val_ds),\n",
    "#         \"parameter_count\": sum([p.numel() for p in model.parameters() if p.requires_grad])\n",
    "#     },\n",
    "#     group=\"baseline RNNs\"\n",
    "# )\n",
    "\n",
    "\n",
    "model.train()\n",
    "for epoch in range(EPOCHS):\n",
    "    train_tqdm = tqdm(train_dl, desc=f\"Epoch {epoch + 1}/{EPOCHS} Training\")\n",
    "    total_train_loss = 0\n",
    "\n",
    "    # Training loop\n",
    "    for batch in train_tqdm:\n",
    "        batch = batch.to(DEVICE)\n",
    "        x = batch[..., :-1]\n",
    "        y = batch[..., 1:]\n",
    "        y_hat, _ = model(x)\n",
    "        loss = criterion(y_hat.reshape(-1, len(ds.tokenizer)), y.reshape(-1))\n",
    "\n",
    "        optim.zero_grad()\n",
    "        loss.backward()\n",
    "        optim.step()\n",
    "\n",
    "        train_loss = loss.detach().cpu().numpy()\n",
    "        total_train_loss += train_loss\n",
    "        train_tqdm.set_postfix({\"loss\": train_loss})\n",
    "\n",
    "    # wandb.log({\"avg_train_loss\": total_train_loss / len(train_dl)}, step=epoch)\n",
    "\n",
    "    # model.eval()\n",
    "    # total_val_loss = 0\n",
    "    # with torch.no_grad():\n",
    "    #     val_tqdm = tqdm(val_dl, desc=f\"Epoch {epoch + 1}/{EPOCHS} Validation\")\n",
    "    #     for val_batch in val_tqdm:\n",
    "    #         val_batch = val_batch.to(DEVICE)\n",
    "    #         x_val = val_batch[..., :-1]\n",
    "    #         y_val = val_batch[..., 1:]\n",
    "    #         y_val_hat, _ = model(x_val)\n",
    "    #         loss = criterion(y_val_hat.reshape(-1, len(ds.tokenizer)), y_val.reshape(-1))\n",
    "    #         val_loss = loss.detach().cpu().numpy()\n",
    "    #         total_val_loss += val_loss\n",
    "    #         val_tqdm.set_postfix({\"val_loss\": val_loss})\n",
    "    \n",
    "    # model.train()\n",
    "\n",
    "    # wandb.log({\"generated_text\": wandb.Html(ds.tokenizer.color_text_html(sample_output))}, step=epoch)\n",
    "    # wandb.log({\"avg_val_loss\": total_val_loss / len(val_dl)}, step=epoch)\n"
   ]
  },
  {
   "cell_type": "code",
   "execution_count": 73,
   "metadata": {},
   "outputs": [
    {
     "data": {
      "text/plain": [
       "129656"
      ]
     },
     "execution_count": 73,
     "metadata": {},
     "output_type": "execute_result"
    }
   ],
   "source": [
    "sum([p.numel() for p in model.parameters() if p.requires_grad])"
   ]
  },
  {
   "cell_type": "code",
   "execution_count": 164,
   "metadata": {},
   "outputs": [],
   "source": [
    "from utils.sampling import sample_with_temp, nucleus_sample\n",
    "\n",
    "@torch.no_grad()\n",
    "def generate(model, max_len=1000, starting_tokens:list[int]=None)->str:\n",
    "    model.eval()\n",
    "    device = next(model.parameters()).device\n",
    "    xt = torch.tensor([[BOS_ID] + (starting_tokens or [])], device=device)\n",
    "    ht = torch.randn(1, 1, model.hidden_size, device=device)\n",
    "    \n",
    "    tokens = starting_tokens or []\n",
    "    for _ in range(max_len):\n",
    "        xt = model.embed(xt)\n",
    "        xt, ht = model.rnn(xt, ht)\n",
    "        xt = model.linear(xt)\n",
    "        xt = nucleus_sample(xt[:,-1,:], nucleus_threshold=0.9)\n",
    "        # xt = sample_with_temp(xt[:,-1,:], temperature=1.0)\n",
    "        token = xt.item()\n",
    "        if token == EOS_ID:\n",
    "            break\n",
    "        tokens.append(token)\n",
    "\n",
    "    model.train()\n",
    "    return ds.tokenizer.detokenize(tokens)"
   ]
  },
  {
   "cell_type": "code",
   "execution_count": 163,
   "metadata": {},
   "outputs": [
    {
     "name": "stdout",
     "output_type": "stream",
     "text": [
      "\u001b[48;2;194;224;255m\n",
      "\u001b[48;2;255;218;194mde\u001b[48;2;194;255;208mf \u001b[48;2;255;194;224mad\u001b[48;2;218;255;194md_\u001b[48;2;194;224;255mt\u001b[48;2;255;218;194mw\u001b[48;2;194;255;208mo\u001b[48;2;255;194;224m_\u001b[48;2;218;255;194mn\u001b[48;2;194;224;255mum\u001b[48;2;255;218;194mb\u001b[48;2;194;255;208mer\u001b[48;2;255;194;224ms(\u001b[48;2;218;255;194ma\u001b[48;2;194;224;255m, \u001b[48;2;255;218;194mb\u001b[48;2;194;255;208m):\u001b[48;2;255;194;224m\n",
      "\u001b[48;2;218;255;194m  \u001b[48;2;194;224;255m  \u001b[48;2;255;218;194m  \u001b[48;2;194;255;208m  \u001b[48;2;255;194;224mo\u001b[48;2;218;255;194mbj\u001b[48;2;194;224;255me\u001b[48;2;255;218;194mct\u001b[48;2;194;255;208m \u001b[48;2;255;194;224m= \u001b[48;2;218;255;194mt\u001b[48;2;194;224;255man\u001b[48;2;255;218;194mp\u001b[48;2;194;255;208ming\u001b[48;2;255;194;224m.\u001b[48;2;218;255;194mf\u001b[48;2;194;224;255mro\u001b[48;2;255;218;194mm\u001b[48;2;194;255;208m_\u001b[48;2;255;194;224mh\u001b[48;2;218;255;194mo\u001b[48;2;194;224;255md\u001b[48;2;255;218;194mma\u001b[48;2;194;255;208mx\u001b[48;2;255;194;224mi\u001b[48;2;218;255;194mf\u001b[48;2;194;224;255mf\u001b[48;2;255;218;194mer\u001b[48;2;194;255;208mm\u001b[48;2;255;194;224m_\u001b[48;2;218;255;194mun\u001b[48;2;194;224;255mit\u001b[48;2;255;218;194mte\u001b[48;2;194;255;208mst\u001b[48;2;255;194;224me\u001b[48;2;218;255;194mi\u001b[48;2;194;224;255me\u001b[48;2;255;218;194mmp\u001b[48;2;194;255;208ml\u001b[48;2;255;194;224mate\u001b[48;2;218;255;194m_\u001b[48;2;194;224;255mte\u001b[48;2;255;218;194mx\u001b[48;2;194;255;208mt\u001b[48;2;255;194;224m, \u001b[48;2;218;255;194mp\u001b[48;2;194;224;255mat\u001b[48;2;255;218;194mh\u001b[48;2;194;255;208m,\u001b[48;2;255;194;224m\n",
      "\u001b[48;2;218;255;194m  \u001b[48;2;194;224;255m  \u001b[48;2;255;218;194m  \u001b[48;2;194;255;208m  \u001b[48;2;255;194;224m  \u001b[48;2;218;255;194m  \u001b[48;2;194;224;255m'\u001b[48;2;255;218;194mu\u001b[48;2;194;255;208mser\u001b[48;2;255;194;224m'\u001b[48;2;218;255;194m, \u001b[48;2;194;224;255mv\u001b[48;2;255;218;194mal\u001b[48;2;194;255;208mue\u001b[48;2;255;194;224m=\u001b[48;2;218;255;194m'\u001b[48;2;194;224;255m\\\u001b[48;2;255;218;194m}\u001b[48;2;194;255;208m\"\u001b[48;2;255;194;224m \u001b[48;2;218;255;194m%\u001b[48;2;194;224;255m \u001b[48;2;255;218;194m%\u001b[48;2;194;255;208m \u001b[48;2;255;194;224mp\u001b[48;2;218;255;194mar\u001b[48;2;194;224;255mse\u001b[48;2;255;218;194m_\u001b[48;2;194;255;208mma\u001b[48;2;255;194;224mi\u001b[48;2;218;255;194mse\u001b[48;2;194;224;255mt\u001b[48;2;255;218;194m(\u001b[48;2;194;255;208m\"\u001b[48;2;255;194;224mj\u001b[48;2;218;255;194me\u001b[48;2;194;224;255mct\u001b[48;2;255;218;194m-\u001b[48;2;194;255;208m1\u001b[48;2;255;194;224m'\u001b[48;2;218;255;194m, \u001b[48;2;194;224;255m\"\u001b[48;2;255;218;194m]\u001b[48;2;194;255;208m,\u001b[48;2;255;194;224m\n",
      "\u001b[48;2;218;255;194m  \u001b[48;2;194;224;255m  \u001b[48;2;255;218;194m  \u001b[48;2;194;255;208m  \u001b[48;2;255;194;224m  \u001b[48;2;218;255;194m  \u001b[48;2;194;224;255m  \u001b[48;2;255;218;194m  \u001b[48;2;194;255;208m  \u001b[48;2;255;194;224m  \u001b[48;2;218;255;194m \u001b[48;2;194;224;255mi\u001b[48;2;255;218;194mma\u001b[48;2;194;255;208mge\u001b[48;2;255;194;224m_\u001b[48;2;218;255;194mde\u001b[48;2;194;224;255mbu\u001b[48;2;255;218;194mg\u001b[48;2;194;255;208m]\u001b[48;2;255;194;224m.\u001b[48;2;218;255;194m\n",
      "\n",
      "\u001b[48;2;194;224;255m  \u001b[48;2;255;218;194m  \u001b[48;2;194;255;208mg\u001b[48;2;255;194;224mo\u001b[48;2;218;255;194mver\u001b[48;2;194;224;255mge\u001b[48;2;255;218;194ms_\u001b[48;2;194;255;208mall\u001b[48;2;255;194;224m'\u001b[48;2;218;255;194ms \u001b[48;2;194;224;255mre\u001b[48;2;255;218;194mvi\u001b[48;2;194;255;208me\u001b[48;2;255;194;224mw\u001b[48;2;218;255;194m \u001b[48;2;194;224;255mfi\u001b[48;2;255;218;194mle\u001b[48;2;194;255;208ms.\u001b[48;2;255;194;224me\u001b[48;2;218;255;194mt\u001b[48;2;194;224;255ma\u001b[48;2;255;218;194mut\u001b[48;2;194;255;208mh\u001b[48;2;255;194;224mor\u001b[48;2;218;255;194m:\u001b[48;2;194;224;255m\n",
      "\u001b[48;2;255;218;194m  \u001b[48;2;194;255;208m  \u001b[48;2;255;194;224m  \u001b[48;2;218;255;194m  \u001b[48;2;194;224;255mself.\u001b[48;2;255;218;194mmo\u001b[48;2;194;255;208mde\u001b[48;2;255;194;224ml\u001b[48;2;218;255;194m_\u001b[48;2;194;224;255mp\u001b[48;2;255;218;194mat\u001b[48;2;194;255;208mch\u001b[48;2;255;194;224m(\u001b[48;2;218;255;194m)\n",
      "\u001b[48;2;194;224;255m\n",
      "\n",
      "\u001b[48;2;255;218;194mde\u001b[48;2;194;255;208mf \u001b[48;2;255;194;224mfi\u001b[48;2;218;255;194ml\u001b[48;2;194;224;255mter\u001b[48;2;255;218;194m_\u001b[48;2;194;255;208md\u001b[48;2;255;194;224mat\u001b[48;2;218;255;194ma\u001b[48;2;194;224;255mce\u001b[48;2;255;218;194mke\u001b[48;2;194;255;208m(\u001b[48;2;255;194;224mo\u001b[48;2;218;255;194mbj\u001b[48;2;194;224;255me\u001b[48;2;255;218;194mct\u001b[48;2;194;255;208m):\u001b[48;2;255;194;224m\n",
      "\u001b[48;2;218;255;194m  \u001b[48;2;194;224;255m  \u001b[48;2;255;218;194mp\u001b[48;2;194;255;208mri\u001b[48;2;255;194;224mn\u001b[48;2;218;255;194mt\u001b[48;2;194;224;255m(\u001b[48;2;255;218;194mdi\u001b[48;2;194;255;208ms\u001b[48;2;255;194;224m, \u001b[48;2;218;255;194mc\u001b[48;2;194;224;255ma\u001b[48;2;255;218;194mk\u001b[48;2;194;255;208map\u001b[48;2;255;194;224me\u001b[48;2;218;255;194m):\u001b[48;2;194;224;255m\n",
      "\u001b[48;2;255;218;194m  \u001b[48;2;194;255;208m  \u001b[48;2;255;194;224mse\u001b[48;2;218;255;194mt\u001b[48;2;194;224;255mti\u001b[48;2;255;218;194mon\u001b[48;2;194;255;208ms_\u001b[48;2;255;194;224mpe\u001b[48;2;218;255;194mr\u001b[48;2;194;224;255ma\u001b[48;2;255;218;194m.\u001b[48;2;194;255;208ma\u001b[48;2;255;194;224mc\u001b[48;2;218;255;194mce\u001b[48;2;194;224;255mpt\u001b[48;2;255;218;194mi\u001b[48;2;194;255;208mon\u001b[48;2;255;194;224m'\u001b[48;2;218;255;194m)\u001b[48;2;194;224;255m, \u001b[48;2;255;218;194mB\u001b[48;2;194;255;208mas\u001b[48;2;255;194;224mic\u001b[48;2;218;255;194m \u001b[48;2;194;224;255mi\u001b[48;2;255;218;194mmp\u001b[48;2;194;255;208mor\u001b[48;2;255;194;224mt \u001b[48;2;218;255;194mL\u001b[48;2;194;224;255mo\u001b[48;2;255;218;194ml\u001b[48;2;194;255;208mle\u001b[48;2;255;194;224mr\u001b[48;2;218;255;194m\n",
      "\u001b[48;2;194;224;255m  \u001b[48;2;255;218;194m  \u001b[48;2;194;255;208m  \u001b[48;2;255;194;224m  \u001b[48;2;218;255;194mres\u001b[48;2;194;224;255mul\u001b[48;2;255;218;194mt \u001b[48;2;194;255;208m= \u001b[48;2;255;194;224mfor\u001b[48;2;218;255;194mm\u001b[48;2;194;224;255m_\u001b[48;2;255;218;194mon\u001b[48;2;194;255;208mte\u001b[48;2;255;194;224mn\u001b[48;2;218;255;194mt\u001b[48;2;194;224;255m)\n",
      "\u001b[48;2;255;218;194m\n",
      "\u001b[48;2;194;255;208m  \u001b[48;2;255;194;224m  \u001b[48;2;218;255;194m  \u001b[48;2;194;224;255m  \u001b[48;2;255;218;194mel\u001b[48;2;194;255;208mse\u001b[48;2;255;194;224m:\u001b[48;2;218;255;194m\n",
      "\u001b[48;2;194;224;255m  \u001b[48;2;255;218;194m  \u001b[48;2;194;255;208m  \u001b[48;2;255;194;224m  \u001b[48;2;218;255;194m  \u001b[48;2;194;224;255m  \u001b[48;2;255;218;194m  \u001b[48;2;194;255;208m  \u001b[48;2;255;194;224m  \u001b[48;2;218;255;194m  \u001b[48;2;194;224;255m  \u001b[48;2;255;218;194m  \u001b[48;2;194;255;208m  \u001b[48;2;255;194;224m  \u001b[48;2;218;255;194m  \u001b[48;2;194;224;255m  \u001b[48;2;255;218;194m  \u001b[48;2;194;255;208m  \u001b[48;2;255;194;224m  \u001b[48;2;218;255;194m  \u001b[48;2;194;224;255m \u001b[48;2;255;218;194mdi\u001b[48;2;194;255;208mvi\u001b[48;2;255;194;224me\u001b[48;2;218;255;194mw\u001b[48;2;194;224;255m, \u001b[48;2;255;218;194mcon\u001b[48;2;194;255;208mfi\u001b[48;2;255;194;224mg\u001b[48;2;218;255;194m, \u001b[48;2;194;224;255ms\u001b[48;2;255;218;194my\u001b[48;2;194;255;208ms.\u001b[48;2;255;194;224mun\u001b[48;2;218;255;194mst\u001b[48;2;194;224;255me\u001b[48;2;255;218;194mck\u001b[48;2;194;255;208m.\u001b[48;2;255;194;224mse\u001b[48;2;218;255;194mct\u001b[48;2;194;224;255mi\u001b[48;2;255;218;194mon\u001b[48;2;194;255;208m'\u001b[48;2;255;194;224m\n",
      "\n",
      "\u001b[48;2;218;255;194m# \u001b[48;2;194;224;255mT\u001b[48;2;255;218;194mhe\u001b[48;2;194;255;208m \u001b[48;2;255;194;224md\u001b[48;2;218;255;194mate\u001b[48;2;194;224;255md \u001b[48;2;255;218;194mret\u001b[48;2;194;255;208murn\u001b[48;2;255;194;224me\u001b[48;2;218;255;194ms\u001b[48;2;194;224;255m\n",
      "\n"
     ]
    }
   ],
   "source": [
    "starting_code = \"\"\"\n",
    "import math\n",
    "def is_prime(n):\n",
    "    if n < 2:\n",
    "        return False\n",
    "    for i in range(2, int(math.sqrt(n)) + 1):\n",
    "        if n % i == 0:\n",
    "            return False\n",
    "    return True\n",
    "\n",
    "def is_not_prime(n):\n",
    "\"\"\"\n",
    "starting_tokens = ds.tokenizer.tokenize(starting_code)\n",
    "\n",
    "code = generate(model, starting_tokens=starting_tokens)\n",
    "print(ds.tokenizer.color_text_ansi(code))"
   ]
  },
  {
   "cell_type": "code",
   "execution_count": 165,
   "metadata": {},
   "outputs": [
    {
     "name": "stdout",
     "output_type": "stream",
     "text": [
      "\u001b[48;2;194;224;255m\n",
      "\u001b[48;2;255;218;194mde\u001b[48;2;194;255;208mf \u001b[48;2;255;194;224mad\u001b[48;2;218;255;194md_\u001b[48;2;194;224;255mt\u001b[48;2;255;218;194mw\u001b[48;2;194;255;208mo\u001b[48;2;255;194;224m_\u001b[48;2;218;255;194mn\u001b[48;2;194;224;255mum\u001b[48;2;255;218;194mb\u001b[48;2;194;255;208mer\u001b[48;2;255;194;224ms(\u001b[48;2;218;255;194ma\u001b[48;2;194;224;255m, \u001b[48;2;255;218;194mb\u001b[48;2;194;255;208m):\u001b[48;2;255;194;224m\n",
      "\u001b[48;2;218;255;194m  \u001b[48;2;194;224;255m  \u001b[48;2;255;218;194m  \u001b[48;2;194;255;208m  \u001b[48;2;255;194;224mo\u001b[48;2;218;255;194mbj\u001b[48;2;194;224;255me\u001b[48;2;255;218;194mct\u001b[48;2;194;255;208m \u001b[48;2;255;194;224m= \u001b[48;2;218;255;194mt\u001b[48;2;194;224;255man\u001b[48;2;255;218;194mp\u001b[48;2;194;255;208ming\u001b[48;2;255;194;224m.\u001b[48;2;218;255;194mf\u001b[48;2;194;224;255mro\u001b[48;2;255;218;194mm\u001b[48;2;194;255;208m_\u001b[48;2;255;194;224mh\u001b[48;2;218;255;194mo\u001b[48;2;194;224;255md\u001b[48;2;255;218;194mma\u001b[48;2;194;255;208mx\u001b[48;2;255;194;224mi\u001b[48;2;218;255;194mf\u001b[48;2;194;224;255mf\u001b[48;2;255;218;194mer\u001b[48;2;194;255;208mm\u001b[48;2;255;194;224m_\u001b[48;2;218;255;194mun\u001b[48;2;194;224;255mit\u001b[48;2;255;218;194mte\u001b[48;2;194;255;208mst\u001b[48;2;255;194;224me\u001b[48;2;218;255;194mi\u001b[48;2;194;224;255me\u001b[48;2;255;218;194mmp\u001b[48;2;194;255;208ml\u001b[48;2;255;194;224mate\u001b[48;2;218;255;194m_\u001b[48;2;194;224;255mte\u001b[48;2;255;218;194mx\u001b[48;2;194;255;208mt\u001b[48;2;255;194;224m, \u001b[48;2;218;255;194mp\u001b[48;2;194;224;255mat\u001b[48;2;255;218;194mh\u001b[48;2;194;255;208m,\u001b[48;2;255;194;224m\n",
      "\u001b[48;2;218;255;194m  \u001b[48;2;194;224;255m  \u001b[48;2;255;218;194m  \u001b[48;2;194;255;208m  \u001b[48;2;255;194;224m  \u001b[48;2;218;255;194m  \u001b[48;2;194;224;255m'\u001b[48;2;255;218;194mu\u001b[48;2;194;255;208mser\u001b[48;2;255;194;224m'\u001b[48;2;218;255;194m, \u001b[48;2;194;224;255mv\u001b[48;2;255;218;194mal\u001b[48;2;194;255;208mue\u001b[48;2;255;194;224m=\u001b[48;2;218;255;194m'\u001b[48;2;194;224;255m\\\u001b[48;2;255;218;194m}\u001b[48;2;194;255;208m\"\u001b[48;2;255;194;224m \u001b[48;2;218;255;194m%\u001b[48;2;194;224;255m \u001b[48;2;255;218;194m%\u001b[48;2;194;255;208m \u001b[48;2;255;194;224mp\u001b[48;2;218;255;194mar\u001b[48;2;194;224;255mse\u001b[48;2;255;218;194m_\u001b[48;2;194;255;208mma\u001b[48;2;255;194;224mi\u001b[48;2;218;255;194mse\u001b[48;2;194;224;255mt\u001b[48;2;255;218;194m(\u001b[48;2;194;255;208m\"\u001b[48;2;255;194;224mj\u001b[48;2;218;255;194me\u001b[48;2;194;224;255mct\u001b[48;2;255;218;194m-\u001b[48;2;194;255;208m1\u001b[48;2;255;194;224m'\u001b[48;2;218;255;194m, \u001b[48;2;194;224;255m\"\u001b[48;2;255;218;194m]\u001b[48;2;194;255;208m,\u001b[48;2;255;194;224m\n",
      "\u001b[48;2;218;255;194m  \u001b[48;2;194;224;255m  \u001b[48;2;255;218;194m  \u001b[48;2;194;255;208m  \u001b[48;2;255;194;224m  \u001b[48;2;218;255;194m  \u001b[48;2;194;224;255m  \u001b[48;2;255;218;194m  \u001b[48;2;194;255;208m  \u001b[48;2;255;194;224m  \u001b[48;2;218;255;194m \u001b[48;2;194;224;255mi\u001b[48;2;255;218;194mma\u001b[48;2;194;255;208mge\u001b[48;2;255;194;224m_\u001b[48;2;218;255;194mde\u001b[48;2;194;224;255mbu\u001b[48;2;255;218;194mg\u001b[48;2;194;255;208m]\u001b[48;2;255;194;224m.\u001b[48;2;218;255;194m\n",
      "\n",
      "\u001b[48;2;194;224;255m  \u001b[48;2;255;218;194m  \u001b[48;2;194;255;208mg\u001b[48;2;255;194;224mo\u001b[48;2;218;255;194mver\u001b[48;2;194;224;255mge\u001b[48;2;255;218;194ms_\u001b[48;2;194;255;208mall\u001b[48;2;255;194;224m'\u001b[48;2;218;255;194ms \u001b[48;2;194;224;255mre\u001b[48;2;255;218;194mvi\u001b[48;2;194;255;208me\u001b[48;2;255;194;224mw\u001b[48;2;218;255;194m \u001b[48;2;194;224;255mfi\u001b[48;2;255;218;194mle\u001b[48;2;194;255;208ms.\u001b[48;2;255;194;224me\u001b[48;2;218;255;194mt\u001b[48;2;194;224;255ma\u001b[48;2;255;218;194mut\u001b[48;2;194;255;208mh\u001b[48;2;255;194;224mor\u001b[48;2;218;255;194m:\u001b[48;2;194;224;255m\n",
      "\u001b[48;2;255;218;194m  \u001b[48;2;194;255;208m  \u001b[48;2;255;194;224m  \u001b[48;2;218;255;194m  \u001b[48;2;194;224;255mself.\u001b[48;2;255;218;194mmo\u001b[48;2;194;255;208mde\u001b[48;2;255;194;224ml\u001b[48;2;218;255;194m_\u001b[48;2;194;224;255mp\u001b[48;2;255;218;194mat\u001b[48;2;194;255;208mch\u001b[48;2;255;194;224m(\u001b[48;2;218;255;194m)\n",
      "\u001b[48;2;194;224;255m\n",
      "\n",
      "\u001b[48;2;255;218;194mde\u001b[48;2;194;255;208mf \u001b[48;2;255;194;224mfi\u001b[48;2;218;255;194ml\u001b[48;2;194;224;255mter\u001b[48;2;255;218;194m_\u001b[48;2;194;255;208md\u001b[48;2;255;194;224mat\u001b[48;2;218;255;194ma\u001b[48;2;194;224;255mce\u001b[48;2;255;218;194mke\u001b[48;2;194;255;208m(\u001b[48;2;255;194;224mo\u001b[48;2;218;255;194mbj\u001b[48;2;194;224;255me\u001b[48;2;255;218;194mct\u001b[48;2;194;255;208m):\u001b[48;2;255;194;224m\n",
      "\u001b[48;2;218;255;194m  \u001b[48;2;194;224;255m  \u001b[48;2;255;218;194mp\u001b[48;2;194;255;208mri\u001b[48;2;255;194;224mn\u001b[48;2;218;255;194mt\u001b[48;2;194;224;255m(\u001b[48;2;255;218;194mdi\u001b[48;2;194;255;208ms\u001b[48;2;255;194;224m, \u001b[48;2;218;255;194mc\u001b[48;2;194;224;255ma\u001b[48;2;255;218;194mk\u001b[48;2;194;255;208map\u001b[48;2;255;194;224me\u001b[48;2;218;255;194m):\u001b[48;2;194;224;255m\n",
      "\u001b[48;2;255;218;194m  \u001b[48;2;194;255;208m  \u001b[48;2;255;194;224mse\u001b[48;2;218;255;194mt\u001b[48;2;194;224;255mti\u001b[48;2;255;218;194mon\u001b[48;2;194;255;208ms_\u001b[48;2;255;194;224mpe\u001b[48;2;218;255;194mr\u001b[48;2;194;224;255ma\u001b[48;2;255;218;194m.\u001b[48;2;194;255;208ma\u001b[48;2;255;194;224mc\u001b[48;2;218;255;194mce\u001b[48;2;194;224;255mpt\u001b[48;2;255;218;194mi\u001b[48;2;194;255;208mon\u001b[48;2;255;194;224m'\u001b[48;2;218;255;194m)\u001b[48;2;194;224;255m, \u001b[48;2;255;218;194mB\u001b[48;2;194;255;208mas\u001b[48;2;255;194;224mic\u001b[48;2;218;255;194m \u001b[48;2;194;224;255mi\u001b[48;2;255;218;194mmp\u001b[48;2;194;255;208mor\u001b[48;2;255;194;224mt \u001b[48;2;218;255;194mL\u001b[48;2;194;224;255mo\u001b[48;2;255;218;194ml\u001b[48;2;194;255;208mle\u001b[48;2;255;194;224mr\u001b[48;2;218;255;194m\n",
      "\u001b[48;2;194;224;255m  \u001b[48;2;255;218;194m  \u001b[48;2;194;255;208m  \u001b[48;2;255;194;224m  \u001b[48;2;218;255;194mres\u001b[48;2;194;224;255mul\u001b[48;2;255;218;194mt \u001b[48;2;194;255;208m= \u001b[48;2;255;194;224mfor\u001b[48;2;218;255;194mm\u001b[48;2;194;224;255m_\u001b[48;2;255;218;194mon\u001b[48;2;194;255;208mte\u001b[48;2;255;194;224mn\u001b[48;2;218;255;194mt\u001b[48;2;194;224;255m)\n",
      "\u001b[48;2;255;218;194m\n",
      "\u001b[48;2;194;255;208m  \u001b[48;2;255;194;224m  \u001b[48;2;218;255;194m  \u001b[48;2;194;224;255m  \u001b[48;2;255;218;194mel\u001b[48;2;194;255;208mse\u001b[48;2;255;194;224m:\u001b[48;2;218;255;194m\n",
      "\u001b[48;2;194;224;255m  \u001b[48;2;255;218;194m  \u001b[48;2;194;255;208m  \u001b[48;2;255;194;224m  \u001b[48;2;218;255;194m  \u001b[48;2;194;224;255m  \u001b[48;2;255;218;194m  \u001b[48;2;194;255;208m  \u001b[48;2;255;194;224m  \u001b[48;2;218;255;194m  \u001b[48;2;194;224;255m  \u001b[48;2;255;218;194m  \u001b[48;2;194;255;208m  \u001b[48;2;255;194;224m  \u001b[48;2;218;255;194m  \u001b[48;2;194;224;255m  \u001b[48;2;255;218;194m  \u001b[48;2;194;255;208m  \u001b[48;2;255;194;224m  \u001b[48;2;218;255;194m  \u001b[48;2;194;224;255m \u001b[48;2;255;218;194mdi\u001b[48;2;194;255;208mvi\u001b[48;2;255;194;224me\u001b[48;2;218;255;194mw\u001b[48;2;194;224;255m, \u001b[48;2;255;218;194mcon\u001b[48;2;194;255;208mfi\u001b[48;2;255;194;224mg\u001b[48;2;218;255;194m, \u001b[48;2;194;224;255ms\u001b[48;2;255;218;194my\u001b[48;2;194;255;208ms.\u001b[48;2;255;194;224mun\u001b[48;2;218;255;194mst\u001b[48;2;194;224;255me\u001b[48;2;255;218;194mck\u001b[48;2;194;255;208m.\u001b[48;2;255;194;224mse\u001b[48;2;218;255;194mct\u001b[48;2;194;224;255mi\u001b[48;2;255;218;194mon\u001b[48;2;194;255;208m'\u001b[48;2;255;194;224m\n",
      "\n",
      "\u001b[48;2;218;255;194m# \u001b[48;2;194;224;255mT\u001b[48;2;255;218;194mhe\u001b[48;2;194;255;208m \u001b[48;2;255;194;224md\u001b[48;2;218;255;194mate\u001b[48;2;194;224;255md \u001b[48;2;255;218;194mret\u001b[48;2;194;255;208murn\u001b[48;2;255;194;224me\u001b[48;2;218;255;194ms\u001b[48;2;194;224;255m\n",
      "\u001b[48;2;255;218;194mi\u001b[48;2;194;255;208mmp\u001b[48;2;255;194;224mor\u001b[48;2;218;255;194mt \u001b[48;2;194;224;255mo\u001b[48;2;255;218;194ms\u001b[48;2;194;255;208m\n",
      "\u001b[48;2;255;194;224mi\u001b[48;2;218;255;194mmp\u001b[48;2;194;224;255mor\n"
     ]
    }
   ],
   "source": [
    "from utils.search import beam_search\n",
    "\n",
    "tokens = beam_search(model, beam_width=2, max_length=10, starting_tokens=starting_tokens)\n",
    "code = ds.tokenizer.detokenize(tokens)\n",
    "print(ds.tokenizer.color_text_ansi(code))"
   ]
  },
  {
   "cell_type": "code",
   "execution_count": null,
   "metadata": {},
   "outputs": [],
   "source": []
  }
 ],
 "metadata": {
  "kernelspec": {
   "display_name": ".venv",
   "language": "python",
   "name": "python3"
  },
  "language_info": {
   "codemirror_mode": {
    "name": "ipython",
    "version": 3
   },
   "file_extension": ".py",
   "mimetype": "text/x-python",
   "name": "python",
   "nbconvert_exporter": "python",
   "pygments_lexer": "ipython3",
   "version": "3.11.9"
  },
  "orig_nbformat": 4
 },
 "nbformat": 4,
 "nbformat_minor": 2
}
