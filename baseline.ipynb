{
 "cells": [
  {
   "cell_type": "code",
   "execution_count": 1,
   "metadata": {},
   "outputs": [],
   "source": [
    "%load_ext autoreload\n",
    "%autoreload 2\n",
    "\n",
    "from utils import BPETokenizer\n",
    "\n",
    "import torch\n",
    "import torch.nn as nn\n",
    "import torch.nn.functional as F\n",
    "\n",
    "import wandb"
   ]
  },
  {
   "cell_type": "code",
   "execution_count": 2,
   "metadata": {},
   "outputs": [],
   "source": [
    "train_files = open(\"data/PY150K/python100k_train.txt\", \"r\").read().split(\"\\n\")[:10000]"
   ]
  },
  {
   "cell_type": "code",
   "execution_count": 3,
   "metadata": {},
   "outputs": [],
   "source": [
    "# tokenizer = BPETokenizer.fit(\"\\n\".join([open(\"data/PY150K/\" + path, encoding='iso-8859-1').read() for path in train_files[:1000]]), 100)\n",
    "# tokenizer.save(\"py150k_large\")\n",
    "tokenizer = BPETokenizer.load(\"py150k_large\")"
   ]
  },
  {
   "cell_type": "code",
   "execution_count": 4,
   "metadata": {},
   "outputs": [
    {
     "name": "stdout",
     "output_type": "stream",
     "text": [
      "\u001b[48;2;194;224;255m# \u001b[48;2;255;218;194m-\u001b[48;2;194;255;208m*\u001b[48;2;255;194;224m-\u001b[48;2;218;255;194m \u001b[48;2;194;224;255mco\u001b[48;2;255;218;194mdi\u001b[48;2;194;255;208mn\u001b[48;2;255;194;224mg\u001b[48;2;218;255;194m: \u001b[48;2;194;224;255mu\u001b[48;2;255;218;194mt\u001b[48;2;194;255;208mf\u001b[48;2;255;194;224m-\u001b[48;2;218;255;194m8\u001b[48;2;194;224;255m \u001b[48;2;255;218;194m-\u001b[48;2;194;255;208m*\u001b[48;2;255;194;224m-\u001b[48;2;218;255;194m\n",
      "\u001b[48;2;194;224;255mf\u001b[48;2;255;218;194mro\u001b[48;2;194;255;208mm\u001b[48;2;255;194;224m \u001b[48;2;218;255;194m_\u001b[48;2;194;224;255m_\u001b[48;2;255;218;194mf\u001b[48;2;194;255;208mu\u001b[48;2;255;194;224mt\u001b[48;2;218;255;194mur\u001b[48;2;194;224;255me\u001b[48;2;255;218;194m_\u001b[48;2;194;255;208m_\u001b[48;2;255;194;224m \u001b[48;2;218;255;194mi\u001b[48;2;194;224;255mmp\u001b[48;2;255;218;194mor\u001b[48;2;194;255;208mt \u001b[48;2;255;194;224mun\u001b[48;2;218;255;194mi\u001b[48;2;194;224;255mco\u001b[48;2;255;218;194mde\u001b[48;2;194;255;208m_\u001b[48;2;255;194;224mli\u001b[48;2;218;255;194mter\u001b[48;2;194;224;255mal\u001b[48;2;255;218;194ms\u001b[48;2;194;255;208m\n",
      "\n",
      "\u001b[48;2;255;194;224mf\u001b[48;2;218;255;194mro\u001b[48;2;194;224;255mm\u001b[48;2;255;218;194m \u001b[48;2;194;255;208md\u001b[48;2;255;194;224mj\u001b[48;2;218;255;194man\u001b[48;2;194;224;255mg\u001b[48;2;255;218;194mo\u001b[48;2;194;255;208m.\u001b[48;2;255;194;224md\u001b[48;2;218;255;194mb\u001b[48;2;194;224;255m \u001b[48;2;255;218;194mi\u001b[48;2;194;255;208mmp\u001b[48;2;255;194;224mor\u001b[48;2;218;255;194mt \u001b[48;2;194;224;255mmo\u001b[48;2;255;218;194mde\u001b[48;2;194;255;208ml\u001b[48;2;255;194;224ms\u001b[48;2;218;255;194m, \u001b[48;2;194;224;255mm\u001b[48;2;255;218;194mi\u001b[48;2;194;255;208mg\u001b[48;2;255;194;224mr\u001b[48;2;218;255;194mat\u001b[48;2;194;224;255mi\u001b[48;2;255;218;194mon\u001b[48;2;194;255;208ms\u001b[48;2;255;194;224m\n",
      "\n",
      "\u001b[48;2;218;255;194m\n",
      "\u001b[48;2;194;224;255mc\u001b[48;2;255;218;194ml\u001b[48;2;194;255;208mas\u001b[48;2;255;194;224ms \u001b[48;2;218;255;194mM\u001b[48;2;194;224;255mi\u001b[48;2;255;218;194mg\u001b[48;2;194;255;208mr\u001b[48;2;255;194;224mat\u001b[48;2;218;255;194mi\u001b[48;2;194;224;255mon\u001b[48;2;255;218;194m(\u001b[48;2;194;255;208mm\u001b[48;2;255;194;224mi\u001b[48;2;218;255;194mg\u001b[48;2;194;224;255mr\u001b[48;2;255;218;194mat\u001b[48;2;194;255;208mi\u001b[48;2;255;194;224mon\u001b[48;2;218;255;194ms.\u001b[48;2;194;224;255mM\u001b[48;2;255;218;194mi\u001b[48;2;194;255;208mg\u001b[48;2;255;194;224mr\u001b[48;2;218;255;194mat\u001b[48;2;194;224;255mi\u001b[48;2;255;218;194mon\u001b[48;2;194;255;208m)\u001b[48;2;255;194;224m:\u001b[48;2;218;255;194m\n",
      "\n",
      "\u001b[48;2;194;224;255m    \u001b[48;2;255;218;194mde\u001b[48;2;194;255;208mp\u001b[48;2;255;194;224men\u001b[48;2;218;255;194mde\u001b[48;2;194;224;255mn\u001b[48;2;255;218;194mc\u001b[48;2;194;255;208mi\u001b[48;2;255;194;224me\u001b[48;2;218;255;194ms \u001b[48;2;194;224;255m= \u001b[48;2;255;218;194m[\u001b[48;2;194;255;208m\n",
      "        \u001b[48;2;255;194;224m(\u001b[48;2;218;255;194m'\u001b[48;2;194;224;255mte\u001b[48;2;255;218;194mst\u001b[48;2;194;255;208mre\u001b[48;2;255;194;224mp\u001b[48;2;218;255;194mor\u001b[48;2;194;224;255mt\u001b[48;2;255;218;194m'\u001b[48;2;194;255;208m, \u001b[48;2;255;194;224m'\u001b[48;2;218;255;194m0\u001b[48;2;194;224;255m0\u001b[48;2;255;218;194m2\u001b[48;2;194;255;208m6\u001b[48;2;255;194;224m_\u001b[48;2;218;255;194mte\u001b[48;2;194;224;255mst\u001b[48;2;255;218;194mres\u001b[48;2;194;255;208mul\u001b[48;2;255;194;224mt_\u001b[48;2;218;255;194ml\u001b[48;2;194;224;255ma\u001b[48;2;255;218;194mun\u001b[48;2;194;255;208mch\u001b[48;2;255;194;224m_\u001b[48;2;218;255;194mi\u001b[48;2;194;224;255mte\u001b[48;2;255;218;194mm\u001b[48;2;194;255;208m_\u001b[48;2;255;194;224mid\u001b[48;2;218;255;194m'\u001b[48;2;194;224;255m)\u001b[48;2;255;218;194m,\u001b[48;2;194;255;208m\n",
      "    \u001b[48;2;255;194;224m]\u001b[48;2;218;255;194m\n",
      "\n",
      "\u001b[48;2;194;224;255m    \u001b[48;2;255;218;194mo\u001b[48;2;194;255;208mp\u001b[48;2;255;194;224mer\u001b[48;2;218;255;194mat\u001b[48;2;194;224;255mi\u001b[48;2;255;218;194mon\u001b[48;2;194;255;208ms \u001b[48;2;255;194;224m= \u001b[48;2;218;255;194m[\u001b[48;2;194;224;255m\n",
      "        \u001b[48;2;255;218;194mm\u001b[48;2;194;255;208mi\u001b[48;2;255;194;224mg\u001b[48;2;218;255;194mr\u001b[48;2;194;224;255mat\u001b[48;2;255;218;194mi\u001b[48;2;194;255;208mon\u001b[48;2;255;194;224ms.\u001b[48;2;218;255;194mA\u001b[48;2;194;224;255md\u001b[48;2;255;218;194md\u001b[48;2;194;255;208mF\u001b[48;2;255;194;224mi\u001b[48;2;218;255;194mel\u001b[48;2;194;224;255md\u001b[48;2;255;218;194m(\u001b[48;2;194;255;208m\n",
      "        \u001b[48;2;255;194;224m    \u001b[48;2;218;255;194mmo\u001b[48;2;194;224;255mde\u001b[48;2;255;218;194ml\u001b[48;2;194;255;208m_\u001b[48;2;255;194;224mname\u001b[48;2;218;255;194m=\u001b[48;2;194;224;255m'\u001b[48;2;255;218;194mte\u001b[48;2;194;255;208mst\u001b[48;2;255;194;224mp\u001b[48;2;218;255;194ml\u001b[48;2;194;224;255man\u001b[48;2;255;218;194m'\u001b[48;2;194;255;208m,\n",
      "        \u001b[48;2;255;194;224m    \u001b[48;2;218;255;194mname\u001b[48;2;194;224;255m=\u001b[48;2;255;218;194m'\u001b[48;2;194;255;208mfi\u001b[48;2;255;194;224ml\u001b[48;2;218;255;194mter\u001b[48;2;194;224;255m'\u001b[48;2;255;218;194m,\n",
      "        \u001b[48;2;194;255;208m    \u001b[48;2;255;194;224mfi\u001b[48;2;218;255;194mel\u001b[48;2;194;224;255md\u001b[48;2;255;218;194m=\u001b[48;2;194;255;208mmo\u001b[48;2;255;194;224mde\u001b[48;2;218;255;194ml\u001b[48;2;194;224;255ms.\u001b[48;2;255;218;194mT\u001b[48;2;194;255;208mex\u001b[48;2;255;194;224mt\u001b[48;2;218;255;194mF\u001b[48;2;194;224;255mi\u001b[48;2;255;218;194mel\u001b[48;2;194;255;208md\u001b[48;2;255;194;224m(\u001b[48;2;218;255;194mde\u001b[48;2;194;224;255mf\u001b[48;2;255;218;194ma\u001b[48;2;194;255;208mul\u001b[48;2;255;194;224mt\u001b[48;2;218;255;194m=\u001b[48;2;194;224;255mb\u001b[48;2;255;218;194m'\u001b[48;2;194;255;208m'\u001b[48;2;255;194;224m, \u001b[48;2;218;255;194mma\u001b[48;2;194;224;255mx\u001b[48;2;255;218;194m_\u001b[48;2;194;255;208mle\u001b[48;2;255;194;224mn\u001b[48;2;218;255;194mg\u001b[48;2;194;224;255mth\u001b[48;2;255;218;194m=\u001b[48;2;194;255;208m1\u001b[48;2;255;194;224m2\u001b[48;2;218;255;194m8\u001b[48;2;194;224;255m, \u001b[48;2;255;218;194mv\u001b[48;2;194;255;208mer\u001b[48;2;255;194;224mb\u001b[48;2;218;255;194mo\u001b[48;2;194;224;255mse\u001b[48;2;255;218;194m_\u001b[48;2;194;255;208mname\u001b[48;2;255;194;224m=\u001b[48;2;218;255;194m'\u001b[48;2;194;224;255mS\u001b[48;2;255;218;194mt\u001b[48;2;194;255;208mar\u001b[48;2;255;194;224mte\u001b[48;2;218;255;194md \u001b[48;2;194;224;255mb\u001b[48;2;255;218;194my\u001b[48;2;194;255;208m \u001b[48;2;255;194;224mfi\u001b[48;2;218;255;194ml\u001b[48;2;194;224;255mter\u001b[48;2;255;218;194m'\u001b[48;2;194;255;208m, \u001b[48;2;255;194;224mb\u001b[48;2;218;255;194ml\u001b[48;2;194;224;255man\u001b[48;2;255;218;194mk\u001b[48;2;194;255;208m=\u001b[48;2;255;194;224mT\u001b[48;2;218;255;194mr\u001b[48;2;194;224;255mue\u001b[48;2;255;218;194m)\u001b[48;2;194;255;208m,\n",
      "        \u001b[48;2;255;194;224m    \u001b[48;2;218;255;194mp\u001b[48;2;194;224;255mres\u001b[48;2;255;218;194mer\u001b[48;2;194;255;208mv\u001b[48;2;255;194;224me\u001b[48;2;218;255;194m_\u001b[48;2;194;224;255mde\u001b[48;2;255;218;194mf\u001b[48;2;194;255;208ma\u001b[48;2;255;194;224mul\u001b[48;2;218;255;194mt\u001b[48;2;194;224;255m=\u001b[48;2;255;218;194mT\u001b[48;2;194;255;208mr\u001b[48;2;255;194;224mue\u001b[48;2;218;255;194m,\n",
      "        \u001b[48;2;194;224;255m)\u001b[48;2;255;218;194m,\n",
      "        \u001b[48;2;194;255;208mm\u001b[48;2;255;194;224mi\u001b[48;2;218;255;194mg\u001b[48;2;194;224;255mr\u001b[48;2;255;218;194mat\u001b[48;2;194;255;208mi\u001b[48;2;255;194;224mon\u001b[48;2;218;255;194ms.\u001b[48;2;194;224;255mA\u001b[48;2;255;218;194md\u001b[48;2;194;255;208md\u001b[48;2;255;194;224mF\u001b[48;2;218;255;194mi\u001b[48;2;194;224;255mel\u001b[48;2;255;218;194md\u001b[48;2;194;255;208m(\u001b[48;2;255;194;224m\n",
      "        \u001b[48;2;218;255;194m    \u001b[48;2;194;224;255mmo\u001b[48;2;255;218;194mde\u001b[48;2;194;255;208ml\u001b[48;2;255;194;224m_\u001b[48;2;218;255;194mname\u001b[48;2;194;224;255m=\u001b[48;2;255;218;194m'\u001b[48;2;194;255;208mte\u001b[48;2;255;194;224mst\u001b[48;2;218;255;194mp\u001b[48;2;194;224;255ml\u001b[48;2;255;218;194man\u001b[48;2;194;255;208m'\u001b[48;2;255;194;224m,\n",
      "        \u001b[48;2;218;255;194m    \u001b[48;2;194;224;255mname\u001b[48;2;255;218;194m=\u001b[48;2;194;255;208m'\u001b[48;2;255;194;224mma\u001b[48;2;218;255;194min\u001b[48;2;194;224;255m'\u001b[48;2;255;218;194m,\n",
      "        \u001b[48;2;194;255;208m    \u001b[48;2;255;194;224mfi\u001b[48;2;218;255;194mel\u001b[48;2;194;224;255md\u001b[48;2;255;218;194m=\u001b[48;2;194;255;208mmo\u001b[48;2;255;194;224mde\u001b[48;2;218;255;194ml\u001b[48;2;194;224;255ms.\u001b[48;2;255;218;194mB\u001b[48;2;194;255;208mo\u001b[48;2;255;194;224mo\u001b[48;2;218;255;194mle\u001b[48;2;194;224;255man\u001b[48;2;255;218;194mF\u001b[48;2;194;255;208mi\u001b[48;2;255;194;224mel\u001b[48;2;218;255;194md\u001b[48;2;194;224;255m(\u001b[48;2;255;218;194mde\u001b[48;2;194;255;208mf\u001b[48;2;255;194;224ma\u001b[48;2;218;255;194mul\u001b[48;2;194;224;255mt\u001b[48;2;255;218;194m=\u001b[48;2;194;255;208mF\u001b[48;2;255;194;224mal\u001b[48;2;218;255;194mse\u001b[48;2;194;224;255m, \u001b[48;2;255;218;194mv\u001b[48;2;194;255;208mer\u001b[48;2;255;194;224mb\u001b[48;2;218;255;194mo\u001b[48;2;194;224;255mse\u001b[48;2;255;218;194m_\u001b[48;2;194;255;208mname\u001b[48;2;255;194;224m=\u001b[48;2;218;255;194m'\u001b[48;2;194;224;255mS\u001b[48;2;255;218;194mh\u001b[48;2;194;255;208mo\u001b[48;2;255;194;224mw\u001b[48;2;218;255;194m \u001b[48;2;194;224;255min \u001b[48;2;255;218;194ms\u001b[48;2;194;255;208mh\u001b[48;2;255;194;224mor\u001b[48;2;218;255;194mt \u001b[48;2;194;224;255mst\u001b[48;2;255;218;194mat\u001b[48;2;194;255;208mi\u001b[48;2;255;194;224mst\u001b[48;2;218;255;194mi\u001b[48;2;194;224;255mc\u001b[48;2;255;218;194m'\u001b[48;2;194;255;208m)\u001b[48;2;255;194;224m,\n",
      "        \u001b[48;2;218;255;194m    \u001b[48;2;194;224;255mp\u001b[48;2;255;218;194mres\u001b[48;2;194;255;208mer\u001b[48;2;255;194;224mv\u001b[48;2;218;255;194me\u001b[48;2;194;224;255m_\u001b[48;2;255;218;194mde\u001b[48;2;194;255;208mf\u001b[48;2;255;194;224ma\u001b[48;2;218;255;194mul\u001b[48;2;194;224;255mt\u001b[48;2;255;218;194m=\u001b[48;2;194;255;208mT\u001b[48;2;255;194;224mr\u001b[48;2;218;255;194mue\u001b[48;2;194;224;255m,\n",
      "        \u001b[48;2;255;218;194m)\u001b[48;2;194;255;208m,\u001b[48;2;255;194;224m\n",
      "    \u001b[48;2;218;255;194m]\u001b[48;2;194;224;255m\n"
     ]
    }
   ],
   "source": [
    "tokenizer.print_tokens(open(\"data/PY150K/\" + train_files[10]).read())"
   ]
  },
  {
   "cell_type": "code",
   "execution_count": 5,
   "metadata": {},
   "outputs": [
    {
     "data": {
      "text/plain": [
       "1000"
      ]
     },
     "execution_count": 5,
     "metadata": {},
     "output_type": "execute_result"
    }
   ],
   "source": [
    "from torch.utils.data import Dataset, DataLoader\n",
    "\n",
    "train_tokens = [tokenizer.tokenize(code) for code in [open(\"data/PY150K/\" + path, encoding='iso-8859-1').read() for path in train_files[:1000]]]\n",
    "len(train_tokens)"
   ]
  },
  {
   "attachments": {},
   "cell_type": "markdown",
   "metadata": {},
   "source": [
    "One problem is that we need all sequences in a batch to be the same length, but there is a large difference in lengths"
   ]
  },
  {
   "cell_type": "code",
   "execution_count": 6,
   "metadata": {},
   "outputs": [
    {
     "data": {
      "text/plain": [
       "(79694, 14)"
      ]
     },
     "execution_count": 6,
     "metadata": {},
     "output_type": "execute_result"
    }
   ],
   "source": [
    "max(len(x) for x in train_tokens), min(len(x) for x in train_tokens)"
   ]
  },
  {
   "attachments": {},
   "cell_type": "markdown",
   "metadata": {},
   "source": [
    "Having 14 tokens is way to little, let's drop training examples where we have fever than 100 tokens"
   ]
  },
  {
   "cell_type": "code",
   "execution_count": 7,
   "metadata": {},
   "outputs": [
    {
     "data": {
      "text/plain": [
       "980"
      ]
     },
     "execution_count": 7,
     "metadata": {},
     "output_type": "execute_result"
    }
   ],
   "source": [
    "train_tokens = [seq for seq in train_tokens if len(seq) > 100]\n",
    "len(train_tokens)"
   ]
  },
  {
   "cell_type": "code",
   "execution_count": 8,
   "metadata": {},
   "outputs": [],
   "source": [
    "def collate_fn(batch:list[list[int]]):\n",
    "    min_length = min(len(x) for x in batch)\n",
    "    return torch.tensor([x[:min_length] for x in batch])\n",
    "\n",
    "class ListDataset(Dataset): # simply defines how you access your data, trivial here but perhaps not later\n",
    "    def __init__(self, data): self.data = data\n",
    "    def __len__(self): return len(self.data)\n",
    "    def __getitem__(self, idx): return self.data[idx]\n",
    "\n",
    "train_ds = ListDataset(train_tokens)\n",
    "train_dl = DataLoader(train_ds, batch_size=32, collate_fn=collate_fn, shuffle=True, prefetch_factor=4, num_workers=8)"
   ]
  },
  {
   "attachments": {},
   "cell_type": "markdown",
   "metadata": {},
   "source": [
    "For example purposes this will be a many-to-one encoder-decoder architecture. Our transformer atleast will probably be decoder only."
   ]
  },
  {
   "cell_type": "code",
   "execution_count": 9,
   "metadata": {},
   "outputs": [
    {
     "name": "stderr",
     "output_type": "stream",
     "text": [
      "/tmp/ipykernel_157805/2546379325.py:12: UserWarning: Implicit dimension choice for softmax has been deprecated. Change the call to include dim=X as an argument.\n",
      "  return F.softmax(x)\n"
     ]
    },
    {
     "data": {
      "text/plain": [
       "torch.Size([32, 240])"
      ]
     },
     "execution_count": 9,
     "metadata": {},
     "output_type": "execute_result"
    }
   ],
   "source": [
    "class PyLSTM(nn.Module):\n",
    "    def __init__(self, vocab_size, hidden_size):\n",
    "        super().__init__()\n",
    "        self.embed = nn.Embedding(vocab_size, hidden_size)\n",
    "        self.rnn = nn.LSTM(hidden_size, hidden_size)\n",
    "        self.linear = nn.Linear(hidden_size, vocab_size)\n",
    "\n",
    "    def forward(self, x:torch.Tensor)->torch.Tensor:\n",
    "        x = self.embed(x) # vocab to hidden\n",
    "        x, (h_n, c_n) = self.rnn(x) # rnn also returns it's hidden/cell state\n",
    "        x = self.linear(F.relu(x[:,-1])) # hidden to vocab\n",
    "        return F.softmax(x)\n",
    "    \n",
    "model = PyLSTM(len(tokenizer), 128)\n",
    "model(next(iter(train_dl))).shape"
   ]
  },
  {
   "cell_type": "markdown",
   "metadata": {},
   "source": [
    "https://wandb.ai/bjarnih/PyGPT"
   ]
  },
  {
   "cell_type": "code",
   "execution_count": 13,
   "metadata": {},
   "outputs": [
    {
     "data": {
      "text/html": [
       "Finishing last run (ID:oh4jb23e) before initializing another..."
      ],
      "text/plain": [
       "<IPython.core.display.HTML object>"
      ]
     },
     "metadata": {},
     "output_type": "display_data"
    },
    {
     "data": {
      "application/vnd.jupyter.widget-view+json": {
       "model_id": "021c1bd6bc2d40aebdb81091d48405bf",
       "version_major": 2,
       "version_minor": 0
      },
      "text/plain": [
       "VBox(children=(Label(value='0.003 MB of 0.005 MB uploaded\\r'), FloatProgress(value=0.6018090029448885, max=1.0…"
      ]
     },
     "metadata": {},
     "output_type": "display_data"
    },
    {
     "data": {
      "text/html": [
       " View run <strong style=\"color:#cdcd00\">effortless-shadow-12</strong> at: <a href='https://wandb.ai/bjarnih/my-awesome-project/runs/oh4jb23e' target=\"_blank\">https://wandb.ai/bjarnih/my-awesome-project/runs/oh4jb23e</a><br/> View project at: <a href='https://wandb.ai/bjarnih/my-awesome-project' target=\"_blank\">https://wandb.ai/bjarnih/my-awesome-project</a><br/>Synced 5 W&B file(s), 0 media file(s), 0 artifact file(s) and 0 other file(s)"
      ],
      "text/plain": [
       "<IPython.core.display.HTML object>"
      ]
     },
     "metadata": {},
     "output_type": "display_data"
    },
    {
     "data": {
      "text/html": [
       "Find logs at: <code>./wandb/run-20240430_011930-oh4jb23e/logs</code>"
      ],
      "text/plain": [
       "<IPython.core.display.HTML object>"
      ]
     },
     "metadata": {},
     "output_type": "display_data"
    },
    {
     "data": {
      "text/html": [
       "Successfully finished last run (ID:oh4jb23e). Initializing new run:<br/>"
      ],
      "text/plain": [
       "<IPython.core.display.HTML object>"
      ]
     },
     "metadata": {},
     "output_type": "display_data"
    },
    {
     "data": {
      "application/vnd.jupyter.widget-view+json": {
       "model_id": "fc1b1d5be4b84a17a27edcab88744998",
       "version_major": 2,
       "version_minor": 0
      },
      "text/plain": [
       "VBox(children=(Label(value='Waiting for wandb.init()...\\r'), FloatProgress(value=0.011113482544492905, max=1.0…"
      ]
     },
     "metadata": {},
     "output_type": "display_data"
    },
    {
     "data": {
      "text/html": [
       "Tracking run with wandb version 0.16.6"
      ],
      "text/plain": [
       "<IPython.core.display.HTML object>"
      ]
     },
     "metadata": {},
     "output_type": "display_data"
    },
    {
     "data": {
      "text/html": [
       "Run data is saved locally in <code>/home/bobbi/proj/PyGPT/wandb/run-20240430_012001-5kzbuvpp</code>"
      ],
      "text/plain": [
       "<IPython.core.display.HTML object>"
      ]
     },
     "metadata": {},
     "output_type": "display_data"
    },
    {
     "data": {
      "text/html": [
       "Syncing run <strong><a href='https://wandb.ai/bjarnih/my-awesome-project/runs/5kzbuvpp' target=\"_blank\">splendid-sky-13</a></strong> to <a href='https://wandb.ai/bjarnih/my-awesome-project' target=\"_blank\">Weights & Biases</a> (<a href='https://wandb.me/run' target=\"_blank\">docs</a>)<br/>"
      ],
      "text/plain": [
       "<IPython.core.display.HTML object>"
      ]
     },
     "metadata": {},
     "output_type": "display_data"
    },
    {
     "data": {
      "text/html": [
       " View project at <a href='https://wandb.ai/bjarnih/my-awesome-project' target=\"_blank\">https://wandb.ai/bjarnih/my-awesome-project</a>"
      ],
      "text/plain": [
       "<IPython.core.display.HTML object>"
      ]
     },
     "metadata": {},
     "output_type": "display_data"
    },
    {
     "data": {
      "text/html": [
       " View run at <a href='https://wandb.ai/bjarnih/my-awesome-project/runs/5kzbuvpp' target=\"_blank\">https://wandb.ai/bjarnih/my-awesome-project/runs/5kzbuvpp</a>"
      ],
      "text/plain": [
       "<IPython.core.display.HTML object>"
      ]
     },
     "metadata": {},
     "output_type": "display_data"
    },
    {
     "name": "stderr",
     "output_type": "stream",
     "text": [
      "  0%|          | 0/31 [00:00<?, ?it/s]ERROR:tornado.general:SEND Error: Host unreachable\n"
     ]
    }
   ],
   "source": [
    "from tqdm import tqdm\n",
    "import wandb\n",
    "\n",
    "EPOCHS = 10\n",
    "LR = 3e-4\n",
    "DEVICE = \"cuda\" if torch.cuda.is_available() else \"cpu\"\n",
    "\n",
    "wandb.init(\n",
    "    # Set the project where this run will be logged\n",
    "    project=\"my-awesome-project\",\n",
    "    # Track hyperparameters and run metadata\n",
    "    config={\n",
    "        \"learning_rate\": LR,\n",
    "        \"epochs\": EPOCHS,\n",
    "        \"architecture\": \"many-to-one LSTM\",\n",
    "        \"dataset\": \"small subset of PY150k\",\n",
    "    },\n",
    ")\n",
    "\n",
    "model = PyLSTM(len(tokenizer), 128).to(DEVICE)\n",
    "optim = torch.optim.Adam(model.parameters(), lr=LR)\n",
    "loss_fn = nn.CrossEntropyLoss().to(DEVICE)\n",
    "\n",
    "for i in range(EPOCHS):\n",
    "    for batch in tqdm(train_dl):\n",
    "        x = batch[..., :-1].to(DEVICE).float()\n",
    "        y = batch[..., -1].to(DEVICE) # keeps the unary dimension\n",
    "\n",
    "        y_hat = model(x)\n",
    "\n",
    "        loss = loss_fn(y, y_hat)\n",
    "\n",
    "        optim.zero_grad()\n",
    "        loss.backward()\n",
    "        optim.step()\n",
    "\n",
    "        wandb.log({\"train_loss\": loss.detach().numpy()})"
   ]
  },
  {
   "cell_type": "code",
   "execution_count": null,
   "metadata": {},
   "outputs": [],
   "source": []
  }
 ],
 "metadata": {
  "kernelspec": {
   "display_name": ".venv",
   "language": "python",
   "name": "python3"
  },
  "language_info": {
   "codemirror_mode": {
    "name": "ipython",
    "version": 3
   },
   "file_extension": ".py",
   "mimetype": "text/x-python",
   "name": "python",
   "nbconvert_exporter": "python",
   "pygments_lexer": "ipython3",
   "version": "3.12.2"
  },
  "orig_nbformat": 4
 },
 "nbformat": 4,
 "nbformat_minor": 2
}
