{
 "cells": [
  {
   "cell_type": "code",
   "execution_count": null,
   "metadata": {},
   "outputs": [],
   "source": [
    "%load_ext autoreload\n",
    "%autoreload 2\n",
    "\n",
    "from utils import Py150kDataset\n",
    "\n",
    "import wandb\n",
    "import torch\n",
    "import torch.nn as nn\n",
    "import torch.nn.functional as F\n",
    "from torch.utils.data import DataLoader\n"
   ]
  },
  {
   "cell_type": "code",
   "execution_count": null,
   "metadata": {},
   "outputs": [],
   "source": [
    "ds = Py150kDataset(\"train\", \"py150k\")"
   ]
  },
  {
   "attachments": {},
   "cell_type": "markdown",
   "metadata": {},
   "source": [
    "One problem is that we need all sequences in a batch to be the same length, but there is a large difference in lengths"
   ]
  },
  {
   "cell_type": "code",
   "execution_count": null,
   "metadata": {},
   "outputs": [],
   "source": [
    "max(len(ds[i]) for i in range(100)), min(len(ds[i]) for i in range(100))"
   ]
  },
  {
   "cell_type": "code",
   "execution_count": null,
   "metadata": {},
   "outputs": [],
   "source": [
    "ds.tokenizer.PAD, ds.tokenizer.PAD_ID"
   ]
  },
  {
   "cell_type": "code",
   "execution_count": null,
   "metadata": {},
   "outputs": [],
   "source": [
    "from utils.dataset import Py150kDataset\n",
    "from torch.utils.data import DataLoader, random_split\n",
    "\n",
    "def collate_fn(batch:list[torch.Tensor], max_len:int=2048):\n",
    "    batch = [x[:max_len] for x in batch]\n",
    "    batch = [\n",
    "        torch.cat([torch.tensor([ds.tokenizer.BOS_ID]), x, torch.tensor([ds.tokenizer.EOS_ID])])\n",
    "        for x in batch\n",
    "    ]\n",
    "    return torch.nn.utils.rnn.pad_sequence(\n",
    "        batch,\n",
    "        batch_first=True,\n",
    "        padding_value=ds.tokenizer.PAD_ID\n",
    "    )\n",
    "\n",
    "\n",
    "\n",
    "train_ds, val_ds, _ = random_split(ds, [50000, 5000, len(ds) - 55000])\n",
    "train_dl = DataLoader(train_ds, batch_size=64, collate_fn=collate_fn, prefetch_factor=4, num_workers=8, persistent_workers=True)\n",
    "val_dl = DataLoader(val_ds, batch_size=64, collate_fn=collate_fn, prefetch_factor=4, num_workers=8, persistent_workers=True)"
   ]
  },
  {
   "cell_type": "code",
   "execution_count": null,
   "metadata": {},
   "outputs": [],
   "source": [
    "class PyRNN(nn.Module):\n",
    "    def __init__(self, vocab_size, hidden_size):\n",
    "        super().__init__()\n",
    "        self.vocab_size, self.hidden_size = vocab_size, hidden_size\n",
    "        \n",
    "        self.embed = nn.Embedding(vocab_size, hidden_size)\n",
    "        self.rnn = nn.RNN(hidden_size, hidden_size, batch_first=True)\n",
    "        self.linear = nn.Linear(hidden_size, vocab_size)\n",
    "        \n",
    "    def forward(self, x):\n",
    "        x = self.embed(x)\n",
    "        x, _ = self.rnn(x) # i.e. 100% teacher forcing\n",
    "        x = self.linear(x)\n",
    "        return x\n",
    "    \n",
    "    @torch.no_grad()\n",
    "    def generate(self, tokenizer, max_len=1000):\n",
    "        self.eval()\n",
    "        device = next(self.parameters()).device\n",
    "        xt = torch.tensor([tokenizer.BOS_ID], device=device).unsqueeze(0)\n",
    "        ht = torch.randn(1, 1, self.hidden_size, device=device)\n",
    "        \n",
    "        tokens = []\n",
    "        for _ in range(max_len):\n",
    "            xt = self.embed(xt)\n",
    "            xt, ht = self.rnn(xt, ht)\n",
    "            xt = self.linear(xt.squeeze(1))\n",
    "            xt = xt.argmax(dim=-1, keepdims=True)\n",
    "\n",
    "            token = xt.item()\n",
    "            tokens.append(token)\n",
    "            if token == tokenizer.EOS_ID:\n",
    "                break\n",
    "\n",
    "        self.train()\n",
    "        return ds.tokenizer.detokenize(tokens)\n",
    "    \n",
    "    def train_step(self, x, y, teacher_forcing=0.5): # much slower apparently, NOTE: could be broken\n",
    "        B, T = x.shape\n",
    "        xt = x[:, [0]]\n",
    "        ht = torch.zeros(1, B, self.hidden_size, device=x.device)\n",
    "        \n",
    "        outputs = []\n",
    "        for i in range(T):\n",
    "            xt = self.embed(xt)\n",
    "            xt, ht = self.rnn(xt, ht)\n",
    "            xt = self.linear(xt.squeeze(1))\n",
    "            outputs.append(xt)\n",
    "            \n",
    "            if torch.rand(1) < teacher_forcing:\n",
    "                xt = y[:, [i]]  # Teacher forcing: use the correct next input\n",
    "            else:\n",
    "                xt = torch.argmax(xt, dim=-1, keepdims=True)  # No teacher forcing: use the model's prediction\n",
    "\n",
    "        return torch.stack(outputs, dim=1)\n",
    "            \n",
    "        \n",
    "model = PyRNN(len(ds.tokenizer), 128)\n",
    "model(next(iter(train_dl))).shape"
   ]
  },
  {
   "cell_type": "markdown",
   "metadata": {},
   "source": [
    "https://wandb.ai/bjarnih/PyGPT"
   ]
  },
  {
   "cell_type": "code",
   "execution_count": null,
   "metadata": {},
   "outputs": [],
   "source": [
    "from tqdm import tqdm\n",
    "import wandb\n",
    "\n",
    "EPOCHS = 10\n",
    "LR = 3e-4\n",
    "DEVICE = \"cuda\" if torch.cuda.is_available() else \"cpu\"\n",
    "\n",
    "\n",
    "model = PyRNN(len(ds.tokenizer), 1024).to(DEVICE)\n",
    "criterion = nn.CrossEntropyLoss(ignore_index=ds.tokenizer.PAD_ID) # <PAD> tokens do not contribute to the loss\n",
    "optim = torch.optim.Adam(model.parameters(), lr=LR)\n",
    "\n",
    "wandb.init(\n",
    "    project=\"PyGPT\",\n",
    "    config={\n",
    "        \"learning_rate\": LR,\n",
    "        \"epochs\": EPOCHS,\n",
    "        \"architecture\": model.__class__.__name__,\n",
    "        \"n_training_examples\": len(train_ds),\n",
    "        \"n_validation_examples\": len(val_ds),\n",
    "        \"parameter_count\": sum([p.numel() for p in model.parameters() if p.requires_grad])\n",
    "    },\n",
    "    group=\"baseline RNNs\"\n",
    ")\n",
    "\n",
    "\n",
    "model.train()\n",
    "for epoch in range(EPOCHS):\n",
    "    train_tqdm = tqdm(train_dl, desc=f\"Epoch {epoch + 1}/{EPOCHS} Training\")\n",
    "    total_train_loss = 0\n",
    "\n",
    "    # Training loop\n",
    "    for batch in train_tqdm:\n",
    "        batch = batch.to(DEVICE)\n",
    "        x = batch[..., :-1]\n",
    "        y = batch[..., 1:]\n",
    "        y_hat = model(x)\n",
    "        loss = criterion(y_hat.reshape(-1, len(ds.tokenizer)), y.reshape(-1))\n",
    "\n",
    "        optim.zero_grad()\n",
    "        loss.backward()\n",
    "        optim.step()\n",
    "\n",
    "        train_loss = loss.detach().cpu().numpy()\n",
    "        total_train_loss += train_loss\n",
    "        train_tqdm.set_postfix({\"loss\": train_loss})\n",
    "\n",
    "    wandb.log({\"avg_train_loss\": total_train_loss / len(train_dl)}, step=epoch)\n",
    "\n",
    "    model.eval()\n",
    "    total_val_loss = 0\n",
    "    with torch.no_grad():\n",
    "        val_tqdm = tqdm(val_dl, desc=f\"Epoch {epoch + 1}/{EPOCHS} Validation\")\n",
    "        for val_batch in val_tqdm:\n",
    "            val_batch = val_batch.to(DEVICE)\n",
    "            x_val = val_batch[..., :-1]\n",
    "            y_val = val_batch[..., 1:]\n",
    "            y_val_hat = model(x_val)\n",
    "            val_loss = criterion(y_val_hat.reshape(-1, len(ds.tokenizer)), y_val.reshape(-1))\n",
    "            total_val_loss += val_loss.detach().cpu().numpy()\n",
    "            val_tqdm.set_postfix({\"val_loss\": val_loss})\n",
    "    \n",
    "    model.train()\n",
    "    sample_output = model.generate(ds.tokenizer, max_len=1000)\n",
    "\n",
    "    wandb.log({\"generated_text\": wandb.Html(ds.tokenizer.color_text_html(sample_output))}, step=epoch)\n",
    "    wandb.log({\"avg_val_loss\": total_val_loss / len(val_dl)}, step=epoch)\n"
   ]
  },
  {
   "cell_type": "code",
   "execution_count": null,
   "metadata": {},
   "outputs": [],
   "source": [
    "# wandb.finish() # if we want to finish the run"
   ]
  },
  {
   "cell_type": "code",
   "execution_count": null,
   "metadata": {},
   "outputs": [],
   "source": [
    "gen = model.generate(ds.tokenizer, 10000)\n",
    "print(ds.tokenizer.color_text_ansi(gen))"
   ]
  },
  {
   "cell_type": "code",
   "execution_count": null,
   "metadata": {},
   "outputs": [],
   "source": [
    "gen"
   ]
  },
  {
   "cell_type": "code",
   "execution_count": null,
   "metadata": {},
   "outputs": [],
   "source": [
    "print(ds.tokenizer.color_text_html(gen))"
   ]
  }
 ],
 "metadata": {
  "kernelspec": {
   "display_name": ".venv",
   "language": "python",
   "name": "python3"
  },
  "language_info": {
   "codemirror_mode": {
    "name": "ipython",
    "version": 3
   },
   "file_extension": ".py",
   "mimetype": "text/x-python",
   "name": "python",
   "nbconvert_exporter": "python",
   "pygments_lexer": "ipython3",
   "version": "3.12.2"
  },
  "orig_nbformat": 4
 },
 "nbformat": 4,
 "nbformat_minor": 2
}
