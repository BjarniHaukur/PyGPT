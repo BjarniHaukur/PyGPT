{
 "cells": [
  {
   "cell_type": "code",
   "execution_count": 1,
   "metadata": {},
   "outputs": [],
   "source": [
    "%load_ext autoreload\n",
    "%autoreload 2"
   ]
  },
  {
   "cell_type": "code",
   "execution_count": 2,
   "metadata": {},
   "outputs": [],
   "source": [
    "from models import model_from_checkpoint\n",
    "from utils.tokenizer import BPETokenizer, BOS_ID, EOS_ID, PAD_ID\n",
    "\n",
    "model = model_from_checkpoint(\"medium-lstm-run/epoch_4.pt\", device=\"cpu\")\n",
    "tokenizer = BPETokenizer.load(\"py150k_large\")"
   ]
  },
  {
   "cell_type": "code",
   "execution_count": 3,
   "metadata": {},
   "outputs": [
    {
     "data": {
      "text/plain": [
       "'if len(parts) > 2:\\n            identity = parts[0:-2]\\n            blob = parts[-1]\\n        elif len(parts) == 2:\\n            identity = parts[0:-1]\\n            blob = parts[-1]\\n        else:\\n            identity = None\\n            blob = parts[0]\\n        event = Event.unpack(get_pyzmq_frame_buffer(blob))\\n        event.identity = identity\\n        if self._debug:\\n            logger.debug(\\'<-- %s\\', event)\\n        return event\\n\\n    def setsockopt(self, *args):\\n        return self._socket.setsockopt(*args)\\n\\n    @property\\n    def context(self):\\n        return self._context\\n#!/usr/bin/env python\\n\"\"\"Django\\'s command line utility.\"\"\"\\n\\nimport os\\nimport sys\\n\\nif __name__ == \"__main__\":\\n    os.environ.setdefault(\"DJANGO_SETTINGS_MODULE\", \"project.settings\")\\n\\n    from django.core.management import execute_from_command_line\\n\\n    execute_from_command_line(sys.argv)\\n\"\"\"Installer for hippybot\\n\"\"\"\\n\\nimport os\\ncwd = os.path.dirname(__file__)\\n__version__ = open(os.path.join(cwd, \\'hippybot\\', \\'version.txt\\'), \\'r\\').read().strip()\\n\\ntry:\\n        from setuptools import setup, find_packages\\nexcept ImportError:\\n        from ez_setup import use_setuptools\\n        use_setuptools()\\n        from setuptools import setup, find_packages\\nsetup(\\n    name=\\'hippybot\\',\\n    description=\\'Python Hipchat bot\\',\\n    long_description=open(\\'README.rst\\').read(),\\n    version=__version__,\\n    author=\\'Wes Mason\\',\\n    author_email=\\'wes[at]1stvamp[dot]org\\',\\n    url=\\'http://github.com/1stvamp/hippybot\\',\\n    packages=find_packages(exclude=[\\'ez_setup\\']),\\n    install_requires=open(\\'requirements.txt\\').readlines(),\\n    package_data={\\'hippybot\\': [\\'version.txt\\']},\\n    include_package_data=True,\\n    extras_require={\\n        \\'plugins\\': open(\\'extras_requirements.txt\\').readlines(),\\n    },\\n    entry_points={\\n        \\'console_scripts\\': [\\'hippybot = hippybot.bot:main\\',],\\n    },\\n    license=\\'BSD\\'\\n)\\n#!/usr/bin/env python\\nimport os\\nimport sys\\n\\nif __name__ == \"__main__\":\\n    os.environ.setdefault(\"DJANGO_SETTINGS_MODULE\", \"twobuntu.settings\")\\n\\n    from django.core.management import execute_from_command_line\\n\\n    execute_from_command_line(sys.argv)\\n# -*- coding: utf-8 -*-\\nfrom __future__ import unicode_literals\\n\\nfrom django.db import models, migrations\\n\\n\\nclass Migration(migrations.Migration):\\n\\n    dependencies = [\\n    ]\\n\\n    operations = [\\n        migrations.CreateModel(\\n            name=\\'Category\\',\\n            fields=[\\n                (\\'id\\', models.AutoField(verbose_name=\\'ID\\', serialize=False, auto_created=True, primary_key=True)),\\n                (\\'name\\', models.CharField(help_text=b\\'The name of the category.\\', max_length=40)),\\n                (\\'image\\', models.ImageField(help_text=b\\'A representative image.\\', null=True, upload_to=b\\'categories\\', blank=True)),\\n            ],\\n            options={\\n                \\'ordering\\': (\\'name\\',),\\n                \\'verbose_name_plural\\': \\'Categories\\',\\n            },\\n            bases=(models.Model,),\\n        ),\\n    ]\\nimport twitter\\nfrom django.contrib import messages\\nfrom django.contrib.auth.decorators import user_passes_test\\nfrom django.db import transaction\\nfrom django.shortcuts import redirect, render\\n\\nfrom twobuntu.news.forms import AddItemForm\\n\\n\\n@user_passes_test(lambda u: u.is_staff)\\ndef add(request):\\n    \"\"\"\\n    Add news items to the home page.\\n    \"\"\"\\n    if request.method == \\'POST\\':\\n        form = AddItemForm(data=request.POST)\\n        if form.is_valid():\\n            item = form.save(commit=False)\\n            item.reporter = request.user\\n            try:\\n                with transaction.atomic():\\n                    item.save()\\n            except twitter.TwitterError as e:\\n                messages.error(request, \"Twitter error: \\\\\"%s\\\\\" Please try again.\" % e.message[0][\\'message\\'])\\n            else:\\n                messages.info(request, \"Your news item has been published!\")\\n                return redirect(\\'home\\')\\n    else:\\n        form = AddItemForm()\\n    return render(request, \\'form.html\\', {\\n        \\'title\\': \\'Add Item\\',\\n        \\'form\\': form,\\n        \\'description\\': \"Enter the details for the news item below.\",\\n        \\'action\\': \\'Add\\','"
      ]
     },
     "execution_count": 3,
     "metadata": {},
     "output_type": "execute_result"
    }
   ],
   "source": [
    "from utils.dataset import MemmapDataset\n",
    "\n",
    "ds = MemmapDataset(\"train\", \"py150k_large\")\n",
    "tokenizer.detokenize(ds[3].tolist())"
   ]
  },
  {
   "cell_type": "code",
   "execution_count": 4,
   "metadata": {},
   "outputs": [
    {
     "name": "stdout",
     "output_type": "stream",
     "text": [
      "\u001b[48;2;194;224;255mself.\u001b[48;2;255;218;194mcon\u001b[48;2;194;255;208mten\u001b[48;2;255;194;224mt_\u001b[48;2;218;255;194mtype\u001b[48;2;194;224;255m = \u001b[48;2;255;218;194mNone\u001b[48;2;194;255;208m\n",
      "\n",
      "        \u001b[48;2;255;194;224mif \u001b[48;2;218;255;194mself._\u001b[48;2;194;224;255mdata\u001b[48;2;255;218;194m \u001b[48;2;194;255;208mis \u001b[48;2;255;194;224mnot \u001b[48;2;218;255;194mNone\u001b[48;2;194;224;255m:\n",
      "            \u001b[48;2;255;218;194mself.\u001b[48;2;194;255;208mcon\u001b[48;2;255;194;224mne\u001b[48;2;218;255;194mction\u001b[48;2;194;224;255m.\u001b[48;2;255;218;194mcon\u001b[48;2;194;255;208mne\u001b[48;2;255;194;224mction\u001b[48;2;218;255;194m.\u001b[48;2;194;224;255mcon\u001b[48;2;255;218;194mne\u001b[48;2;194;255;208mction\u001b[48;2;255;194;224m.\u001b[48;2;218;255;194mcon\u001b[48;2;194;224;255mne\u001b[48;2;255;218;194mction\u001b[48;2;194;255;208m = \u001b[48;2;255;194;224mNone\u001b[48;2;218;255;194m\n",
      "\n",
      "        \u001b[48;2;194;224;255mself.\u001b[48;2;255;218;194mcon\u001b[48;2;194;255;208mne\u001b[48;2;255;194;224mction\u001b[48;2;218;255;194m.\u001b[48;2;194;224;255mad\u001b[48;2;255;218;194md_\u001b[48;2;194;255;208mcon\u001b[48;2;255;194;224mne\u001b[48;2;218;255;194mction\u001b[48;2;194;224;255m_\u001b[48;2;255;218;194mcon\u001b[48;2;194;255;208mne\u001b[48;2;255;194;224mction\u001b[48;2;218;255;194ms(\u001b[48;2;194;224;255mself\u001b[48;2;255;218;194m, \u001b[48;2;194;255;208mcon\u001b[48;2;255;194;224mne\u001b[48;2;218;255;194mction\u001b[48;2;194;224;255m_\u001b[48;2;255;218;194mcon\u001b[48;2;194;255;208mne\u001b[48;2;255;194;224mction\u001b[48;2;218;255;194m, \u001b[48;2;194;224;255mcon\u001b[48;2;255;218;194mne\u001b[48;2;194;255;208mction\u001b[48;2;255;194;224m)\n",
      "\n",
      "    def \u001b[48;2;218;255;194m_\u001b[48;2;194;224;255mche\u001b[48;2;255;218;194mck\u001b[48;2;194;255;208m_\u001b[48;2;255;194;224mcon\u001b[48;2;218;255;194mne\u001b[48;2;194;224;255mction\u001b[48;2;255;218;194m(self, \u001b[48;2;194;255;208mcon\u001b[48;2;255;194;224mne\u001b[48;2;218;255;194mction\u001b[48;2;194;224;255m):\n",
      "        \u001b[48;2;255;218;194m\"\"\"\n",
      "        \u001b[48;2;194;255;208mCon\u001b[48;2;255;194;224mne\u001b[48;2;218;255;194mction\u001b[48;2;194;224;255m \u001b[48;2;255;218;194mcon\u001b[48;2;194;255;208mne\u001b[48;2;255;194;224mction\u001b[48;2;218;255;194m \u001b[48;2;194;224;255mfor \u001b[48;2;255;218;194mcon\u001b[48;2;194;255;208mne\u001b[48;2;255;194;224mction\u001b[48;2;218;255;194m \u001b[48;2;194;224;255mfor \u001b[48;2;255;218;194mthe \u001b[48;2;194;255;208mcon\u001b[48;2;255;194;224mne\u001b[48;2;218;255;194mction\u001b[48;2;194;224;255m.\u001b[48;2;255;218;194m\n",
      "        \u001b[48;2;194;255;208m\"\"\"\n",
      "        \u001b[48;2;255;194;224mself._\u001b[48;2;218;255;194mcon\n",
      "\n",
      "\u001b[48;2;194;224;255m# \u001b[48;2;255;218;194mA\u001b[48;2;194;255;208ml\u001b[48;2;255;194;224ml \u001b[48;2;218;255;194mri\u001b[48;2;194;224;255mg\u001b[48;2;255;218;194mht\u001b[48;2;194;255;208ms \u001b[48;2;255;194;224mres\u001b[48;2;218;255;194mer\u001b[48;2;194;224;255mve\u001b[48;2;255;218;194md.\u001b[48;2;194;255;208m\n",
      "#\u001b[48;2;255;194;224m\n",
      "# \u001b[48;2;218;255;194mRe\u001b[48;2;194;224;255mdi\u001b[48;2;255;218;194mstr\u001b[48;2;194;255;208mi\u001b[48;2;255;194;224mbu\u001b[48;2;218;255;194mtion\u001b[48;2;194;224;255m \u001b[48;2;255;218;194mand \u001b[48;2;194;255;208mus\u001b[48;2;255;194;224me \u001b[48;2;218;255;194min \u001b[48;2;194;224;255mso\u001b[48;2;255;218;194mur\u001b[48;2;194;255;208mce \u001b[48;2;255;194;224mand \u001b[48;2;218;255;194mb\u001b[48;2;194;224;255min\u001b[48;2;255;218;194mar\u001b[48;2;194;255;208my \u001b[48;2;255;194;224mform\u001b[48;2;218;255;194ms, \u001b[48;2;194;224;255mwith\u001b[48;2;255;218;194m \u001b[48;2;194;255;208mor \u001b[48;2;255;194;224mwith\u001b[48;2;218;255;194mout\u001b[48;2;194;224;255m\n",
      "# \u001b[48;2;255;218;194mmo\u001b[48;2;194;255;208mdi\u001b[48;2;255;194;224mfi\u001b[48;2;218;255;194mc\u001b[48;2;194;224;255mation\u001b[48;2;255;218;194m, \u001b[48;2;194;255;208mar\u001b[48;2;255;194;224me \u001b[48;2;218;255;194mper\u001b[48;2;194;224;255mm\u001b[48;2;255;218;194mit\u001b[48;2;194;255;208mte\u001b[48;2;255;194;224md \u001b[48;2;218;255;194mpro\u001b[48;2;194;224;255mvi\u001b[48;2;255;218;194mde\u001b[48;2;194;255;208md \u001b[48;2;255;194;224mth\u001b[48;2;218;255;194mat \u001b[48;2;194;224;255mthe \u001b[48;2;255;218;194mfo\u001b[48;2;194;255;208ml\u001b[48;2;255;194;224mlo\u001b[48;2;218;255;194mw\u001b[48;2;194;224;255ming \u001b[48;2;255;218;194mcon\u001b[48;2;194;255;208mdi\u001b[48;2;255;194;224mtion\u001b[48;2;218;255;194ms \u001b[48;2;194;224;255mar\u001b[48;2;255;218;194me \u001b[48;2;194;255;208mme\u001b[48;2;255;194;224mt\u001b[48;2;218;255;194m:\u001b[48;2;194;224;255m\n",
      "#\u001b[48;2;255;218;194m\n",
      "# \u001b[48;2;194;255;208m    \u001b[48;2;255;194;224m \u001b[48;2;218;255;194m*\u001b[48;2;194;224;255m \u001b[48;2;255;218;194mRe\u001b[48;2;194;255;208mdi\u001b[48;2;255;194;224mstr\u001b[48;2;218;255;194mi\u001b[48;2;194;224;255mbu\u001b[48;2;255;218;194mtion\u001b[48;2;194;255;208ms \u001b[48;2;255;194;224mof \u001b[48;2;218;255;194mso\u001b[48;2;194;224;255mur\u001b[48;2;255;218;194mce \u001b[48;2;194;255;208mcode\u001b[48;2;255;194;224m \u001b[48;2;218;255;194mm\u001b[48;2;194;224;255mus\u001b[48;2;255;218;194mt \u001b[48;2;194;255;208mret\u001b[48;2;255;194;224ma\u001b[48;2;218;255;194min \n",
      "\n",
      "\u001b[48;2;194;224;255m'\u001b[48;2;255;218;194mse\u001b[48;2;194;255;208mn\u001b[48;2;255;194;224md_\u001b[48;2;218;255;194mba\u001b[48;2;194;224;255mse\u001b[48;2;255;218;194m_\u001b[48;2;194;255;208mma\u001b[48;2;255;194;224mp\u001b[48;2;218;255;194m': \u001b[48;2;194;224;255m('\u001b[48;2;255;218;194mdjango.\u001b[48;2;194;255;208mdb.\u001b[48;2;255;194;224mmodels.\u001b[48;2;218;255;194mfields.\u001b[48;2;194;224;255mC\u001b[48;2;255;218;194mh\u001b[48;2;194;255;208mar\u001b[48;2;255;194;224mField\u001b[48;2;218;255;194m', \u001b[48;2;194;224;255m[]\u001b[48;2;255;218;194m, \u001b[48;2;194;255;208m{'\u001b[48;2;255;194;224mma\u001b[48;2;218;255;194mx_\u001b[48;2;194;224;255mlen\u001b[48;2;255;218;194mg\u001b[48;2;194;255;208mth\u001b[48;2;255;194;224m': '\u001b[48;2;218;255;194m1\u001b[48;2;194;224;255m2\u001b[48;2;255;218;194m0\u001b[48;2;194;255;208m', '\u001b[48;2;255;194;224mb\u001b[48;2;218;255;194mla\u001b[48;2;194;224;255mn\u001b[48;2;255;218;194mk\u001b[48;2;194;255;208m': '\u001b[48;2;255;194;224mTrue\u001b[48;2;218;255;194m'}\u001b[48;2;194;224;255m),\n",
      "            \u001b[48;2;255;218;194m'\u001b[48;2;194;255;208mse\u001b[48;2;255;194;224mc\u001b[48;2;218;255;194mur\u001b[48;2;194;224;255mit\u001b[48;2;255;218;194my_\u001b[48;2;194;255;208mg\u001b[48;2;255;194;224mro\u001b[48;2;218;255;194mup\u001b[48;2;194;224;255m': \u001b[48;2;255;218;194m('\u001b[48;2;194;255;208mdjango.\u001b[48;2;255;194;224mdb.\u001b[48;2;218;255;194mmodels.\u001b[48;2;194;224;255mfields.\u001b[48;2;255;218;194mC\u001b[48;2;194;255;208mh\u001b[48;2;255;194;224mar\u001b[48;2;218;255;194mField\u001b[48;2;194;224;255m', \u001b[48;2;255;218;194m[]\u001b[48;2;194;255;208m, \u001b[48;2;255;194;224m{'\u001b[48;2;218;255;194mma\u001b[48;2;194;224;255mx_\u001b[48;2;255;218;194mlen\u001b[48;2;194;255;208mg\u001b[48;2;255;194;224mth\u001b[48;2;218;255;194m': '\u001b[48;2;194;224;255m1\u001b[48;2;255;218;194m2\u001b[48;2;194;255;208m0\u001b[48;2;255;194;224m', '\u001b[48;2;218;255;194mb\u001b[48;2;194;224;255mla\u001b[48;2;255;218;194mn\u001b[48;2;194;255;208mk\u001b[48;2;255;194;224m': '\u001b[48;2;218;255;194mTrue\u001b[48;2;194;224;255m'}\u001b[48;2;255;218;194m),\n",
      "            \u001b[48;2;194;255;208m'\u001b[48;2;255;194;224mis\u001b[48;2;218;255;194mc\u001b[48;2;194;224;255msi\u001b[48;2;255;218;194m_\u001b[48;2;194;255;208mta\u001b[48;2;255;194;224mr\u001b[48;2;218;255;194mget_\u001b[48;2;194;224;255mini\u001b[48;2;255;218;194mti\u001b[48;2;194;255;208mat\u001b[48;2;255;194;224mor\u001b[48;2;218;255;194m_\u001b[48;2;194;224;255mse\u001b[48;2;255;218;194mc\u001b[48;2;194;255;208mur\u001b[48;2;255;194;224mit\u001b[48;2;218;255;194my_\n",
      "\n",
      "\u001b[48;2;194;224;255mif \u001b[48;2;255;218;194mself.\u001b[48;2;194;255;208mre\u001b[48;2;255;194;224mqu\u001b[48;2;218;255;194mi\u001b[48;2;194;224;255mre\u001b[48;2;255;218;194md\u001b[48;2;194;255;208m:\n",
      "            \u001b[48;2;255;194;224mself.\u001b[48;2;218;255;194mad\u001b[48;2;194;224;255md_\u001b[48;2;255;218;194mre\u001b[48;2;194;255;208mpo\u001b[48;2;255;194;224mr\u001b[48;2;218;255;194mt(\u001b[48;2;194;224;255mself.\u001b[48;2;255;218;194mre\u001b[48;2;194;255;208mpo\u001b[48;2;255;194;224mr\u001b[48;2;218;255;194mt\u001b[48;2;194;224;255m, \u001b[48;2;255;218;194mself.\u001b[48;2;194;255;208mre\u001b[48;2;255;194;224mpo\u001b[48;2;218;255;194mr\u001b[48;2;194;224;255mt_\u001b[48;2;255;218;194mlist\u001b[48;2;194;255;208m)\n",
      "            \u001b[48;2;255;194;224mself.\u001b[48;2;218;255;194mre\u001b[48;2;194;224;255mpo\u001b[48;2;255;218;194mr\u001b[48;2;194;255;208mt_\u001b[48;2;255;194;224mlist\u001b[48;2;218;255;194m = \u001b[48;2;194;224;255mre\u001b[48;2;255;218;194mpo\u001b[48;2;194;255;208mr\u001b[48;2;255;194;224mt.\u001b[48;2;218;255;194mget\u001b[48;2;194;224;255m(\u001b[48;2;255;218;194m\n",
      "            \u001b[48;2;194;255;208mself.\u001b[48;2;255;194;224mre\u001b[48;2;218;255;194mpo\u001b[48;2;194;224;255mr\u001b[48;2;255;218;194mt\u001b[48;2;194;255;208m['\u001b[48;2;255;194;224mpo\u001b[48;2;218;255;194mr\u001b[48;2;194;224;255mt\u001b[48;2;255;218;194m']\u001b[48;2;194;255;208m,\n",
      "            \u001b[48;2;255;194;224mself.\u001b[48;2;218;255;194mpo\u001b[48;2;194;224;255mr\u001b[48;2;255;218;194mt\u001b[48;2;194;255;208m, \u001b[48;2;255;194;224mre\u001b[48;2;218;255;194mpo\u001b[48;2;194;224;255mr\u001b[48;2;255;218;194mt_\u001b[48;2;194;255;208mre\u001b[48;2;255;194;224mpo\u001b[48;2;218;255;194mr\u001b[48;2;194;224;255mt\u001b[48;2;255;218;194m['\u001b[48;2;194;255;208mre\u001b[48;2;255;194;224mpo\u001b[48;2;218;255;194mr\u001b[48;2;194;224;255mt\u001b[48;2;255;218;194m']\u001b[48;2;194;255;208m,\n",
      "                \u001b[48;2;255;194;224m            \u001b[48;2;218;255;194m  \u001b[48;2;194;224;255mself.\u001b[48;2;255;218;194mre\u001b[48;2;194;255;208mpo\u001b[48;2;255;194;224mr\u001b[48;2;218;255;194mt\u001b[48;2;194;224;255m['\u001b[48;2;255;218;194mre\u001b[48;2;194;255;208mpo\u001b[48;2;255;194;224mr\u001b[48;2;218;255;194mt\u001b[48;2;194;224;255m']\u001b[48;2;255;218;194m['\u001b[48;2;194;255;208mpo\u001b[48;2;255;194;224mr\u001b[48;2;218;255;194mt\u001b[48;2;194;224;255m']\u001b[48;2;255;218;194m['\u001b[48;2;194;255;208mre\u001b[48;2;255;194;224mpo\u001b[48;2;218;255;194mr\u001b[48;2;194;224;255mt\u001b[48;2;255;218;194m']\u001b[48;2;194;255;208m)\n",
      "\n",
      "        \u001b[48;2;255;194;224mself.\u001b[48;2;218;255;194mre\n",
      "\n"
     ]
    }
   ],
   "source": [
    "samples = model.generate(4, 100, nucleus_threshold=0.5)\n",
    "programs = [tokenizer.detokenize(tokens) for tokens in samples]\n",
    "\n",
    "for program in programs[:10]:\n",
    "    print(tokenizer.color_text_ansi(program))\n",
    "    print()"
   ]
  },
  {
   "cell_type": "code",
   "execution_count": 43,
   "metadata": {},
   "outputs": [
    {
     "name": "stdout",
     "output_type": "stream",
     "text": [
      "class ListView(object):\n",
      "    \"\"\"\n",
      "    Tests for L{Deferred}.\n",
      "    \"\"\"\n",
      "    def __init__(self, *args, **kwargs):\n",
      "        super(ListView, self).__init__(*args, **kwargs)\n",
      "\n",
      "    def __init__(self, *args, **kwargs):\n",
      "        super(Type, self).__init__(*args, **kwargs\n"
     ]
    }
   ],
   "source": [
    "from utils.search import beam_search\n",
    "\n",
    "code = \"\"\"class ListV\"\"\"\n",
    "\n",
    "tokens = beam_search(model, max_length=100, starting_tokens=tokenizer.tokenize(code))\n",
    "print(tokenizer.detokenize(tokens))"
   ]
  },
  {
   "cell_type": "code",
   "execution_count": 6,
   "metadata": {},
   "outputs": [
    {
     "name": "stdout",
     "output_type": "stream",
     "text": [
      "[206, 251, 433, 229, 391, 210, 332, 409, 248, 388, 348, 7, 276, 360, 332, 321, 206, 251, 384, 399, 21, 251, 384, 399, 21, 251, 384, 399, 21, 251, 384, 399, 210, 332, 409, 206, 251, 384, 399, 21, 288, 271, 251, 384, 399, 70, 251, 384, 399, 331, 196, 183, 251, 384, 399, 70, 251, 384, 399, 183, 251, 384, 399, 435, 70, 522, 289, 70, 251, 384, 399, 356, 251, 384, 399, 274, 549, 543, 384, 399, 7, 251, 384, 399, 7, 300, 251, 384, 399, 7, 300, 243, 251, 384, 399, 21, 181, 549, 388, 251]\n",
      "[239, 40, 83, 566, 247, 78, 452, 197, 278, 199, 383, 438, 478, 402, 380, 249, 349, 80, 359, 221, 7, 367, 569, 193, 270, 393, 217, 538, 367, 73, 184, 205, 273, 449, 378, 417, 7, 408, 417, 484, 402, 260, 249, 220, 74, 386, 183, 205, 193, 400, 84, 414, 187, 218, 319, 323, 189, 218, 195, 526, 243, 412, 83, 241, 94, 328, 251, 249, 221, 197, 205, 193, 209, 91, 33, 478, 402, 179, 7, 17, 7, 380, 249, 349, 80, 359, 221, 197, 351, 393, 217, 538, 454, 7, 84, 569, 198, 263, 72, 270]\n",
      "[14, 182, 85, 271, 415, 182, 70, 259, 87, 258, 255, 498, 477, 502, 558, 42, 79, 205, 473, 245, 445, 183, 442, 259, 529, 362, 78, 195, 364, 24, 25, 23, 334, 73, 308, 85, 82, 364, 343, 542, 483, 14, 182, 74, 217, 414, 437, 78, 212, 293, 258, 255, 498, 477, 502, 558, 42, 79, 205, 473, 245, 445, 183, 442, 259, 529, 362, 78, 195, 364, 24, 25, 23, 334, 73, 308, 85, 82, 364, 343, 542, 483, 14, 316, 74, 254, 70, 279, 89, 392, 523, 202, 213, 188, 70, 182, 74, 217, 414, 437]\n",
      "[248, 206, 185, 309, 80, 185, 75, 321, 206, 288, 271, 185, 385, 89, 310, 206, 185, 385, 89, 91, 183, 206, 185, 385, 89, 229, 431, 374, 206, 185, 385, 89, 229, 431, 210, 185, 385, 89, 357, 410, 15, 207, 206, 185, 385, 89, 91, 338, 385, 89, 91, 337, 327, 206, 385, 89, 91, 183, 185, 385, 89, 229, 185, 385, 89, 91, 338, 185, 385, 89, 91, 337, 303, 576, 178, 206, 185, 385, 89, 91, 338, 185, 385, 89, 91, 337, 338, 385, 89, 91, 337, 338, 185, 385, 89, 91, 337, 404, 206, 185]\n"
     ]
    }
   ],
   "source": [
    "for sample in samples:\n",
    "    print(sample)"
   ]
  },
  {
   "cell_type": "code",
   "execution_count": 22,
   "metadata": {},
   "outputs": [
    {
     "name": "stdout",
     "output_type": "stream",
     "text": [
      "\u001b[48;2;194;224;255mclass \u001b[48;2;255;218;194mL\u001b[48;2;194;255;208min\u001b[48;2;255;194;224me\u001b[48;2;218;255;194m(\u001b[48;2;194;224;255mobjec\u001b[48;2;255;218;194mt\u001b[48;2;194;255;208m):\n",
      "    \u001b[48;2;255;194;224m\"\"\"\u001b[48;2;218;255;194m\n",
      "    \u001b[48;2;194;224;255mA\u001b[48;2;255;218;194m \u001b[48;2;194;255;208mcon\u001b[48;2;255;194;224mtr\u001b[48;2;218;255;194mol\u001b[48;2;194;224;255m \u001b[48;2;255;218;194mfor \u001b[48;2;194;255;208me\u001b[48;2;255;194;224mac\u001b[48;2;218;255;194mh\u001b[48;2;194;224;255m \u001b[48;2;255;218;194mla\u001b[48;2;194;255;208my\u001b[48;2;255;194;224mer \u001b[48;2;218;255;194mclass \u001b[48;2;194;224;255mth\u001b[48;2;255;218;194mat \u001b[48;2;194;255;208mw\u001b[48;2;255;194;224mil\u001b[48;2;218;255;194ml \u001b[48;2;194;224;255mb\u001b[48;2;255;218;194me\u001b[48;2;194;255;208m\n",
      "    \u001b[48;2;255;194;224mre\u001b[48;2;218;255;194mpre\u001b[48;2;194;224;255mse\u001b[48;2;255;218;194mn\u001b[48;2;194;255;208mti\u001b[48;2;255;194;224mn\u001b[48;2;218;255;194mg\u001b[48;2;194;224;255m the \u001b[48;2;255;218;194mpar\u001b[48;2;194;255;208ment\u001b[48;2;255;194;224m \u001b[48;2;218;255;194mcon\u001b[48;2;194;224;255mne\u001b[48;2;255;218;194mction\u001b[48;2;194;255;208m \u001b[48;2;255;194;224mfor \u001b[48;2;218;255;194mth\u001b[48;2;194;224;255mis \u001b[48;2;255;218;194mobjec\u001b[48;2;194;255;208mt.\u001b[48;2;255;194;224m\n",
      "    \u001b[48;2;218;255;194m\"\"\"\u001b[48;2;194;224;255m\n",
      "    \u001b[48;2;255;218;194mcon\u001b[48;2;194;255;208mtex\u001b[48;2;255;194;224mt = \u001b[48;2;218;255;194mcon\u001b[48;2;194;224;255mtex\u001b[48;2;255;218;194mt.\u001b[48;2;194;255;208mget\u001b[48;2;255;194;224m('\u001b[48;2;218;255;194me\u001b[48;2;194;224;255mve\u001b[48;2;255;218;194mn\u001b[48;2;194;255;208mt\u001b[48;2;255;194;224m', \u001b[48;2;218;255;194m[]\u001b[48;2;194;224;255m)\n",
      "    \u001b[48;2;255;218;194mdef \u001b[48;2;194;255;208mcon\u001b[48;2;255;194;224mtex\u001b[48;2;218;255;194mt\u001b[48;2;194;224;255ms(\u001b[48;2;255;218;194mself\u001b[48;2;194;255;208m, \u001b[48;2;255;194;224mcon\u001b[48;2;218;255;194mtex\u001b[48;2;194;224;255mt\u001b[48;2;255;218;194m):\n",
      "        \u001b[48;2;194;255;208mcon\u001b[48;2;255;194;224mtex\u001b[48;2;218;255;194mt = \u001b[48;2;194;224;255mcon\u001b[48;2;255;218;194mtex\u001b[48;2;194;255;208mt.\u001b[48;2;255;194;224mget\u001b[48;2;218;255;194m('\u001b[48;2;194;224;255mcon\u001b[48;2;255;218;194mtex\u001b[48;2;194;255;208mt\u001b[48;2;255;194;224m')\u001b[48;2;218;255;194m\n",
      "        \u001b[48;2;194;224;255mcon\u001b[48;2;255;218;194mtex\u001b[48;2;194;255;208mt.\u001b[48;2;255;194;224mtex\u001b[48;2;218;255;194mt = \n"
     ]
    }
   ],
   "source": [
    "import torch\n",
    "\n",
    "code = \"\"\"class \"\"\"\n",
    "\n",
    "tokens = torch.tensor(tokenizer.tokenize(code)).unsqueeze(0)\n",
    "\n",
    "pred = model.generate(1, max_len=100, starting_tokens=tokens, nucleus_threshold=0.5)\n",
    "\n",
    "print(tokenizer.color_text_ansi(tokenizer.detokenize(pred[0])))"
   ]
  },
  {
   "cell_type": "code",
   "execution_count": 8,
   "metadata": {},
   "outputs": [
    {
     "name": "stdout",
     "output_type": "stream",
     "text": [
      "class ListView.objects(node, table=_table, tablename='update', FunctionsColor.created): # if this is an initial value with color.\n",
      "    vcs = 0.03525\n",
      "    slices = set([category, collection]).all()\n",
      "\n",
      "    mimess = []\n",
      "    if 'f\n"
     ]
    }
   ],
   "source": [
    "print(tokenizer.detokenize(pred[0]))"
   ]
  },
  {
   "cell_type": "code",
   "execution_count": 9,
   "metadata": {},
   "outputs": [],
   "source": [
    "from torch.utils.data import ConcatDataset, DataLoader, random_split\n",
    "\n",
    "def collate_fn(batch:list[torch.Tensor], max_len:int=2048):\n",
    "    batch = [x[:max_len] for x in batch]\n",
    "    batch = [\n",
    "        torch.cat([torch.tensor([BOS_ID]), x, torch.tensor([EOS_ID])])\n",
    "        for x in batch\n",
    "    ]\n",
    "    return torch.nn.utils.rnn.pad_sequence(batch, batch_first=True, padding_value=PAD_ID)\n",
    "\n",
    "\n",
    "train_ds = MemmapDataset(\"train\", \"py150k_large\")\n",
    "val_ds = MemmapDataset(\"eval\", \"py150k_large\")\n",
    "\n",
    "train_dl = DataLoader(train_ds, batch_size=32, collate_fn=collate_fn)\n",
    "val_dl = DataLoader(val_ds, batch_size=32, collate_fn=collate_fn)"
   ]
  },
  {
   "cell_type": "code",
   "execution_count": 10,
   "metadata": {},
   "outputs": [
    {
     "data": {
      "text/plain": [
       "(0.07876304867497295, 0.1875)"
      ]
     },
     "execution_count": 10,
     "metadata": {},
     "output_type": "execute_result"
    }
   ],
   "source": [
    "from utils.metrics import bleu_score, syntax_error_score\n",
    "\n",
    "batch = next(iter(val_dl))\n",
    "B, L = batch.shape\n",
    "# avoid going to the end of the batch (may be padded)\n",
    "context = int(0.25 * L)\n",
    "pred_length = 2 * context\n",
    "x = batch[:, :context]\n",
    "y = batch[:, context:pred_length]\n",
    "y_hat = model.generate(B, max_len=L, starting_tokens=x, nucleus_threshold=0.5)\n",
    "y_hat = [seq[context:pred_length] for seq in y_hat]\n",
    "avg_bleu_score = bleu_score(y.tolist(), y_hat, n_gram=4)\n",
    "            \n",
    "gen = model.generate(B, max_len=200, nucleus_threshold=0.5)\n",
    "programs = [tokenizer.detokenize(gen_seq) for gen_seq in gen]\n",
    "avg_syntax_error_score = syntax_error_score(programs)\n",
    "\n",
    "avg_bleu_score, avg_syntax_error_score"
   ]
  },
  {
   "cell_type": "code",
   "execution_count": 11,
   "metadata": {},
   "outputs": [
    {
     "data": {
      "text/plain": [
       "['class Argument(AutoAdmin):\\n\\n    \"\"\"\\n    A A function that we don\\'t find the API to add to registered operation.\\n    \"\"\"\\n\\n    def __init__(self, params):\\n        params = params.parse_args(params)\\n        params = params\\n        params = params\\n        params[\\'params\\'] = params\\n        params[\\'params\\'] = params\\n        params[\\'sql\\'] = params[\\'params\\']\\n        params[\\'params\\'] = params[\\'params\\']\\n        if params[\\'params\\'][\\'params\\'][\\'success\\']:\\n            params[\\'params\\'] = params[\\'params\\'][\\'par',\n",
       " '# Licensed under the Apache License, Version 2.0 (the \"License\");\\n# you may not use this file except in compliance with the License.\\n# You may obtain a copy of the License at\\n#\\n#     http://www.apache.org/licenses/LICENSE-2.0\\n#\\n# Unless required by applicable law or agreed to in writing, software\\n# distributed under the License is distributed on an \"AS IS\" BASIS,\\n# WITH',\n",
       " '# Sphinx supported by Linux.Character.\\n##\\n########################################################################################\\n\\n\\ndef _set_helper(_group_name, context):\\n    \"\"\"\\n    Decorator for the GroupSet instance object.\\n\\n    :param default_settings: A list of group names in the group name of the application.\\n    :param config_name: set to default roles\\n    :param name: The name of the group of the content\\n    of the name of the role.\\n    :param group_name: list of names of groups and make sure w',\n",
       " 'if (name in PATH_INSTALLED_PATH):\\n                    raise Exception(\\'Unable to remove plugins: %s\\' % plugin.name)\\n            if not plan_name:\\n                raise ParserError(\\n                    \"Process %s is a list of %s from %s\" % (name, description))\\n            if not hasattr(node, \\'proxy\\'):\\n                self.report_name = getattr(pk, name, name)\\n                if name == \\'replace\\':\\n                    self.pkg_name = name\\n                    else:\\n                    name = name\\n                    if name not in self.namespace_name:\\n                    raise Status(name=\\'name\\')\\n                self.replace_',\n",
       " '\"Application\"\\n        )\\n\\n    @subprocess.Popen()\\n\\n    @classmethod\\n    def clean_update_base_manager(cls, cls, cls):\\n        cls.cluster_cls = cls.cluster.cluster.cluster_cls\\n        cls.cloud.cluster.cluster.cluster.cluster.cluster.cluster.cluster.cluster.cluster.cluster.cluster.cluster.cluster.cluster.cluster.cluster.cluster.cluster.cluster.cluster.cluster.cluster.cluster.cluster.cluster.cluster.cluster.cluster.cluster.cluster.',\n",
       " \"'array': [\\n        'refresh',\\n        'floating_ip',\\n        'refresh_ref',\\n        'feature_transfer',\\n        'free_features',\\n        'free_ref',\\n        'free_features',\\n        'feature_frame',\\n        'feature_feature_feature',\\n        'feature_features',\\n        'feature_ref',\\n        'feature_features',\\n        'feature_features',\\n        'free_feature_features',\\n        'feature_features',\\n        'feature_feature_feat\",\n",
       " \"self.run_command(\\n            'DELETE PATH SET PROTO: Unable to be defined for testing port',\\n            '--message',\\n            '--message='+'.join((?P<input_path) > 1)',\\n            '--message-input-data-password=messages',\\n            '\\\\r\\\\n',\\n            '--password={}'.format(\\n            'password=\\\\\\\\r\\\\n\\\\r\\\\n\\\\r\\\\n\\\\r\\\\n'\\n            '\\\\n',\\n            'message-index-msg-password-password=\\\\\\\\'\\\\r\\\\\",\n",
       " 'def reverse_register_of_register_handlers(self):\\n        return self.registry.register_of_registry()\\n\\n    def _get_good_function(self, greenlet, registry, group):\\n        group = greenlet\\n        group.groups = []\\n        groups = group.register_groups(groups)\\n        groups = self.group.register(group)\\n        groups = self.groups[group]\\n        groups = self.groups\\n        groups = group.browser.core.groups\\n        groups = []\\n        groups = groups\\n        for group in ',\n",
       " \"def get_mode_params(self):\\n        # Do not determine if a simple will not part of the password is deprecated.\\n        if self.params['signature'] == 'gui':\\n            self.params['Mode'] = 'ADD site %s (%s)' % (param.name, self.params['Unicode'])\\n        else:\\n            return params\\n\\n    def parse_params(self, params):\\n        params = params\\n        params['params'] = params\\n        params['params'] = params\\n        params['params'] = params['params']\\n        if params['params'] == 'submitted':\\n            param\",\n",
       " 'assert result.type == TEST_STATUS_CACHE_TYPE_CONTENT\\n\\n\\nclass TestCase(TestCase):\\n    def test_no_seconds__enable_single_receive(self):\\n        \"\"\"\\n        Test that the second value is defined in the current module.\\n        \"\"\"\\n        self._current_request.context = \"Could not end for the current mock required by a current commit by \\'\\n            \\'remove anything to the context instance\\'s message.\\n        # Check that it will cause this is a new Softwar',\n",
       " 'from django.contrib.auth.models import User\\nfrom django.contrib.auth.models import Site\\nfrom django.core.management.base import Model\\nfrom django.contrib.sites.models import User\\nfrom django.contrib.auth.models import State\\n\\nfrom django.db import models\\n\\n\\nclass Migration(ModelAdmin):\\n    \"\"\"\\n    A model object for a model that we don\\'t exist.\\n\\n    \"\"\"\\n    fields = [\"Model model \"%s\"] model %s (%s) AND MODEL %s %s\\' % (model.name, model._meta.model.name, name.name))\\n    return model._meta.model_name\\n\\n\\nclass CharField(models.',\n",
       " '\"\"\"\\n        try:\\n            import json\\n\\n        except Exception:\\n            pass\\n\\n    def write_response(self, context, req):\\n        \"\"\"Convert a response contents for the specified repository information.\\n\\n        \"\"\"\\n        return self.request.url_code()\\n\\n    def connection_response(self, response):\\n        \"\"\"Return a string method in the request header.\\n\\n        :param request: the response will be invalid\\n        :param request: str\\n        :param response: the response to the response string.\\n        :param request: The name of the response containing results in the response to the content of this content\\n        :param request: The ',\n",
       " \"self._check_metadata()\\n\\n        # Set up methods to be loaded by SQL method\\n        if (method) == 0:\\n            return self.metadata.get('metadata', metadata=metadata)\\n\\n        # Deleting data and returns the metadata with '\\n            'metadata.json_metadata.detail_metadata\\n        metadata = self.get_metadata(metadata)\\n        return metadata\\n\\n    def __init__(self, metadata):\\n        metadata = self.metadata\\n        if metadata:\\n            self.metadata.update(metadata)\\n\\n        # Method metadata to be used to create a metadata\\n        metadata = {\\n            'metadata': {\\n            'Meta': \",\n",
       " 'class Node(object):\\n\\n    def __init__(self, name, parent=None):\\n        self.parent = parent\\n        self.parent = parent\\n        self.parent = parent\\n        self.parent = parent\\n        self.parent = parent\\n        self.parent = parent\\n        self.parent = parent\\n        self.parent = parent\\n        self.parent = parent\\n        self.parent = parent\\n        self.parent = parent\\n        self.parent = parent\\n        self.parent = parent\\n        self.parent = parent\\n        self.parent = parent\\n        self.parent = parent\\n        self.parent = parent\\n        self.parent = parent\\n        self.parent = parent\\n        self.parent = parent\\n        self.parent = parent\\n        self.parent = parent\\n        self.parent = parent\\n        self.parent = parent\\n        self.parent = parent\\n        self.parent = parent\\n        self.parent = parent\\n        self.parent = parent\\n        self.parent = parent\\n        self.parent = par',\n",
       " \"if self.param is None:\\n                self.current_data = [\\n                    (param, self.param_param.param_name, self.param_params),\\n                self.param_param.params[param]\\n                    param_param.param_param_param_params[param] = param_params\\n            params['params'] = param_params\\n\\n        param_params = param.param_params\\n        params = param.params\\n        params = param.param_params\\n        params = params\\n        params = params\\n\\n        params = {}\\n        params = params\\n        params['params'] = params\\n        params['multipart'] = params\\n        par\",\n",
       " \"#-----------------------------------------------------------------------\\n#  'append': ('django.db.models.fields.CharField', [], {'max_length': '255', 'null': 'True', 'blank': 'True'}),\\n            'ad_updated': ('django.db.models.fields.DateTimeField', [], {'default': 'datetime.datetime.now'}),\\n            'ftp_widget': ('django.db.models.fields.DateTimeField', [], {'default': 'datetime.datetime.now'}),\\n            'email': ('django.db.models.fields.EmailField', [], {'max_length': '120'}),\\n            'id': ('django.db.models.fields.AutoField', [], {'primary_key': 'True'}),\\n            'flags': ('django.db.models.fields.CharField', []\",\n",
       " 'if self.evaluate_data_data is None:\\n            return self.data_data.get(data_data[self.channel_data_data])\\n\\n        data = data[data_data]\\n        data = self.data_data[data_data]\\n        data_data = datadata[data_data]\\n        data_data[data] = data[data_data[data][data][data][data_data[data][data_data][data][data_data[data][data][data][data][data][data_data][data_data][data_data][data][data][data][data_data[data][data][data][data][data][data][data][data_data][data][data][data_data[:]][data[data][data]',\n",
       " \"#    from support import get_support, Unique, Store, Token, Inc.SubSystemString, subject, sub_class, 'sub_subject', 'subject', 'subject', 'submit', 'submit', 'register', 'subnet', 'interface', 'subnets', 'network', 'consumer_subnet', 'submit', 'networks', 'done', 'subnets', 'gateway', 'subnets', 'network', 'interactive', 'none', 'address', 'topics', 'address', 'libs', 'network', 'double', 'subnets', '\",\n",
       " 'def test_connection_context(self):\\n        \"\"\"\\n        Check for connection connections in the given dictionary.\\n        \"\"\"\\n        if self.connection:\\n            self.connection._connection_connection.connection_connection_connection()\\n            connection._connection_connection.connection_connection(connection)\\n            connection.connection.connection_connection.connection_connection_connection(connection_connection)\\n        connection.connection.connection.connection.connection_connection = None\\n\\n        # If the connection connection is not connected, it will be connected to the\\n        # connection to re',\n",
       " '\"SELECT DEBUG SECUTE GROUP SET TO THE SOURCE OF SET READ THE FOR AND TABLE SEE THE OF SET INTO THE AUTHORS BE LIABLE FOR ANY COPYRIGHT HOLDERS AND CONTRIBUTORS \"AS IS\"\\n# AND ANY EXPRESS OR IMPLIED WARRANTIES, INC',\n",
       " 'return result\\n\\n    def add_result(self, edge):\\n        \"\"\"\\n        Ensure when a single edge was given a binary mode.\\n\\n        \"\"\"\\n        return self.__convert_tree(edges)\\n\\n    def get(self, key):\\n        \"\"\"Returns the value of the subclass of edge (e.g. Address).\\n        \"\"\"\\n        return self.record[\"index\"]\\n\\n    def get(self, key, value):\\n        if not self.is_dirty:\\n            return False\\n        return self.__class__.__name__\\n\\n    def __getitem__(self, key):\\n        return self.__key.__dict__.items()\\n\\n    def __getitem__(self, key):\\n        return iter(self.keys())\\n\\n    def __getitem__(self, key):\\n        return self._keys[key]\\n\\n    def __iter__',\n",
       " 'return [str(v) for x in xrange(n)]\\n\\n\\ndef get_params(params):\\n    \"\"\"\\n    Parse parameters are supported for params in a particular parameter to the specified by parameters\\n    parameters in the param parameters.\\n\\n    Parameters\\n    ----------\\n    params: The parameter to be used to convert string\\n    :param str params: params of the parameter string.\\n    :param params: string (string) or string or parameter parameters\\n    :param params: string\\n    :param params: string\\n    :param params',\n",
       " \"#       'current_channel'            # change it will be used to interface with the\\n                # the comment can be passed to the channel.\\n            if not (u'change' in channels):\\n                # Update the channel comments\\n            channels = {}\\n                channel.wanted_change_entry(channel._channels)\\n                          for channel in channels:\\n                    continue\\n                channel.append(channel.channel_id)\\n                    continue\\n            channel.append(channel.get_channel())\\n        except AttributeError:\\n            \",\n",
       " \"if self.convert_version == 1:\\n                self.version = version\\n\\n            self.logger.info('Group %s' % version)\\n                    self.logger.debug('Registered Group '\\n                         '%(name)s'\\n                                                                                                                                                                                                                                                                                                                                                                                                                                                                                                                                                                                                                                                                                                                                                                                                                                                                                                                                                                                                                                                                                                                                                                                                                                                                                                                                                                                                                                                                                                                                                                                                                                                                                                                                                                                                                                                                                                                                                                                                                                                                                                                                                                                                \",\n",
       " '# If this is a non-addressed caused after execution (e.g. will be included in the URL for this module.\\')\\n\\n\\nclass TestPosition(TestCase):\\n    \"\"\"\\n    Tests for the given context for this class when a workflow work.\\n    \"\"\"\\n    def test_get_case_type(self):\\n        \"\"\"Test a case of the full document from the specified context.\"\"\"\\n        current_doc = \\'/\\'\\n        doc = u\\'<doc>\\'\\n        doc = doc.docstring(text)\\n        # do not exist\\n        # current documentation re',\n",
       " '# Skip notice and write passed to get statement that will be converted to the current service.\\n    # Note: If a Service API is in the server side being changed\\n    # with all requests to pass that can be used to create successfully.\\n    # Add a successful and write to the current user and user was no other supported when the\\n    # support of the user to wait for the user storage in a user or an\\n    # See http://',\n",
       " 'self.editor.insert(0, self.port)\\n\\n    def test_define_subject(self):\\n        \"\"\"\\n        Create a function to connect to the function object (it will be used for connection\\n        \"\"\"\\n        self.add_parameter(\\'subnet\\', self.flavor_flags)\\n        self.assertTrue(f.connect(), \\'fetch_all\\', self.flavor)\\n        self.assertTrue(conf.get(\\'function\\') == [ self.address], [\\n            (\\'subnet\\', self.feed),\\n            (\\'func\\', self.feed),\\n            (\\'feed\\', self.feedf),\\n            (\\'feed\\', self.flavor)],\\n            feature=self.feed,\\n            fe',\n",
       " \"# This method is used as an error before there are there's this different through a 'source' or 'a'.\\n    # The default is the same as a file from the '/' + '.'\\n    # The default is not a position to the indices of the given something like the\\n    # computed in this function.\\n    # If a POST is in the default port to include a single single framework.\\n    # Parameters\\n    ----------\\n    # If it is also interface for functions with when \",\n",
       " '\\'product_type\\': (\\'django.db.models.fields.CharField\\', [], {\\'max_length\\': \\'100\\'}),\\n            \\'project\\': (\\'django.db.models.fields.related.ForeignKey\\', [], {\\'to\\': \"orm[\\'contenttypes.ContentType\\']\"}),\\n            \\'id\\': (\\'django.db.models.fields.AutoField\\', [], {\\'primary_key\\': \\'True\\'}),\\n            \\'name\\': (\\'django.db.models.fields.CharField\\', [], {\\'max_length\\': \\'100\\'}),\\n            \\'id\\': (\\'django.db.models.fields.AutoField\\', [], {\\'primary_key\\': \\'True\\'}),\\n            \\'key\\': (\\'django.db.models.fields.CharField\\', [], {\\'max_length\\': \\'255\\'}),\\n            \\'project\\': (\\'django.db.models.fields.related.Foreig',\n",
       " '# if the default was already included in the default.\\n    try:\\n        for child in os.children():\\n                if isinstance(child, re.I):\\n                child.append(\"%s children %s\" % (child, \"%s\")(\\n                        children[\"children\"]))\\n    else:\\n        children = {}\\n        children = {}\\n        children = {}\\n        children = []\\n        children = {}\\n        children = []\\n        for child in children:\\n            children.append(children)\\n        return children.children.children(children, children, children, ch',\n",
       " '\"\"\"\\n        from hypervisor import *\\n\\n        self.assertEqual(\\n            [(np.float32, self.n_float),\\n                     self.get_float(np.float),\\n                                 np.float32()),\\n                 (\\'/localhost:1.0/2/1\\', 1),\\n                     (1.0, 1.0),\\n                             (\\'No 1 - 1 2 :3 4 1 1 3 1 3 1\\')],\\n                     \\'...\\'.format(\\n            np.random.randn(1, 2)),\\n                 self.assertTrue(np.zeros((np.ndarray(np.nan)), 2)\\n            )\\n\\n        # Return True if there is no physical ',\n",
       " 'if self.options[\\'author\\'] == \\'auto\\':\\n            raise NotImplementedError(\\n                \"Unknown configuration to go any modules instead of user \"\\n                    \"The option to the user and \"\\n                        \"got other than a user to the \"\\n                    \"Otherwise: {0} otherwise: \"\\n                    \"the auth to authorize user into a user or a URL\")\\n            return\\n\\n            self.client.users.append(\"authorization\")\\n        return self.client.subscribe(user_name, user)\\n\\n    def authorized_user_agent(self):\\n        \"\"\"\\n        An optional ']"
      ]
     },
     "execution_count": 11,
     "metadata": {},
     "output_type": "execute_result"
    }
   ],
   "source": [
    "programs"
   ]
  },
  {
   "cell_type": "code",
   "execution_count": 12,
   "metadata": {},
   "outputs": [
    {
     "data": {
      "text/plain": [
       "\"Instances' in monolith.types[itemtype]:\\n                for instance in monolith.types[itemtype][u'Instances']:\\n                    if self._schemaid[0] in instance.resp.request.path.\\\\\\n                                            lower() or self._regid[0] in \\\\\\n                                            instance.resp.request.path.lower():\\n                        if not registries and self._schemaid[0] in \\\\\\n                                            instance.resp.request.path.lower():\\n                            if classesdataholder:\\n                                if self._schemaid[1] in instance.resp.dict:\\n                                    classesdataholder[0][self._schemaid[1]].\\\\\\n                                                    extend(instance.resp.dict\\\\\\n                                                           [self._schemaid[1]])\\n                            else:\\n                                classesdataholder.append(instance.resp.dict)\\n                        elif registries and self._regid[0] in \\\\\\n                                            instance.resp.request.path.lower():\\n                            if classesdataholder:\\n                                if monolith.is_redfish:\\n                                    classesdataholder[0][self._regid[1]].\\\\\\n                                                    extend(instance.resp.dict\\\\\\n                                                           [self._regid[1]])\\n                            else:\\n                                classesdataholder.append(instance.resp.dict)\\n\\n        if classesdataholder:\\n            classesdataholder = classesdataholder[0]\\n\\n        try:\\n            if monolith._typestring in classesdataholder and ('Collection.' in \\\\\\n                                    classesdataholder[monolith._typestring] or \\\\\\n                                    ('#SchemaFileCollection.' in \\\\\\n                                    classesdataholder[monolith._typestring] \\\\\\n                                    and monolith.is_redfish)\""
      ]
     },
     "execution_count": 12,
     "metadata": {},
     "output_type": "execute_result"
    }
   ],
   "source": [
    "tokenizer.detokenize(y[-2].tolist())"
   ]
  },
  {
   "cell_type": "code",
   "execution_count": 13,
   "metadata": {},
   "outputs": [
    {
     "data": {
      "text/plain": [
       "'import UserFactory\\nfrom openstack_driver.client import Address\\nfrom openstack.decorators import exceptions\\nfrom pants.backend.test.success import CodeListCompiler\\nfrom .utils import base_password\\n\\n\\nclass ClientAuth(object):\\n    \"\"\"\\n    A load test to the result from the object has been required\\n    that is used to use a load object of an exception.\\n    \"\"\"\\n    pass\\n\\n\\nclass UnpackageHandler(BaseCommand):\\n    \"\"\"\\n    An remote package from the server.\\n    \"\"\"\\n\\n    def __init__(self, path, password):\\n        \"\"\"Sets the base name of the Python and the client to support this path to the password\\n        \"\"\"\\n        return self.password\\n\\n    def _get_superuser(self, path):\\n        return self.path\\n\\n\\nclass Person(object):\\n    \"\"\" This is the password is no supported by this class\\n    \"\"\"\\n    pass\\n\\n\\nclass ReadTest(ReadBuilder(BaseCommand):\\n    \"\"\"\\n    This class used by the Computed file and read with Python objects.\\n    \"\"\"\\n    def __init__(self, *args, **kwargs):\\n        super(ServerFactory, self).__init__(*args, **kwargs)\\n        self._setup_state(super(HasConfig, self).__init__()<eos>__init__()\\n        self.__init__(*args, **kwargs)\\n        self._super(AddType, self).__init__(*args, **kwargs)\\n\\n\\nclass CreateAuth(object):\\n    \"\"\"\\n    A URL to a SQL'"
      ]
     },
     "execution_count": 13,
     "metadata": {},
     "output_type": "execute_result"
    }
   ],
   "source": [
    "tokenizer.detokenize(y_hat[1])"
   ]
  }
 ],
 "metadata": {
  "kernelspec": {
   "display_name": ".venv",
   "language": "python",
   "name": "python3"
  },
  "language_info": {
   "codemirror_mode": {
    "name": "ipython",
    "version": 3
   },
   "file_extension": ".py",
   "mimetype": "text/x-python",
   "name": "python",
   "nbconvert_exporter": "python",
   "pygments_lexer": "ipython3",
   "version": "3.12.2"
  }
 },
 "nbformat": 4,
 "nbformat_minor": 2
}
