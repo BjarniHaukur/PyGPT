{
 "cells": [
  {
   "cell_type": "code",
   "execution_count": null,
   "metadata": {},
   "outputs": [],
   "source": [
    "import tokenize\n",
    "from io import BytesIO\n",
    "\n",
    "python_code = \"\"\"\n",
    "# this is a comment\n",
    "def example_function(x):\n",
    "    for i in range(x):\n",
    "        print(i)\n",
    "\"\"\"\n",
    "\n",
    "tokens = []\n",
    "types_to_ignore = {\n",
    "    tokenize.INDENT, tokenize.DEDENT, tokenize.NEWLINE, tokenize.NL, tokenize.ENDMARKER\n",
    "}\n",
    "for tok in tokenize.tokenize(BytesIO(python_code.encode('utf-8')).readline):\n",
    "    if tok.type not in types_to_ignore:\n",
    "        tokens.append(tok.string)\n",
    "\n",
    "tokens\n"
   ]
  }
 ],
 "metadata": {
  "kernelspec": {
   "display_name": "Python 3",
   "language": "python",
   "name": "python3"
  },
  "language_info": {
   "codemirror_mode": {
    "name": "ipython",
    "version": 3
   },
   "file_extension": ".py",
   "mimetype": "text/x-python",
   "name": "python",
   "nbconvert_exporter": "python",
   "pygments_lexer": "ipython3",
   "version": "3.12.2"
  },
  "orig_nbformat": 4
 },
 "nbformat": 4,
 "nbformat_minor": 2
}
