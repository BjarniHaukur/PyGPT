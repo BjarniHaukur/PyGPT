{
 "cells": [
  {
   "attachments": {},
   "cell_type": "markdown",
   "metadata": {},
   "source": [
    "Ideally we would want each token that python requires to be it's own token. This is not strictly necessary but I believe it will help since we will be training quite small models. Will probably also reduce the amount of synxtax errors. "
   ]
  },
  {
   "cell_type": "code",
   "execution_count": 56,
   "metadata": {},
   "outputs": [
    {
     "data": {
      "text/plain": [
       "(22, 61)"
      ]
     },
     "execution_count": 56,
     "metadata": {},
     "output_type": "execute_result"
    }
   ],
   "source": [
    "import tokenize\n",
    "\n",
    "tokenize.EQUAL, ord(\"=\") # not ascii"
   ]
  },
  {
   "cell_type": "code",
   "execution_count": 91,
   "metadata": {},
   "outputs": [
    {
     "data": {
      "text/plain": [
       "['utf-8',\n",
       " '\\n',\n",
       " '# sum from 1 to 9',\n",
       " '\\n',\n",
       " 'accumulator',\n",
       " '=',\n",
       " '0',\n",
       " '# accumulates the sum',\n",
       " '\\n',\n",
       " 'for',\n",
       " 'i',\n",
       " 'in',\n",
       " 'range',\n",
       " '(',\n",
       " '10',\n",
       " ')',\n",
       " ':',\n",
       " '\\n',\n",
       " '    ',\n",
       " 'accumulator',\n",
       " '+=',\n",
       " '1',\n",
       " '\\n',\n",
       " '',\n",
       " '']"
      ]
     },
     "execution_count": 91,
     "metadata": {},
     "output_type": "execute_result"
    }
   ],
   "source": [
    "from io import BytesIO\n",
    "\n",
    "\n",
    "python_code = \"\"\"\n",
    "# sum from 1 to 9\n",
    "accumulator = 0 # accumulates the sum\n",
    "for i in range(10):\n",
    "    accumulator += 1\n",
    "\"\"\"\n",
    "\n",
    "list(x.string for x in tokenize.tokenize(BytesIO(python_code.encode(\"utf-8\")).readline)) # don't know why utf-8 is there"
   ]
  },
  {
   "attachments": {},
   "cell_type": "markdown",
   "metadata": {},
   "source": [
    "We can use ast to check for obvious syntax errors (ast.parse throws an error). This won't find semantic errors but that would be quite hard regardless."
   ]
  },
  {
   "cell_type": "code",
   "execution_count": 75,
   "metadata": {},
   "outputs": [
    {
     "name": "stdout",
     "output_type": "stream",
     "text": [
      "Module(\n",
      "    body=[\n",
      "        FunctionDef(\n",
      "            name='example_function',\n",
      "            args=arguments(\n",
      "                posonlyargs=[],\n",
      "                args=[\n",
      "                    arg(arg='x')],\n",
      "                kwonlyargs=[],\n",
      "                kw_defaults=[],\n",
      "                defaults=[]),\n",
      "            body=[\n",
      "                Assign(\n",
      "                    targets=[\n",
      "                        Name(id='accumulator', ctx=Store())],\n",
      "                    value=Constant(value=0)),\n",
      "                For(\n",
      "                    target=Name(id='i', ctx=Store()),\n",
      "                    iter=Call(\n",
      "                        func=Name(id='range', ctx=Load()),\n",
      "                        args=[\n",
      "                            Name(id='x', ctx=Load())],\n",
      "                        keywords=[]),\n",
      "                    body=[\n",
      "                        AugAssign(\n",
      "                            target=Name(id='accumulator', ctx=Store()),\n",
      "                            op=Add(),\n",
      "                            value=Constant(value=1))],\n",
      "                    orelse=[]),\n",
      "                Return(\n",
      "                    value=Name(id='accumulator', ctx=Load()))],\n",
      "            decorator_list=[],\n",
      "            type_params=[])],\n",
      "    type_ignores=[])\n",
      "def example_function(x):\n",
      "    accumulator = 0\n",
      "    for i in range(x):\n",
      "        accumulator += 1\n",
      "    return accumulator\n"
     ]
    }
   ],
   "source": [
    "import ast\n",
    "print(ast.dump(ast.parse(python_code), indent=4))\n",
    "print(ast.unparse(ast.parse(python_code)))"
   ]
  },
  {
   "cell_type": "code",
   "execution_count": 92,
   "metadata": {},
   "outputs": [
    {
     "name": "stdout",
     "output_type": "stream",
     "text": [
      "finds syntax errors such as missing indents\n",
      "... invalid statements\n",
      "... missing parentheses\n",
      "also detects the misuse of python keywords\n"
     ]
    }
   ],
   "source": [
    "bad_python_code = \"\"\"\n",
    "def example(x):\n",
    "return x\n",
    "\"\"\"\n",
    "try: ast.parse(bad_python_code)\n",
    "except: print(\"finds syntax errors such as missing indents\")\n",
    "\n",
    "bad_python_code = \"a  b\"\n",
    "try: ast.parse(bad_python_code)\n",
    "except: print(\"... invalid statements\")\n",
    "\n",
    "\n",
    "bad_python_code = \"\"\"\n",
    "def example(x:\n",
    "    return x\n",
    "\"\"\"\n",
    "try: ast.parse(bad_python_code)\n",
    "except: print(\"... missing parentheses\")\n",
    "\n",
    "bad_python_code = \"\"\"\n",
    "fo i in range(5):\n",
    "    print(i)\n",
    "\"\"\"\n",
    "try: ast.parse(bad_python_code)\n",
    "except: print(\"also detects the misuse of python keywords\")\n",
    "\n",
    "bad_python_code = \"\"\"\n",
    "for i in ra(5):\n",
    "    p(i)\n",
    "\"\"\"\n",
    "ast.parse(bad_python_code) # ... but not the misuse of inbult functions like range or print\n",
    "\n",
    "bad_python_code = \"\"\"\n",
    "def example(x):\n",
    "    return x*2\n",
    "xample(x)\n",
    "\"\"\"\n",
    "ast.parse(bad_python_code) # does not fail\n",
    "\n",
    "\n",
    "bad_python_code = \"\"\"\n",
    "def foo(): return \"bar\"\n",
    "a = 2\n",
    "a += foo\n",
    "\"\"\"\n",
    "ast.parse(bad_python_code) # does not fail\n",
    "\n",
    "\n",
    "bad_python_code = \"a = b\"\n",
    "_ = ast.parse(bad_python_code) # does not fail"
   ]
  }
 ],
 "metadata": {
  "kernelspec": {
   "display_name": "Python 3",
   "language": "python",
   "name": "python3"
  },
  "language_info": {
   "codemirror_mode": {
    "name": "ipython",
    "version": 3
   },
   "file_extension": ".py",
   "mimetype": "text/x-python",
   "name": "python",
   "nbconvert_exporter": "python",
   "pygments_lexer": "ipython3",
   "version": "3.12.2"
  },
  "orig_nbformat": 4
 },
 "nbformat": 4,
 "nbformat_minor": 2
}
