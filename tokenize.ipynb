{
 "cells": [
  {
   "attachments": {},
   "cell_type": "markdown",
   "metadata": {},
   "source": [
    "Ideally we would want each token that python requires to be it's own token. This is not strictly necessary but I believe it will help since we will be training quite small models. Will probably also reduce the amount of synxtax errors. "
   ]
  },
  {
   "cell_type": "code",
   "execution_count": 56,
   "metadata": {},
   "outputs": [
    {
     "data": {
      "text/plain": [
       "(22, 61)"
      ]
     },
     "execution_count": 56,
     "metadata": {},
     "output_type": "execute_result"
    }
   ],
   "source": [
    "import tokenize\n",
    "\n",
    "tokenize.EQUAL, ord(\"=\") # not ascii"
   ]
  },
  {
   "cell_type": "code",
   "execution_count": 91,
   "metadata": {},
   "outputs": [
    {
     "data": {
      "text/plain": [
       "['utf-8',\n",
       " '\\n',\n",
       " '# sum from 1 to 9',\n",
       " '\\n',\n",
       " 'accumulator',\n",
       " '=',\n",
       " '0',\n",
       " '# accumulates the sum',\n",
       " '\\n',\n",
       " 'for',\n",
       " 'i',\n",
       " 'in',\n",
       " 'range',\n",
       " '(',\n",
       " '10',\n",
       " ')',\n",
       " ':',\n",
       " '\\n',\n",
       " '    ',\n",
       " 'accumulator',\n",
       " '+=',\n",
       " '1',\n",
       " '\\n',\n",
       " '',\n",
       " '']"
      ]
     },
     "execution_count": 91,
     "metadata": {},
     "output_type": "execute_result"
    }
   ],
   "source": [
    "from io import BytesIO\n",
    "\n",
    "\n",
    "python_code = \"\"\"\n",
    "# sum from 1 to 9\n",
    "accumulator = 0 # accumulates the sum\n",
    "for i in range(10):\n",
    "    accumulator += 1\n",
    "\"\"\"\n",
    "\n",
    "list(x.string for x in tokenize.tokenize(BytesIO(python_code.encode(\"utf-8\")).readline)) # don't know why utf-8 is there"
   ]
  }
 ],
 "metadata": {
  "kernelspec": {
   "display_name": "Python 3",
   "language": "python",
   "name": "python3"
  },
  "language_info": {
   "codemirror_mode": {
    "name": "ipython",
    "version": 3
   },
   "file_extension": ".py",
   "mimetype": "text/x-python",
   "name": "python",
   "nbconvert_exporter": "python",
   "pygments_lexer": "ipython3",
   "version": "3.12.2"
  },
  "orig_nbformat": 4
 },
 "nbformat": 4,
 "nbformat_minor": 2
}
