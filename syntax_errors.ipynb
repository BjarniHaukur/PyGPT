{
 "cells": [
  {
   "cell_type": "markdown",
   "metadata": {},
   "source": [
    "We can use ast to check for obvious syntax errors (ast.parse throws an error). This won't find semantic errors but that would be quite hard regardless."
   ]
  },
  {
   "cell_type": "code",
   "execution_count": 1,
   "metadata": {},
   "outputs": [
    {
     "name": "stdout",
     "output_type": "stream",
     "text": [
      "Module(\n",
      "    body=[\n",
      "        For(\n",
      "            target=Name(id='i', ctx=Store()),\n",
      "            iter=Call(\n",
      "                func=Name(id='range', ctx=Load()),\n",
      "                args=[\n",
      "                    Constant(value=5)],\n",
      "                keywords=[]),\n",
      "            body=[\n",
      "                Expr(\n",
      "                    value=Call(\n",
      "                        func=Name(id='print', ctx=Load()),\n",
      "                        args=[\n",
      "                            Constant(value='Hello world!')],\n",
      "                        keywords=[]))],\n",
      "            orelse=[])],\n",
      "    type_ignores=[])\n",
      "for i in range(5):\n",
      "    print('Hello world!')\n"
     ]
    }
   ],
   "source": [
    "import ast\n",
    "\n",
    "python_code = \"\"\"\n",
    "for i in range(5):\n",
    "    print(\"Hello world!\")\n",
    "\"\"\"\n",
    "\n",
    "print(ast.dump(ast.parse(python_code), indent=4))\n",
    "print(ast.unparse(ast.parse(python_code)))"
   ]
  },
  {
   "cell_type": "code",
   "execution_count": 2,
   "metadata": {},
   "outputs": [
    {
     "name": "stdout",
     "output_type": "stream",
     "text": [
      "finds syntax errors such as missing indents\n",
      "... invalid statements\n",
      "... missing parentheses\n",
      "also detects the misuse of python keywords\n"
     ]
    }
   ],
   "source": [
    "bad_python_code = \"\"\"\n",
    "def example(x):\n",
    "return x\n",
    "\"\"\"\n",
    "try: ast.parse(bad_python_code)\n",
    "except: print(\"finds syntax errors such as missing indents\")\n",
    "\n",
    "bad_python_code = \"a  b\"\n",
    "try: ast.parse(bad_python_code)\n",
    "except: print(\"... invalid statements\")\n",
    "\n",
    "\n",
    "bad_python_code = \"\"\"\n",
    "def example(x:\n",
    "    return x\n",
    "\"\"\"\n",
    "try: ast.parse(bad_python_code)\n",
    "except: print(\"... missing parentheses\")\n",
    "\n",
    "bad_python_code = \"\"\"\n",
    "fo i in range(5):\n",
    "    print(i)\n",
    "\"\"\"\n",
    "try: ast.parse(bad_python_code)\n",
    "except: print(\"also detects the misuse of python keywords\")\n",
    "\n",
    "bad_python_code = \"\"\"\n",
    "for i in ra(5):\n",
    "    p(i)\n",
    "\"\"\"\n",
    "ast.parse(bad_python_code) # ... but not the misuse of inbult functions like range or print\n",
    "\n",
    "bad_python_code = \"\"\"\n",
    "def example(x):\n",
    "    return x*2\n",
    "xample(x)\n",
    "\"\"\"\n",
    "ast.parse(bad_python_code) # does not fail\n",
    "\n",
    "\n",
    "bad_python_code = \"\"\"\n",
    "def foo(): return \"bar\"\n",
    "a = 2\n",
    "a += foo\n",
    "\"\"\"\n",
    "ast.parse(bad_python_code) # does not fail\n",
    "\n",
    "\n",
    "bad_python_code = \"a = b\"\n",
    "_ = ast.parse(bad_python_code) # does not fail"
   ]
  }
 ],
 "metadata": {
  "kernelspec": {
   "display_name": ".venv",
   "language": "python",
   "name": "python3"
  },
  "language_info": {
   "codemirror_mode": {
    "name": "ipython",
    "version": 3
   },
   "file_extension": ".py",
   "mimetype": "text/x-python",
   "name": "python",
   "nbconvert_exporter": "python",
   "pygments_lexer": "ipython3",
   "version": "3.12.2"
  },
  "orig_nbformat": 4
 },
 "nbformat": 4,
 "nbformat_minor": 2
}
