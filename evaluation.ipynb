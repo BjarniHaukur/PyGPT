{
 "cells": [
  {
   "cell_type": "code",
   "execution_count": 1,
   "metadata": {},
   "outputs": [],
   "source": [
    "%load_ext autoreload\n",
    "%autoreload 2\n",
    "\n",
    "from utils import Py150kDataset\n",
    "\n",
    "import torch\n",
    "import torch.nn as nn\n",
    "import torch.nn.functional as F\n",
    "from torch.utils.data import DataLoader\n"
   ]
  },
  {
   "cell_type": "code",
   "execution_count": 2,
   "metadata": {},
   "outputs": [],
   "source": [
    "ds = Py150kDataset(\"train\", \"py150k\")"
   ]
  },
  {
   "cell_type": "code",
   "execution_count": 3,
   "metadata": {},
   "outputs": [],
   "source": [
    "from utils.dataset import Py150kDataset\n",
    "from utils.tokenizer import BOS_ID, EOS_ID, PAD_ID\n",
    "from torch.utils.data import DataLoader, random_split\n",
    "\n",
    "def collate_fn(batch:list[torch.Tensor], max_len:int=2048):\n",
    "    batch = [x[:max_len] for x in batch]\n",
    "    batch = [\n",
    "        torch.cat([torch.tensor([BOS_ID]), x, torch.tensor([EOS_ID])])\n",
    "        for x in batch\n",
    "    ]\n",
    "    return torch.nn.utils.rnn.pad_sequence(\n",
    "        batch,\n",
    "        batch_first=True,\n",
    "        padding_value=PAD_ID\n",
    "    )\n",
    "\n",
    "\n",
    "\n",
    "train_ds, val_ds, _ = random_split(ds, [10, 10, len(ds) - 20])\n",
    "train_dl = DataLoader(train_ds, batch_size=64, collate_fn=collate_fn)#, prefetch_factor=4, num_workers=8, persistent_workers=True)\n",
    "val_dl = DataLoader(val_ds, batch_size=64, collate_fn=collate_fn)#, prefetch_factor=4, num_workers=8, persistent_workers=True)"
   ]
  },
  {
   "cell_type": "code",
   "execution_count": 4,
   "metadata": {},
   "outputs": [
    {
     "data": {
      "text/plain": [
       "(torch.Size([10, 2050, 376]), torch.Size([1, 10, 128]))"
      ]
     },
     "execution_count": 4,
     "metadata": {},
     "output_type": "execute_result"
    }
   ],
   "source": [
    "from models import PyLSTM, PyRNN, PyTransformer\n",
    "            \n",
    "# model = PyRNN(len(ds.tokenizer), 128, 1)\n",
    "# out, h = model(next(iter(train_dl)))\n",
    "# out.shape, h.shape\n",
    "\n",
    "model = PyLSTM(len(ds.tokenizer), 128, 1)\n",
    "out, (h, c) = model(next(iter(train_dl)))\n",
    "out.shape, h.shape\n",
    "\n",
    "# Define parameters\n",
    "# vocab_size = len(ds.tokenizer)\n",
    "# d_model = 512\n",
    "# d_feedforward = 512\n",
    "# num_attn_heads = 8\n",
    "# num_decoder_layers = 4\n",
    "# context_window_size = 512\n",
    "# dropout = 0.1\n",
    "\n",
    "# # Initialize the model\n",
    "# model = PyTransformer(\n",
    "#     vocab_size=vocab_size,\n",
    "#     d_model=d_model,\n",
    "#     d_feedforward=d_feedforward,\n",
    "#     num_attn_heads=num_attn_heads,\n",
    "#     num_decoder_layers=num_decoder_layers,\n",
    "#     context_window_size=context_window_size,\n",
    "#     dropout=dropout\n",
    "# )\n",
    "\n",
    "# out = model(next(iter(train_dl)),  next(iter(train_dl)))\n",
    "# out.shape"
   ]
  },
  {
   "cell_type": "code",
   "execution_count": 5,
   "metadata": {},
   "outputs": [
    {
     "name": "stderr",
     "output_type": "stream",
     "text": [
      "Epoch 1/1 Training: 100%|██████████| 1/1 [00:00<00:00,  1.51it/s, loss=5.922002]\n"
     ]
    }
   ],
   "source": [
    "from tqdm import tqdm\n",
    "import wandb\n",
    "\n",
    "EPOCHS = 1\n",
    "LR = 1e-3\n",
    "DEVICE = \"cuda\" if torch.cuda.is_available() else \"cpu\"\n",
    "\n",
    "\n",
    "criterion = nn.CrossEntropyLoss(ignore_index=PAD_ID) # <PAD> tokens do not contribute to the loss\n",
    "optim = torch.optim.Adam(model.parameters(), lr=LR)\n",
    "\n",
    "model.train()\n",
    "for epoch in range(EPOCHS):\n",
    "    train_tqdm = tqdm(train_dl, desc=f\"Epoch {epoch + 1}/{EPOCHS} Training\")\n",
    "    total_train_loss = 0\n",
    "\n",
    "    # Training loop\n",
    "    for batch in train_tqdm:\n",
    "        batch = batch.to(DEVICE)\n",
    "        x = batch[..., :-1]\n",
    "        y = batch[..., 1:]\n",
    "        y_hat, _ = model(x)\n",
    "        loss = criterion(y_hat.reshape(-1, len(ds.tokenizer)), y.reshape(-1))\n",
    "\n",
    "        optim.zero_grad()\n",
    "        loss.backward()\n",
    "        optim.step()\n",
    "\n",
    "        train_loss = loss.detach().cpu().numpy()\n",
    "        total_train_loss += train_loss\n",
    "        train_tqdm.set_postfix({\"loss\": train_loss})\n",
    "\n"
   ]
  },
  {
   "cell_type": "markdown",
   "metadata": {},
   "source": [
    "### Test Generation"
   ]
  },
  {
   "cell_type": "code",
   "execution_count": 6,
   "metadata": {},
   "outputs": [
    {
     "data": {
      "text/plain": [
       "[]"
      ]
     },
     "execution_count": 6,
     "metadata": {},
     "output_type": "execute_result"
    }
   ],
   "source": [
    "#model.generate(max_len=10, starting_tokens=[0, 0, 0], nucleus_threshold=0.3, temperature=0.00000000001)\n",
    "model.generate(max_len=10, starting_tokens=[0, 0, 0]) "
   ]
  },
  {
   "cell_type": "markdown",
   "metadata": {},
   "source": [
    "## Evaluate"
   ]
  },
  {
   "cell_type": "code",
   "execution_count": 29,
   "metadata": {},
   "outputs": [
    {
     "name": "stderr",
     "output_type": "stream",
     "text": [
      "100%|██████████| 1/1 [00:00<00:00, 48.17it/s]"
     ]
    },
    {
     "name": "stdout",
     "output_type": "stream",
     "text": [
      "The programs listed have a score of 100.00%, lower is better\n",
      "Average BLEU score: 0.0\n"
     ]
    },
    {
     "name": "stderr",
     "output_type": "stream",
     "text": [
      "\n"
     ]
    }
   ],
   "source": [
    "from utils import metrics\n",
    "import numpy as np\n",
    "import torch\n",
    "from tqdm import tqdm\n",
    "\n",
    "def evaluate_model(model, val_dl, tokenizer, input_len=1000, output_len=10):\n",
    "    total_len = input_len + output_len\n",
    "\n",
    "    bleu_scores = []\n",
    "    gens = []\n",
    "\n",
    "    with torch.no_grad():\n",
    "        for batch in tqdm(val_dl):\n",
    "            x = batch[..., :-input_len]\n",
    "            y = batch[..., input_len:total_len]\n",
    "\n",
    "            gen = model.generate(max_len=output_len, starting_tokens=x[0].tolist())\n",
    "            gens.append(gen)\n",
    "            y_hat = gen[-output_len:]\n",
    "\n",
    "            bleu_scores.append(metrics.bleu_score(y_hat, y))\n",
    "\n",
    "    programs = [tokenizer.detokenize(gen) for gen in gens]\n",
    "    syntax_error_score = metrics.syntax_error_score(programs)\n",
    "    avg_bleu = np.mean(bleu_scores)\n",
    "\n",
    "    print(f\"The programs listed have a score of {syntax_error_score:.2%}, lower is better\")\n",
    "    print(f\"Average BLEU score: {avg_bleu}\")\n",
    "\n",
    "\n",
    "evaluate_model(model, val_dl, ds.tokenizer)\n"
   ]
  }
 ],
 "metadata": {
  "kernelspec": {
   "display_name": "pygpt-venv",
   "language": "python",
   "name": "python3"
  },
  "language_info": {
   "codemirror_mode": {
    "name": "ipython",
    "version": 3
   },
   "file_extension": ".py",
   "mimetype": "text/x-python",
   "name": "python",
   "nbconvert_exporter": "python",
   "pygments_lexer": "ipython3",
   "version": "3.11.6"
  }
 },
 "nbformat": 4,
 "nbformat_minor": 2
}
