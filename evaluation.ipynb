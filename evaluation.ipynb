{
 "cells": [
  {
   "cell_type": "code",
   "execution_count": 1,
   "metadata": {},
   "outputs": [],
   "source": [
    "%load_ext autoreload\n",
    "%autoreload 2\n",
    "\n",
    "from utils import Py150kDataset\n",
    "\n",
    "import torch\n",
    "import torch.nn as nn\n",
    "import torch.nn.functional as F\n",
    "from torch.utils.data import DataLoader\n"
   ]
  },
  {
   "cell_type": "code",
   "execution_count": 2,
   "metadata": {},
   "outputs": [],
   "source": [
    "ds = Py150kDataset(\"train\", \"py150k\")"
   ]
  },
  {
   "cell_type": "code",
   "execution_count": 4,
   "metadata": {},
   "outputs": [
    {
     "data": {
      "text/plain": [
       "PyRNN(\n",
       "  (embed): PyEmbedding()\n",
       "  (rnn): PyRNN(\n",
       "    (WI): ParameterList(  (0): Parameter containing: [torch.float32 of size 256x256])\n",
       "    (BI): ParameterList(  (0): Parameter containing: [torch.float32 of size 256])\n",
       "    (WH): ParameterList(  (0): Parameter containing: [torch.float32 of size 256x256])\n",
       "    (BH): ParameterList(  (0): Parameter containing: [torch.float32 of size 256])\n",
       "  )\n",
       "  (linear): Linear(in_features=256, out_features=376, bias=True)\n",
       ")"
      ]
     },
     "execution_count": 4,
     "metadata": {},
     "output_type": "execute_result"
    }
   ],
   "source": [
    "from models import load_config, model_from_config\n",
    "\n",
    "config = load_config(\"rnn_small\")\n",
    "model = model_from_config(config)\n",
    "\n",
    "model"
   ]
  },
  {
   "cell_type": "code",
   "execution_count": 10,
   "metadata": {},
   "outputs": [],
   "source": [
    "import numpy as np\n",
    "from utils.metrics import bleu_score, syntax_error_score\n",
    "\n",
    "x_val = torch.randn(32, 2048).long()\n",
    "\n",
    "\n",
    "bleu_scores = []\n",
    "context = int(0.75 * 2048)\n",
    "x = x_val[:, :context]\n",
    "y = x_val[:, context:]\n",
    "y_hat = model.generate(32, max_len=2048, starting_tokens=x)\n",
    "for i in range(32):\n",
    "    bleu_scores.append(bleu_score(y[i].tolist(), y_hat[i]))\n",
    "            \n",
    "gen = model.generate(32, max_len=200)\n",
    "programs = [ds.tokenizer.detokenize(gen_seq) for gen_seq in gen]\n",
    "syntax_score = syntax_error_score(programs)"
   ]
  },
  {
   "cell_type": "code",
   "execution_count": 11,
   "metadata": {},
   "outputs": [
    {
     "data": {
      "text/plain": [
       "(1.0, 0.0)"
      ]
     },
     "execution_count": 11,
     "metadata": {},
     "output_type": "execute_result"
    }
   ],
   "source": [
    "syntax_score, np.mean(bleu_scores)"
   ]
  },
  {
   "cell_type": "code",
   "execution_count": 25,
   "metadata": {},
   "outputs": [],
   "source": [
    "batch = torch.randint(0, len(ds.tokenizer), (2, 5)).to(DEVICE)\n",
    "\n",
    "texts = model.generate(2, starting_tokens=batch[:,:3], max_len=10) "
   ]
  },
  {
   "cell_type": "code",
   "execution_count": 18,
   "metadata": {},
   "outputs": [
    {
     "data": {
      "text/plain": [
       "[157,\n",
       " 9,\n",
       " 61,\n",
       " 275,\n",
       " 20,\n",
       " 434,\n",
       " 331,\n",
       " 406,\n",
       " 26,\n",
       " 803,\n",
       " 91,\n",
       " 151,\n",
       " 895,\n",
       " 173,\n",
       " 173,\n",
       " 756,\n",
       " 285,\n",
       " 32,\n",
       " 88,\n",
       " 297,\n",
       " 374,\n",
       " 200,\n",
       " 457,\n",
       " 68,\n",
       " 599,\n",
       " 97,\n",
       " 133,\n",
       " 153,\n",
       " 7,\n",
       " 73,\n",
       " 393,\n",
       " 395]"
      ]
     },
     "execution_count": 18,
     "metadata": {},
     "output_type": "execute_result"
    }
   ],
   "source": [
    "[len(seq) for seq in texts]"
   ]
  },
  {
   "cell_type": "markdown",
   "metadata": {},
   "source": [
    "## Evaluate"
   ]
  },
  {
   "cell_type": "code",
   "execution_count": null,
   "metadata": {},
   "outputs": [
    {
     "name": "stderr",
     "output_type": "stream",
     "text": [
      "100%|██████████| 1/1 [00:00<00:00, 48.17it/s]"
     ]
    },
    {
     "name": "stdout",
     "output_type": "stream",
     "text": [
      "The programs listed have a score of 100.00%, lower is better\n",
      "Average BLEU score: 0.0\n"
     ]
    },
    {
     "name": "stderr",
     "output_type": "stream",
     "text": [
      "\n"
     ]
    }
   ],
   "source": [
    "from utils import metrics\n",
    "import numpy as np\n",
    "import torch\n",
    "from tqdm import tqdm\n",
    "\n",
    "def evaluate_model(model, val_dl, tokenizer, input_len=1000, output_len=10):\n",
    "    total_len = input_len + output_len\n",
    "\n",
    "    bleu_scores = []\n",
    "    gens = []\n",
    "\n",
    "    with torch.no_grad():\n",
    "        for batch in tqdm(val_dl):\n",
    "            x = batch[..., :-input_len]\n",
    "            y = batch[..., input_len:total_len]\n",
    "\n",
    "            gen = model.generate(max_len=output_len, starting_tokens=x[0].tolist())\n",
    "            gens.append(gen)\n",
    "            y_hat = gen[-output_len:]\n",
    "\n",
    "            bleu_scores.append(metrics.bleu_score(y_hat, y))\n",
    "\n",
    "    programs = [tokenizer.detokenize(gen) for gen in gens]\n",
    "    syntax_error_score = metrics.syntax_error_score(programs)\n",
    "    avg_bleu = np.mean(bleu_scores)\n",
    "\n",
    "    print(f\"The programs listed have a score of {syntax_error_score:.2%}, lower is better\")\n",
    "    print(f\"Average BLEU score: {avg_bleu}\")\n",
    "\n",
    "\n",
    "evaluate_model(model, val_dl, ds.tokenizer)\n"
   ]
  }
 ],
 "metadata": {
  "kernelspec": {
   "display_name": "pygpt-venv",
   "language": "python",
   "name": "python3"
  },
  "language_info": {
   "codemirror_mode": {
    "name": "ipython",
    "version": 3
   },
   "file_extension": ".py",
   "mimetype": "text/x-python",
   "name": "python",
   "nbconvert_exporter": "python",
   "pygments_lexer": "ipython3",
   "version": "3.11.9"
  }
 },
 "nbformat": 4,
 "nbformat_minor": 2
}
